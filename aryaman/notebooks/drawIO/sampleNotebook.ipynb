{
 "cells": [
  {
   "cell_type": "code",
   "execution_count": 1,
   "metadata": {},
   "outputs": [],
   "source": [
    "import numpy as np\n",
    "import pandas as pd\n",
    "import matplotlib.pyplot as plt\n",
    "import seaborn as sns\n",
    "import pickle\n",
    "import aryaman.scripts.utils.category_utils as cu\n",
    "from aryaman.scripts.category.category  import category\n",
    "from aryaman.scripts.global_vars import *\n"
   ]
  },
  {
   "cell_type": "code",
   "execution_count": 3,
   "metadata": {},
   "outputs": [],
   "source": [
    "root = cu.load_tree_obj()"
   ]
  },
  {
   "cell_type": "code",
   "execution_count": 4,
   "metadata": {},
   "outputs": [
    {
     "data": {
      "text/html": [
       "<div>\n",
       "<style scoped>\n",
       "    .dataframe tbody tr th:only-of-type {\n",
       "        vertical-align: middle;\n",
       "    }\n",
       "\n",
       "    .dataframe tbody tr th {\n",
       "        vertical-align: top;\n",
       "    }\n",
       "\n",
       "    .dataframe thead th {\n",
       "        text-align: right;\n",
       "    }\n",
       "</style>\n",
       "<table border=\"1\" class=\"dataframe\">\n",
       "  <thead>\n",
       "    <tr style=\"text-align: right;\">\n",
       "      <th></th>\n",
       "      <th>name</th>\n",
       "    </tr>\n",
       "  </thead>\n",
       "  <tbody>\n",
       "    <tr>\n",
       "      <th>0</th>\n",
       "      <td>Wearable Technology</td>\n",
       "    </tr>\n",
       "    <tr>\n",
       "      <th>1</th>\n",
       "      <td>Light Bulbs</td>\n",
       "    </tr>\n",
       "    <tr>\n",
       "      <th>2</th>\n",
       "      <td>Heating, Cooling &amp; Air Quality</td>\n",
       "    </tr>\n",
       "    <tr>\n",
       "      <th>3</th>\n",
       "      <td>Lab &amp; Scientific Products</td>\n",
       "    </tr>\n",
       "    <tr>\n",
       "      <th>4</th>\n",
       "      <td>Hardware</td>\n",
       "    </tr>\n",
       "    <tr>\n",
       "      <th>...</th>\n",
       "      <td>...</td>\n",
       "    </tr>\n",
       "    <tr>\n",
       "      <th>79</th>\n",
       "      <td>Coffee, Tea &amp; Espresso</td>\n",
       "    </tr>\n",
       "    <tr>\n",
       "      <th>80</th>\n",
       "      <td>Digital Cameras</td>\n",
       "    </tr>\n",
       "    <tr>\n",
       "      <th>81</th>\n",
       "      <td>Film Cameras</td>\n",
       "    </tr>\n",
       "    <tr>\n",
       "      <th>82</th>\n",
       "      <td>Binoculars, Telescopes &amp; Optics</td>\n",
       "    </tr>\n",
       "    <tr>\n",
       "      <th>83</th>\n",
       "      <td>GPS, Finders &amp; Accessories</td>\n",
       "    </tr>\n",
       "  </tbody>\n",
       "</table>\n",
       "<p>84 rows × 1 columns</p>\n",
       "</div>"
      ],
      "text/plain": [
       "                               name\n",
       "0               Wearable Technology\n",
       "1                       Light Bulbs\n",
       "2    Heating, Cooling & Air Quality\n",
       "3         Lab & Scientific Products\n",
       "4                          Hardware\n",
       "..                              ...\n",
       "79           Coffee, Tea & Espresso\n",
       "80                  Digital Cameras\n",
       "81                     Film Cameras\n",
       "82  Binoculars, Telescopes & Optics\n",
       "83       GPS, Finders & Accessories\n",
       "\n",
       "[84 rows x 1 columns]"
      ]
     },
     "execution_count": 4,
     "metadata": {},
     "output_type": "execute_result"
    }
   ],
   "source": [
    "# x = pd.read_csv(get_path_to_identified_categories_UK(),names=['name'])\n",
    "# x"
   ]
  },
  {
   "cell_type": "code",
   "execution_count": 5,
   "metadata": {},
   "outputs": [],
   "source": [
    "y = x['name'].apply(cu.map_name_to_id)"
   ]
  },
  {
   "cell_type": "code",
   "execution_count": 6,
   "metadata": {},
   "outputs": [
    {
     "data": {
      "text/plain": [
       "pandas.core.series.Series"
      ]
     },
     "execution_count": 6,
     "metadata": {},
     "output_type": "execute_result"
    }
   ],
   "source": [
    "type(y)"
   ]
  },
  {
   "cell_type": "code",
   "execution_count": 7,
   "metadata": {},
   "outputs": [
    {
     "data": {
      "text/plain": [
       "0     [11151]\n",
       "1     [22947]\n",
       "2     [14072]\n",
       "3     [15611]\n",
       "4     [22943]\n",
       "       ...   \n",
       "79    [14795]\n",
       "80    [11161]\n",
       "81    [11251]\n",
       "82    [11155]\n",
       "83    [11140]\n",
       "Name: name, Length: 84, dtype: object"
      ]
     },
     "execution_count": 7,
     "metadata": {},
     "output_type": "execute_result"
    }
   ],
   "source": [
    "y"
   ]
  },
  {
   "cell_type": "code",
   "execution_count": 11,
   "metadata": {},
   "outputs": [
    {
     "name": "stdout",
     "output_type": "stream",
     "text": [
      "[3808, 20]\n",
      "  main_category     sub_category_1\n",
      "0         Books  Sports & Outdoors\n",
      "       main_category\n",
      "0  Sports & Outdoors\n",
      "[5308, 19134]\n",
      "  main_category          sub_category_1   sub_category_2\n",
      "0         Books  Cookbooks, Food & Wine  Outdoor Cooking\n",
      "          main_category   sub_category_1\n",
      "0  Patio, Lawn & Garden  Outdoor Cooking\n"
     ]
    }
   ],
   "source": [
    "for val in y:\n",
    "    if len(val) > 1:\n",
    "        print(val)\n",
    "        print(cu.getMainAndSubCategoriesListings(root,category_id = val[0]))\n",
    "        print(cu.getMainAndSubCategoriesListings(root,category_id = val[1]))\n",
    "\n",
    "y = pd.concat([y,pd.Series([[20],[19134]])])"
   ]
  },
  {
   "cell_type": "code",
   "execution_count": 9,
   "metadata": {},
   "outputs": [],
   "source": [
    "y.reset_index(inplace=True,drop=True)"
   ]
  },
  {
   "cell_type": "code",
   "execution_count": 10,
   "metadata": {},
   "outputs": [],
   "source": [
    "y = y.apply(lambda x : x[0])"
   ]
  },
  {
   "cell_type": "code",
   "execution_count": 11,
   "metadata": {},
   "outputs": [
    {
     "data": {
      "text/plain": [
       "0     11151\n",
       "1     22947\n",
       "2     14072\n",
       "3     15611\n",
       "4     22943\n",
       "      ...  \n",
       "81    11251\n",
       "82    11155\n",
       "83    11140\n",
       "84       20\n",
       "85    19134\n",
       "Length: 86, dtype: int64"
      ]
     },
     "execution_count": 11,
     "metadata": {},
     "output_type": "execute_result"
    }
   ],
   "source": [
    "y"
   ]
  },
  {
   "cell_type": "code",
   "execution_count": 12,
   "metadata": {},
   "outputs": [],
   "source": [
    "depths = y.apply(lambda x:cu.findDepth(root,x))"
   ]
  },
  {
   "cell_type": "code",
   "execution_count": 13,
   "metadata": {},
   "outputs": [],
   "source": [
    "df = pd.DataFrame({'id':y,'depth':depths})"
   ]
  },
  {
   "cell_type": "code",
   "execution_count": 14,
   "metadata": {},
   "outputs": [
    {
     "data": {
      "text/html": [
       "<div>\n",
       "<style scoped>\n",
       "    .dataframe tbody tr th:only-of-type {\n",
       "        vertical-align: middle;\n",
       "    }\n",
       "\n",
       "    .dataframe tbody tr th {\n",
       "        vertical-align: top;\n",
       "    }\n",
       "\n",
       "    .dataframe thead th {\n",
       "        text-align: right;\n",
       "    }\n",
       "</style>\n",
       "<table border=\"1\" class=\"dataframe\">\n",
       "  <thead>\n",
       "    <tr style=\"text-align: right;\">\n",
       "      <th></th>\n",
       "      <th>id</th>\n",
       "      <th>depth</th>\n",
       "    </tr>\n",
       "  </thead>\n",
       "  <tbody>\n",
       "    <tr>\n",
       "      <th>7</th>\n",
       "      <td>3945</td>\n",
       "      <td>5</td>\n",
       "    </tr>\n",
       "    <tr>\n",
       "      <th>10</th>\n",
       "      <td>21071</td>\n",
       "      <td>5</td>\n",
       "    </tr>\n",
       "    <tr>\n",
       "      <th>11</th>\n",
       "      <td>21033</td>\n",
       "      <td>6</td>\n",
       "    </tr>\n",
       "    <tr>\n",
       "      <th>17</th>\n",
       "      <td>11416</td>\n",
       "      <td>5</td>\n",
       "    </tr>\n",
       "    <tr>\n",
       "      <th>28</th>\n",
       "      <td>21023</td>\n",
       "      <td>5</td>\n",
       "    </tr>\n",
       "    <tr>\n",
       "      <th>34</th>\n",
       "      <td>11405</td>\n",
       "      <td>5</td>\n",
       "    </tr>\n",
       "    <tr>\n",
       "      <th>35</th>\n",
       "      <td>11409</td>\n",
       "      <td>5</td>\n",
       "    </tr>\n",
       "    <tr>\n",
       "      <th>37</th>\n",
       "      <td>19056</td>\n",
       "      <td>5</td>\n",
       "    </tr>\n",
       "    <tr>\n",
       "      <th>51</th>\n",
       "      <td>11407</td>\n",
       "      <td>5</td>\n",
       "    </tr>\n",
       "    <tr>\n",
       "      <th>52</th>\n",
       "      <td>11422</td>\n",
       "      <td>5</td>\n",
       "    </tr>\n",
       "    <tr>\n",
       "      <th>66</th>\n",
       "      <td>21068</td>\n",
       "      <td>5</td>\n",
       "    </tr>\n",
       "    <tr>\n",
       "      <th>67</th>\n",
       "      <td>21067</td>\n",
       "      <td>5</td>\n",
       "    </tr>\n",
       "    <tr>\n",
       "      <th>68</th>\n",
       "      <td>21035</td>\n",
       "      <td>6</td>\n",
       "    </tr>\n",
       "    <tr>\n",
       "      <th>76</th>\n",
       "      <td>11406</td>\n",
       "      <td>5</td>\n",
       "    </tr>\n",
       "    <tr>\n",
       "      <th>77</th>\n",
       "      <td>11421</td>\n",
       "      <td>5</td>\n",
       "    </tr>\n",
       "  </tbody>\n",
       "</table>\n",
       "</div>"
      ],
      "text/plain": [
       "       id  depth\n",
       "7    3945      5\n",
       "10  21071      5\n",
       "11  21033      6\n",
       "17  11416      5\n",
       "28  21023      5\n",
       "34  11405      5\n",
       "35  11409      5\n",
       "37  19056      5\n",
       "51  11407      5\n",
       "52  11422      5\n",
       "66  21068      5\n",
       "67  21067      5\n",
       "68  21035      6\n",
       "76  11406      5\n",
       "77  11421      5"
      ]
     },
     "execution_count": 14,
     "metadata": {},
     "output_type": "execute_result"
    }
   ],
   "source": [
    "flagged_Ids = df[df['depth'].isin([5,6])]\n",
    "flagged_Ids"
   ]
  },
  {
   "cell_type": "code",
   "execution_count": 15,
   "metadata": {},
   "outputs": [],
   "source": [
    "empty_df = pd.DataFrame()\n",
    "for num in flagged_Ids['id']:\n",
    "    empty_df = pd.concat([empty_df,cu.getMainAndSubCategoriesListings(root,category_id=num)])"
   ]
  },
  {
   "cell_type": "code",
   "execution_count": 16,
   "metadata": {},
   "outputs": [
    {
     "data": {
      "text/html": [
       "<div>\n",
       "<style scoped>\n",
       "    .dataframe tbody tr th:only-of-type {\n",
       "        vertical-align: middle;\n",
       "    }\n",
       "\n",
       "    .dataframe tbody tr th {\n",
       "        vertical-align: top;\n",
       "    }\n",
       "\n",
       "    .dataframe thead th {\n",
       "        text-align: right;\n",
       "    }\n",
       "</style>\n",
       "<table border=\"1\" class=\"dataframe\">\n",
       "  <thead>\n",
       "    <tr style=\"text-align: right;\">\n",
       "      <th></th>\n",
       "      <th>main_category</th>\n",
       "      <th>sub_category_1</th>\n",
       "      <th>sub_category_2</th>\n",
       "      <th>sub_category_3</th>\n",
       "      <th>sub_category_4</th>\n",
       "      <th>sub_category_5</th>\n",
       "    </tr>\n",
       "  </thead>\n",
       "  <tbody>\n",
       "    <tr>\n",
       "      <th>0</th>\n",
       "      <td>Books</td>\n",
       "      <td>Arts &amp; Photography</td>\n",
       "      <td>Music</td>\n",
       "      <td>Musical Instruments</td>\n",
       "      <td>String Instruments</td>\n",
       "      <td>NaN</td>\n",
       "    </tr>\n",
       "    <tr>\n",
       "      <th>0</th>\n",
       "      <td>Sports &amp; Outdoors</td>\n",
       "      <td>Outdoor Recreation</td>\n",
       "      <td>Winter Sports Equipment</td>\n",
       "      <td>Snowboarding Equipment</td>\n",
       "      <td>Snowboards</td>\n",
       "      <td>NaN</td>\n",
       "    </tr>\n",
       "    <tr>\n",
       "      <th>0</th>\n",
       "      <td>Sports &amp; Outdoors</td>\n",
       "      <td>Outdoor Recreation</td>\n",
       "      <td>Winter Sports Equipment</td>\n",
       "      <td>Snow Skiing Equipment</td>\n",
       "      <td>Downhill Ski Equipment</td>\n",
       "      <td>Downhill Ski Boots</td>\n",
       "    </tr>\n",
       "    <tr>\n",
       "      <th>0</th>\n",
       "      <td>Electronics</td>\n",
       "      <td>Computers &amp; Accessories</td>\n",
       "      <td>Computer Components</td>\n",
       "      <td>Computer Internal Components</td>\n",
       "      <td>Computer Memory</td>\n",
       "      <td>NaN</td>\n",
       "    </tr>\n",
       "    <tr>\n",
       "      <th>0</th>\n",
       "      <td>Sports &amp; Outdoors</td>\n",
       "      <td>Outdoor Recreation</td>\n",
       "      <td>Winter Sports Equipment</td>\n",
       "      <td>Snow Skiing Equipment</td>\n",
       "      <td>Ski Clothing</td>\n",
       "      <td>NaN</td>\n",
       "    </tr>\n",
       "    <tr>\n",
       "      <th>0</th>\n",
       "      <td>Electronics</td>\n",
       "      <td>Computers &amp; Accessories</td>\n",
       "      <td>Computer Components</td>\n",
       "      <td>Computer External Components</td>\n",
       "      <td>Computer Cases</td>\n",
       "      <td>NaN</td>\n",
       "    </tr>\n",
       "    <tr>\n",
       "      <th>0</th>\n",
       "      <td>Electronics</td>\n",
       "      <td>Computers &amp; Accessories</td>\n",
       "      <td>Computer Components</td>\n",
       "      <td>Computer External Components</td>\n",
       "      <td>KVM Switches</td>\n",
       "      <td>NaN</td>\n",
       "    </tr>\n",
       "    <tr>\n",
       "      <th>0</th>\n",
       "      <td>Office Products</td>\n",
       "      <td>Office Electronics Products</td>\n",
       "      <td>Printers &amp; Accessories</td>\n",
       "      <td>Computer Printers</td>\n",
       "      <td>Photo Printers</td>\n",
       "      <td>NaN</td>\n",
       "    </tr>\n",
       "    <tr>\n",
       "      <th>0</th>\n",
       "      <td>Electronics</td>\n",
       "      <td>Computers &amp; Accessories</td>\n",
       "      <td>Computer Components</td>\n",
       "      <td>Computer External Components</td>\n",
       "      <td>External Sound Cards</td>\n",
       "      <td>NaN</td>\n",
       "    </tr>\n",
       "    <tr>\n",
       "      <th>0</th>\n",
       "      <td>Electronics</td>\n",
       "      <td>Computers &amp; Accessories</td>\n",
       "      <td>Computer Components</td>\n",
       "      <td>Computer Internal Components</td>\n",
       "      <td>Internal TV Tuner &amp; Video Capture Cards</td>\n",
       "      <td>NaN</td>\n",
       "    </tr>\n",
       "    <tr>\n",
       "      <th>0</th>\n",
       "      <td>Sports &amp; Outdoors</td>\n",
       "      <td>Outdoor Recreation</td>\n",
       "      <td>Winter Sports Equipment</td>\n",
       "      <td>Snowboarding Equipment</td>\n",
       "      <td>Snowboard Boots</td>\n",
       "      <td>NaN</td>\n",
       "    </tr>\n",
       "    <tr>\n",
       "      <th>0</th>\n",
       "      <td>Sports &amp; Outdoors</td>\n",
       "      <td>Outdoor Recreation</td>\n",
       "      <td>Winter Sports Equipment</td>\n",
       "      <td>Snowboarding Equipment</td>\n",
       "      <td>Snowboard Bindings</td>\n",
       "      <td>NaN</td>\n",
       "    </tr>\n",
       "    <tr>\n",
       "      <th>0</th>\n",
       "      <td>Sports &amp; Outdoors</td>\n",
       "      <td>Outdoor Recreation</td>\n",
       "      <td>Winter Sports Equipment</td>\n",
       "      <td>Snow Skiing Equipment</td>\n",
       "      <td>Downhill Ski Equipment</td>\n",
       "      <td>Downhill Skis</td>\n",
       "    </tr>\n",
       "    <tr>\n",
       "      <th>0</th>\n",
       "      <td>Electronics</td>\n",
       "      <td>Computers &amp; Accessories</td>\n",
       "      <td>Computer Components</td>\n",
       "      <td>Computer External Components</td>\n",
       "      <td>External Optical Drives</td>\n",
       "      <td>NaN</td>\n",
       "    </tr>\n",
       "    <tr>\n",
       "      <th>0</th>\n",
       "      <td>Electronics</td>\n",
       "      <td>Computers &amp; Accessories</td>\n",
       "      <td>Computer Components</td>\n",
       "      <td>Computer Internal Components</td>\n",
       "      <td>Internal Optical Drives</td>\n",
       "      <td>NaN</td>\n",
       "    </tr>\n",
       "  </tbody>\n",
       "</table>\n",
       "</div>"
      ],
      "text/plain": [
       "       main_category               sub_category_1           sub_category_2  \\\n",
       "0              Books           Arts & Photography                    Music   \n",
       "0  Sports & Outdoors           Outdoor Recreation  Winter Sports Equipment   \n",
       "0  Sports & Outdoors           Outdoor Recreation  Winter Sports Equipment   \n",
       "0        Electronics      Computers & Accessories      Computer Components   \n",
       "0  Sports & Outdoors           Outdoor Recreation  Winter Sports Equipment   \n",
       "0        Electronics      Computers & Accessories      Computer Components   \n",
       "0        Electronics      Computers & Accessories      Computer Components   \n",
       "0    Office Products  Office Electronics Products   Printers & Accessories   \n",
       "0        Electronics      Computers & Accessories      Computer Components   \n",
       "0        Electronics      Computers & Accessories      Computer Components   \n",
       "0  Sports & Outdoors           Outdoor Recreation  Winter Sports Equipment   \n",
       "0  Sports & Outdoors           Outdoor Recreation  Winter Sports Equipment   \n",
       "0  Sports & Outdoors           Outdoor Recreation  Winter Sports Equipment   \n",
       "0        Electronics      Computers & Accessories      Computer Components   \n",
       "0        Electronics      Computers & Accessories      Computer Components   \n",
       "\n",
       "                 sub_category_3                           sub_category_4  \\\n",
       "0           Musical Instruments                       String Instruments   \n",
       "0        Snowboarding Equipment                               Snowboards   \n",
       "0         Snow Skiing Equipment                   Downhill Ski Equipment   \n",
       "0  Computer Internal Components                          Computer Memory   \n",
       "0         Snow Skiing Equipment                             Ski Clothing   \n",
       "0  Computer External Components                           Computer Cases   \n",
       "0  Computer External Components                             KVM Switches   \n",
       "0             Computer Printers                           Photo Printers   \n",
       "0  Computer External Components                     External Sound Cards   \n",
       "0  Computer Internal Components  Internal TV Tuner & Video Capture Cards   \n",
       "0        Snowboarding Equipment                          Snowboard Boots   \n",
       "0        Snowboarding Equipment                       Snowboard Bindings   \n",
       "0         Snow Skiing Equipment                   Downhill Ski Equipment   \n",
       "0  Computer External Components                  External Optical Drives   \n",
       "0  Computer Internal Components                  Internal Optical Drives   \n",
       "\n",
       "       sub_category_5  \n",
       "0                 NaN  \n",
       "0                 NaN  \n",
       "0  Downhill Ski Boots  \n",
       "0                 NaN  \n",
       "0                 NaN  \n",
       "0                 NaN  \n",
       "0                 NaN  \n",
       "0                 NaN  \n",
       "0                 NaN  \n",
       "0                 NaN  \n",
       "0                 NaN  \n",
       "0                 NaN  \n",
       "0       Downhill Skis  \n",
       "0                 NaN  \n",
       "0                 NaN  "
      ]
     },
     "execution_count": 16,
     "metadata": {},
     "output_type": "execute_result"
    }
   ],
   "source": [
    "empty_df"
   ]
  },
  {
   "cell_type": "code",
   "execution_count": 17,
   "metadata": {},
   "outputs": [
    {
     "data": {
      "text/plain": [
       "7     5\n",
       "10    5\n",
       "11    6\n",
       "17    5\n",
       "28    5\n",
       "34    5\n",
       "35    5\n",
       "37    5\n",
       "51    5\n",
       "52    5\n",
       "66    5\n",
       "67    5\n",
       "68    6\n",
       "76    5\n",
       "77    5\n",
       "dtype: int64"
      ]
     },
     "execution_count": 17,
     "metadata": {},
     "output_type": "execute_result"
    }
   ],
   "source": [
    "depths[depths.isin([5,6])]"
   ]
  },
  {
   "cell_type": "code",
   "execution_count": 18,
   "metadata": {},
   "outputs": [
    {
     "data": {
      "text/html": [
       "<div>\n",
       "<style scoped>\n",
       "    .dataframe tbody tr th:only-of-type {\n",
       "        vertical-align: middle;\n",
       "    }\n",
       "\n",
       "    .dataframe tbody tr th {\n",
       "        vertical-align: top;\n",
       "    }\n",
       "\n",
       "    .dataframe thead th {\n",
       "        text-align: right;\n",
       "    }\n",
       "</style>\n",
       "<table border=\"1\" class=\"dataframe\">\n",
       "  <thead>\n",
       "    <tr style=\"text-align: right;\">\n",
       "      <th></th>\n",
       "      <th>id</th>\n",
       "      <th>depth</th>\n",
       "    </tr>\n",
       "  </thead>\n",
       "  <tbody>\n",
       "    <tr>\n",
       "      <th>12</th>\n",
       "      <td>19</td>\n",
       "      <td>1</td>\n",
       "    </tr>\n",
       "    <tr>\n",
       "      <th>84</th>\n",
       "      <td>20</td>\n",
       "      <td>1</td>\n",
       "    </tr>\n",
       "  </tbody>\n",
       "</table>\n",
       "</div>"
      ],
      "text/plain": [
       "    id  depth\n",
       "12  19      1\n",
       "84  20      1"
      ]
     },
     "execution_count": 18,
     "metadata": {},
     "output_type": "execute_result"
    }
   ],
   "source": [
    "df[df['depth']==1]"
   ]
  },
  {
   "cell_type": "code",
   "execution_count": 19,
   "metadata": {},
   "outputs": [
    {
     "data": {
      "text/plain": [
       "'Pet Supplies'"
      ]
     },
     "execution_count": 19,
     "metadata": {},
     "output_type": "execute_result"
    }
   ],
   "source": [
    "cu.map_id_to_name(19)"
   ]
  },
  {
   "cell_type": "code",
   "execution_count": 20,
   "metadata": {},
   "outputs": [
    {
     "data": {
      "text/plain": [
       "'Sports & Outdoors'"
      ]
     },
     "execution_count": 20,
     "metadata": {},
     "output_type": "execute_result"
    }
   ],
   "source": [
    "cu.map_id_to_name(20)"
   ]
  },
  {
   "cell_type": "code",
   "execution_count": 21,
   "metadata": {},
   "outputs": [],
   "source": [
    "final_df = pd.DataFrame()\n",
    "for num in df['id']:\n",
    "    final_df = pd.concat([final_df,cu.getMainAndSubCategoriesListings(root,category_id=num)])"
   ]
  },
  {
   "cell_type": "code",
   "execution_count": 22,
   "metadata": {},
   "outputs": [
    {
     "data": {
      "text/plain": [
       "(11,)"
      ]
     },
     "execution_count": 22,
     "metadata": {},
     "output_type": "execute_result"
    }
   ],
   "source": [
    "final_df['main_category'].unique().shape"
   ]
  },
  {
   "cell_type": "markdown",
   "metadata": {},
   "source": [
    "11 main categories"
   ]
  },
  {
   "cell_type": "code",
   "execution_count": 23,
   "metadata": {},
   "outputs": [
    {
     "data": {
      "text/plain": [
       "(41,)"
      ]
     },
     "execution_count": 23,
     "metadata": {},
     "output_type": "execute_result"
    }
   ],
   "source": [
    "final_df['sub_category_1'].unique().shape"
   ]
  },
  {
   "cell_type": "markdown",
   "metadata": {},
   "source": [
    "41 sub cat 1 "
   ]
  },
  {
   "cell_type": "code",
   "execution_count": 24,
   "metadata": {},
   "outputs": [],
   "source": [
    "result = final_df.groupby('main_category')"
   ]
  },
  {
   "cell_type": "code",
   "execution_count": 25,
   "metadata": {},
   "outputs": [
    {
     "name": "stdout",
     "output_type": "stream",
     "text": [
      "Books\n",
      "4\n",
      "\n",
      "Electronics\n",
      "6\n",
      "\n",
      "Home & Kitchen\n",
      "5\n",
      "\n",
      "Industrial & Scientific\n",
      "8\n",
      "\n",
      "Musical Instruments\n",
      "2\n",
      "\n",
      "Office Products\n",
      "1\n",
      "\n",
      "Patio, Lawn & Garden\n",
      "3\n",
      "\n",
      "Pet Supplies\n",
      "0\n",
      "\n",
      "Sports & Outdoors\n",
      "2\n",
      "\n",
      "Tools & Home Improvement\n",
      "5\n",
      "\n",
      "Toys & Games\n",
      "4\n",
      "\n"
     ]
    }
   ],
   "source": [
    "for cat,cat_df in result:\n",
    "    print(cat)\n",
    "    print(cat_df['sub_category_1'].nunique())\n",
    "    print()"
   ]
  },
  {
   "cell_type": "code",
   "execution_count": 26,
   "metadata": {},
   "outputs": [
    {
     "data": {
      "text/html": [
       "<div>\n",
       "<style scoped>\n",
       "    .dataframe tbody tr th:only-of-type {\n",
       "        vertical-align: middle;\n",
       "    }\n",
       "\n",
       "    .dataframe tbody tr th {\n",
       "        vertical-align: top;\n",
       "    }\n",
       "\n",
       "    .dataframe thead th {\n",
       "        text-align: right;\n",
       "    }\n",
       "</style>\n",
       "<table border=\"1\" class=\"dataframe\">\n",
       "  <thead>\n",
       "    <tr style=\"text-align: right;\">\n",
       "      <th></th>\n",
       "      <th>main_category</th>\n",
       "      <th>sub_category_1</th>\n",
       "      <th>sub_category_2</th>\n",
       "      <th>sub_category_3</th>\n",
       "      <th>sub_category_4</th>\n",
       "      <th>sub_category_5</th>\n",
       "    </tr>\n",
       "  </thead>\n",
       "  <tbody>\n",
       "    <tr>\n",
       "      <th>0</th>\n",
       "      <td>Electronics</td>\n",
       "      <td>Wearable Technology</td>\n",
       "      <td>NaN</td>\n",
       "      <td>NaN</td>\n",
       "      <td>NaN</td>\n",
       "      <td>NaN</td>\n",
       "    </tr>\n",
       "    <tr>\n",
       "      <th>0</th>\n",
       "      <td>Tools &amp; Home Improvement</td>\n",
       "      <td>Light Bulbs</td>\n",
       "      <td>NaN</td>\n",
       "      <td>NaN</td>\n",
       "      <td>NaN</td>\n",
       "      <td>NaN</td>\n",
       "    </tr>\n",
       "    <tr>\n",
       "      <th>0</th>\n",
       "      <td>Home &amp; Kitchen</td>\n",
       "      <td>Heating, Cooling &amp; Air Quality</td>\n",
       "      <td>NaN</td>\n",
       "      <td>NaN</td>\n",
       "      <td>NaN</td>\n",
       "      <td>NaN</td>\n",
       "    </tr>\n",
       "    <tr>\n",
       "      <th>0</th>\n",
       "      <td>Industrial &amp; Scientific</td>\n",
       "      <td>Lab &amp; Scientific Products</td>\n",
       "      <td>NaN</td>\n",
       "      <td>NaN</td>\n",
       "      <td>NaN</td>\n",
       "      <td>NaN</td>\n",
       "    </tr>\n",
       "    <tr>\n",
       "      <th>0</th>\n",
       "      <td>Tools &amp; Home Improvement</td>\n",
       "      <td>Hardware</td>\n",
       "      <td>NaN</td>\n",
       "      <td>NaN</td>\n",
       "      <td>NaN</td>\n",
       "      <td>NaN</td>\n",
       "    </tr>\n",
       "    <tr>\n",
       "      <th>...</th>\n",
       "      <td>...</td>\n",
       "      <td>...</td>\n",
       "      <td>...</td>\n",
       "      <td>...</td>\n",
       "      <td>...</td>\n",
       "      <td>...</td>\n",
       "    </tr>\n",
       "    <tr>\n",
       "      <th>0</th>\n",
       "      <td>Electronics</td>\n",
       "      <td>Camera &amp; Photo</td>\n",
       "      <td>Film Photography</td>\n",
       "      <td>Film Cameras</td>\n",
       "      <td>NaN</td>\n",
       "      <td>NaN</td>\n",
       "    </tr>\n",
       "    <tr>\n",
       "      <th>0</th>\n",
       "      <td>Electronics</td>\n",
       "      <td>Camera &amp; Photo</td>\n",
       "      <td>Binoculars, Telescopes &amp; Optics</td>\n",
       "      <td>NaN</td>\n",
       "      <td>NaN</td>\n",
       "      <td>NaN</td>\n",
       "    </tr>\n",
       "    <tr>\n",
       "      <th>0</th>\n",
       "      <td>Electronics</td>\n",
       "      <td>GPS, Finders &amp; Accessories</td>\n",
       "      <td>NaN</td>\n",
       "      <td>NaN</td>\n",
       "      <td>NaN</td>\n",
       "      <td>NaN</td>\n",
       "    </tr>\n",
       "    <tr>\n",
       "      <th>0</th>\n",
       "      <td>Sports &amp; Outdoors</td>\n",
       "      <td>NaN</td>\n",
       "      <td>NaN</td>\n",
       "      <td>NaN</td>\n",
       "      <td>NaN</td>\n",
       "      <td>NaN</td>\n",
       "    </tr>\n",
       "    <tr>\n",
       "      <th>0</th>\n",
       "      <td>Patio, Lawn &amp; Garden</td>\n",
       "      <td>Outdoor Cooking</td>\n",
       "      <td>NaN</td>\n",
       "      <td>NaN</td>\n",
       "      <td>NaN</td>\n",
       "      <td>NaN</td>\n",
       "    </tr>\n",
       "  </tbody>\n",
       "</table>\n",
       "<p>86 rows × 6 columns</p>\n",
       "</div>"
      ],
      "text/plain": [
       "               main_category                  sub_category_1  \\\n",
       "0                Electronics             Wearable Technology   \n",
       "0   Tools & Home Improvement                     Light Bulbs   \n",
       "0             Home & Kitchen  Heating, Cooling & Air Quality   \n",
       "0    Industrial & Scientific       Lab & Scientific Products   \n",
       "0   Tools & Home Improvement                        Hardware   \n",
       "..                       ...                             ...   \n",
       "0                Electronics                  Camera & Photo   \n",
       "0                Electronics                  Camera & Photo   \n",
       "0                Electronics      GPS, Finders & Accessories   \n",
       "0          Sports & Outdoors                             NaN   \n",
       "0       Patio, Lawn & Garden                 Outdoor Cooking   \n",
       "\n",
       "                     sub_category_2 sub_category_3 sub_category_4  \\\n",
       "0                               NaN            NaN            NaN   \n",
       "0                               NaN            NaN            NaN   \n",
       "0                               NaN            NaN            NaN   \n",
       "0                               NaN            NaN            NaN   \n",
       "0                               NaN            NaN            NaN   \n",
       "..                              ...            ...            ...   \n",
       "0                  Film Photography   Film Cameras            NaN   \n",
       "0   Binoculars, Telescopes & Optics            NaN            NaN   \n",
       "0                               NaN            NaN            NaN   \n",
       "0                               NaN            NaN            NaN   \n",
       "0                               NaN            NaN            NaN   \n",
       "\n",
       "   sub_category_5  \n",
       "0             NaN  \n",
       "0             NaN  \n",
       "0             NaN  \n",
       "0             NaN  \n",
       "0             NaN  \n",
       "..            ...  \n",
       "0             NaN  \n",
       "0             NaN  \n",
       "0             NaN  \n",
       "0             NaN  \n",
       "0             NaN  \n",
       "\n",
       "[86 rows x 6 columns]"
      ]
     },
     "execution_count": 26,
     "metadata": {},
     "output_type": "execute_result"
    }
   ],
   "source": [
    "final_df"
   ]
  },
  {
   "cell_type": "code",
   "execution_count": 27,
   "metadata": {},
   "outputs": [],
   "source": [
    "arr = []\n",
    "for val in y:\n",
    "    arr.append([val,cu.findParent(root,category_id=val)[0].category_id,cu.map_id_to_name(val)])"
   ]
  },
  {
   "cell_type": "code",
   "execution_count": 28,
   "metadata": {},
   "outputs": [],
   "source": [
    "hu = pd.DataFrame(arr)"
   ]
  },
  {
   "cell_type": "code",
   "execution_count": 29,
   "metadata": {},
   "outputs": [
    {
     "name": "stdout",
     "output_type": "stream",
     "text": [
      "[10, 21, 13, 14, 11306, 6, 3894, 17978, 21001, 21021, 0, 19133, 14071, 5947, 22, 11400, 15597, 14078, 20999, 14073, 14069, 11399, 18600, 11137, 16, 3787, 22955, 18, 21110, 8170, 8165, 11167, 11135, 20406, 11162]\n",
      "[3823, 3791, 11307, 17, 20343, 20342]\n",
      "[3779]\n",
      "[]\n"
     ]
    },
    {
     "data": {
      "text/plain": [
       "[11151,\n",
       " 22947,\n",
       " 14072,\n",
       " 15611,\n",
       " 22943,\n",
       " 11332,\n",
       " 3808,\n",
       " 3945,\n",
       " 18113,\n",
       " 19039,\n",
       " 21071,\n",
       " 21033,\n",
       " 19,\n",
       " 19188,\n",
       " 14283,\n",
       " 6072,\n",
       " 24170,\n",
       " 11416,\n",
       " 15680,\n",
       " 15596,\n",
       " 15617,\n",
       " 15599,\n",
       " 15612,\n",
       " 15614,\n",
       " 14798,\n",
       " 11138,\n",
       " 22946,\n",
       " 11316,\n",
       " 21023,\n",
       " 14491,\n",
       " 14278,\n",
       " 14154,\n",
       " 14144,\n",
       " 24167,\n",
       " 11405,\n",
       " 11409,\n",
       " 19013,\n",
       " 19056,\n",
       " 22941,\n",
       " 22953,\n",
       " 11314,\n",
       " 11313,\n",
       " 11815,\n",
       " 17977,\n",
       " 5308,\n",
       " 22963,\n",
       " 19142,\n",
       " 14279,\n",
       " 14273,\n",
       " 24164,\n",
       " 24174,\n",
       " 11407,\n",
       " 11422,\n",
       " 19014,\n",
       " 21814,\n",
       " 8227,\n",
       " 8193,\n",
       " 21817,\n",
       " 15605,\n",
       " 14794,\n",
       " 11292,\n",
       " 11157,\n",
       " 11143,\n",
       " 11333,\n",
       " 11317,\n",
       " 11326,\n",
       " 21068,\n",
       " 21067,\n",
       " 21035,\n",
       " 21000,\n",
       " 14484,\n",
       " 14480,\n",
       " 14474,\n",
       " 14485,\n",
       " 14489,\n",
       " 14274,\n",
       " 11406,\n",
       " 11421,\n",
       " 11312,\n",
       " 14795,\n",
       " 11161,\n",
       " 11251,\n",
       " 11155,\n",
       " 11140,\n",
       " 20,\n",
       " 19134,\n",
       " 10,\n",
       " 21,\n",
       " 13,\n",
       " 14,\n",
       " 11306,\n",
       " 6,\n",
       " 3894,\n",
       " 17978,\n",
       " 21001,\n",
       " 21021,\n",
       " 0,\n",
       " 19133,\n",
       " 14071,\n",
       " 5947,\n",
       " 22,\n",
       " 11400,\n",
       " 15597,\n",
       " 14078,\n",
       " 20999,\n",
       " 14073,\n",
       " 14069,\n",
       " 11399,\n",
       " 18600,\n",
       " 11137,\n",
       " 16,\n",
       " 3787,\n",
       " 22955,\n",
       " 18,\n",
       " 21110,\n",
       " 8170,\n",
       " 8165,\n",
       " 11167,\n",
       " 11135,\n",
       " 20406,\n",
       " 11162,\n",
       " 3823,\n",
       " 3791,\n",
       " 11307,\n",
       " 17,\n",
       " 20343,\n",
       " 20342,\n",
       " 3779]"
      ]
     },
     "execution_count": 29,
     "metadata": {},
     "output_type": "execute_result"
    }
   ],
   "source": [
    "children = hu[0].tolist()\n",
    "parent = []\n",
    "while(True):\n",
    "    for val in children:\n",
    "        x = cu.findParent(root,category_id=val)\n",
    "        if x != None:\n",
    "            if x[0].category_id not in children and x[0].category_id not in parent:\n",
    "                parent.append(x[0].category_id)\n",
    "\n",
    "    print(parent)\n",
    "    if len(parent) == 0:\n",
    "        break\n",
    "    else:\n",
    "        children = children + parent\n",
    "        parent.clear()\n",
    "\n",
    "children"
   ]
  },
  {
   "cell_type": "code",
   "execution_count": 30,
   "metadata": {},
   "outputs": [
    {
     "data": {
      "text/plain": [
       "(128,)"
      ]
     },
     "execution_count": 30,
     "metadata": {},
     "output_type": "execute_result"
    }
   ],
   "source": [
    "pd.Series(children).unique().shape"
   ]
  },
  {
   "cell_type": "code",
   "execution_count": 37,
   "metadata": {},
   "outputs": [],
   "source": [
    "parent_arr = []\n",
    "for e in children:\n",
    "    f = cu.findParent(root,category_id=e)\n",
    "    if f!=None:\n",
    "        parent_arr.append(f[0].category_id)\n",
    "    else:\n",
    "        parent_arr.append(None)"
   ]
  },
  {
   "cell_type": "code",
   "execution_count": 38,
   "metadata": {},
   "outputs": [
    {
     "data": {
      "text/plain": [
       "128"
      ]
     },
     "execution_count": 38,
     "metadata": {},
     "output_type": "execute_result"
    }
   ],
   "source": [
    "len(parent_arr)"
   ]
  },
  {
   "cell_type": "code",
   "execution_count": 39,
   "metadata": {},
   "outputs": [],
   "source": [
    "cat_names = []\n",
    "for e in children:\n",
    "    cat_names.append(cu.map_id_to_name(category_id=e))"
   ]
  },
  {
   "cell_type": "code",
   "execution_count": 41,
   "metadata": {},
   "outputs": [
    {
     "data": {
      "text/plain": [
       "128"
      ]
     },
     "execution_count": 41,
     "metadata": {},
     "output_type": "execute_result"
    }
   ],
   "source": [
    "len(cat_names)"
   ]
  },
  {
   "cell_type": "code",
   "execution_count": 42,
   "metadata": {},
   "outputs": [],
   "source": [
    "the_main_meal = pd.DataFrame({'ID':children,'Parent':parent_arr,'label':cat_names})"
   ]
  },
  {
   "cell_type": "code",
   "execution_count": 47,
   "metadata": {},
   "outputs": [],
   "source": [
    "the_main_meal['Parent'] = the_main_meal['Parent'].astype(pd.Int32Dtype())"
   ]
  },
  {
   "cell_type": "code",
   "execution_count": 48,
   "metadata": {},
   "outputs": [
    {
     "data": {
      "text/html": [
       "<div>\n",
       "<style scoped>\n",
       "    .dataframe tbody tr th:only-of-type {\n",
       "        vertical-align: middle;\n",
       "    }\n",
       "\n",
       "    .dataframe tbody tr th {\n",
       "        vertical-align: top;\n",
       "    }\n",
       "\n",
       "    .dataframe thead th {\n",
       "        text-align: right;\n",
       "    }\n",
       "</style>\n",
       "<table border=\"1\" class=\"dataframe\">\n",
       "  <thead>\n",
       "    <tr style=\"text-align: right;\">\n",
       "      <th></th>\n",
       "      <th>ID</th>\n",
       "      <th>Parent</th>\n",
       "      <th>label</th>\n",
       "    </tr>\n",
       "  </thead>\n",
       "  <tbody>\n",
       "    <tr>\n",
       "      <th>96</th>\n",
       "      <td>0</td>\n",
       "      <td>&lt;NA&gt;</td>\n",
       "      <td>root</td>\n",
       "    </tr>\n",
       "  </tbody>\n",
       "</table>\n",
       "</div>"
      ],
      "text/plain": [
       "    ID  Parent label\n",
       "96   0    <NA>  root"
      ]
     },
     "execution_count": 48,
     "metadata": {},
     "output_type": "execute_result"
    }
   ],
   "source": [
    "the_main_meal[the_main_meal['label']=='root']"
   ]
  },
  {
   "cell_type": "code",
   "execution_count": 50,
   "metadata": {},
   "outputs": [],
   "source": [
    "# the_main_meal.reset_index(drop=True,inplace=True)\n",
    "# the_main_meal.to_csv(get_path_to_draw_io_UK_csv(),index=False)"
   ]
  }
 ],
 "metadata": {
  "kernelspec": {
   "display_name": "venv",
   "language": "python",
   "name": "python3"
  },
  "language_info": {
   "codemirror_mode": {
    "name": "ipython",
    "version": 3
   },
   "file_extension": ".py",
   "mimetype": "text/x-python",
   "name": "python",
   "nbconvert_exporter": "python",
   "pygments_lexer": "ipython3",
   "version": "3.11.5"
  }
 },
 "nbformat": 4,
 "nbformat_minor": 2
}
