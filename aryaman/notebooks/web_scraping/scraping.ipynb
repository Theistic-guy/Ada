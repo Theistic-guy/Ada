{
 "cells": [
  {
   "cell_type": "markdown",
   "metadata": {},
   "source": [
    "four points to work on :-\n",
    "1. rotating user agent's and other saving mechanisms\n",
    "2. url join\n",
    "3. is joined url is valid \n",
    "4. store set of asin ids\n",
    "5. appropriate waits\n"
   ]
  },
  {
   "cell_type": "code",
   "execution_count": 1,
   "metadata": {},
   "outputs": [],
   "source": [
    "from selenium import webdriver\n",
    "from pathlib import Path\n",
    "import requests\n",
    "import time\n",
    "import random\n",
    "from itertools import repeat\n",
    "from selenium.webdriver.common.by import By\n",
    "from selenium.webdriver.common.keys import Keys\n",
    "from selenium.webdriver.chrome.options import Options\n",
    "from selenium.webdriver.support.ui import WebDriverWait\n",
    "from selenium.webdriver.support import expected_conditions as EC\n",
    "from aryaman.scripts.category.category_enums import *\n",
    "import pandas as pd\n",
    "from concurrent.futures import ThreadPoolExecutor\n"
   ]
  },
  {
   "cell_type": "markdown",
   "metadata": {},
   "source": [
    "pandas dataframe to contain main category , tag , asin id and created product links"
   ]
  },
  {
   "cell_type": "code",
   "execution_count": 2,
   "metadata": {},
   "outputs": [],
   "source": [
    "products = pd.DataFrame(columns=['Main Category','Tag','ASIN','Product Link'])\n",
    "asins_set = set()"
   ]
  },
  {
   "cell_type": "markdown",
   "metadata": {},
   "source": [
    "functions"
   ]
  },
  {
   "cell_type": "code",
   "execution_count": 44,
   "metadata": {},
   "outputs": [],
   "source": [
    "def create_url(asin_id):\n",
    "    return 'https://www.amazon.in/dp/{asin_id}'.format(asin_id=asin_id)\n",
    "\n",
    "def check_link_validity(url,session=None):\n",
    "    time.sleep(random.uniform(1,7))\n",
    "    if session == None:\n",
    "        response = requests.get(url=url,allow_redirects=True,timeout=200)\n",
    "    else:\n",
    "        response = session.get(url=url, allow_redirects=True, timeout=200)\n",
    "    # head() was giving 405 code because amazon server expects get() on those links , but get() is costly therefore\n",
    "    # multithreading\n",
    "    # print(response.status_code)\n",
    "    try:\n",
    "        if response.status_code==200 :\n",
    "            if ('/dp/' in response.url or '/gp/product/' in response.url):\n",
    "                return True\n",
    "            else:\n",
    "                print(f\"Redirected to a non-product page: {response.url}\")\n",
    "                return False\n",
    "        else:\n",
    "            print(\"status code not 200:\",response.url)\n",
    "            return False\n",
    "    except Exception as e:\n",
    "        print(f\"Exception occurred in checking link validity : {e}\")\n",
    "def check_asin_duplicate(set_of_asins,asin_id):\n",
    "    if asin_id in set_of_asins:\n",
    "        return True\n",
    "    else:\n",
    "        return False\n",
    "    \n",
    "\n",
    "def update_products_dataframe_and_asins_set(products_dataframe,set_of_asins,new_asin_ids_list,main_category,tag):\n",
    "    urls = []\n",
    "    chosen_ids = []\n",
    "    for id in new_asin_ids_list:\n",
    "        if not check_asin_duplicate(set_of_asins,id):\n",
    "            set_of_asins.add(id)\n",
    "            urls.append(create_url(id))\n",
    "            chosen_ids.append(id)\n",
    "    with requests.Session() as session:\n",
    "        session.headers.update({\n",
    "        'User-Agent': 'Mozilla/5.0 (Windows NT 10.0; Win64; x64) AppleWebKit/537.36 (KHTML, like Gecko) Chrome/58.0.3029.110 Safari/537.36',\n",
    "        'Accept-Language': 'en-US,en;q=0.9',\n",
    "        'Accept-Encoding': 'gzip, deflate, br',\n",
    "        'Connection': 'keep-alive'\n",
    "        })\n",
    "        with ThreadPoolExecutor(max_workers=len(urls)) as executor:\n",
    "            responses = list(executor.map(check_link_validity,urls,repeat(session)))\n",
    "    \n",
    "    for i in range(len(responses)):\n",
    "        if responses[i] == True:\n",
    "            new_row = {'Main Category':main_category,'Tag':tag,'ASIN':chosen_ids[i],'Product Link':urls[i]}\n",
    "            products_dataframe = pd.concat([products_dataframe,pd.DataFrame([new_row])],ignore_index=True)\n",
    "            products_dataframe.reset_index(inplace=True,drop=True)\n",
    "            # print(products_dataframe)\n",
    "    return products_dataframe\n",
    "\n",
    "def scrape_asin_ids(driver,css_selector_string):\n",
    "    main_slot_div = driver.find_elements(By.CSS_SELECTOR,\"div.s-main-slot.s-result-list\")\n",
    "    if len(main_slot_div) > 1:\n",
    "        raise Exception(\"more than one main slots identified\")\n",
    "    asin_elems = main_slot_div[0].find_elements(By.CSS_SELECTOR,css_selector_string)\n",
    "    asin_ids = []\n",
    "    for elem in asin_elems:\n",
    "        val = elem.get_attribute(\"data-asin\")\n",
    "        if isinstance(val,str) and len(val) == 10 and val.isalnum():\n",
    "            asin_ids.append(val)\n",
    "    return asin_ids\n"
   ]
  },
  {
   "cell_type": "markdown",
   "metadata": {},
   "source": [
    "global variables"
   ]
  },
  {
   "cell_type": "code",
   "execution_count": 4,
   "metadata": {},
   "outputs": [],
   "source": [
    "# set them inside the code\n",
    "current_main_category = None \n",
    "current_tag_of_main_category = None"
   ]
  },
  {
   "cell_type": "markdown",
   "metadata": {},
   "source": [
    "driver + scraping"
   ]
  },
  {
   "cell_type": "code",
   "execution_count": 53,
   "metadata": {},
   "outputs": [],
   "source": [
    "driver = None\n",
    "def load_driver():\n",
    "    global driver\n",
    "    webdriver_path = \"..\\chromedriver.exe\"\n",
    "    cService = webdriver.ChromeService(executable_path=webdriver_path)\n",
    "    chrome_options = Options()\n",
    "    chrome_options.add_experimental_option(\"detach\",True)\n",
    "    driver = webdriver.Chrome(service=cService,options=chrome_options)\n",
    "    driver.get(\"https://www.amazon.in/\")\n",
    "    # driver.maximize_window()"
   ]
  },
  {
   "cell_type": "markdown",
   "metadata": {},
   "source": [
    "# Baby Products"
   ]
  },
  {
   "cell_type": "code",
   "execution_count": 6,
   "metadata": {},
   "outputs": [],
   "source": [
    "current_main_category = BabyProducts.get_class_name()"
   ]
  },
  {
   "cell_type": "markdown",
   "metadata": {},
   "source": [
    "## Diapers"
   ]
  },
  {
   "cell_type": "code",
   "execution_count": 8,
   "metadata": {},
   "outputs": [],
   "source": [
    "current_tag_of_main_category = BabyProducts.get_sub_name(BabyProducts.Diapers)"
   ]
  },
  {
   "cell_type": "code",
   "execution_count": 11,
   "metadata": {},
   "outputs": [],
   "source": [
    "products = update_products_dataframe_and_asins_set(products,asins_set,scrape_asin_ids(driver,\"div[data-asin]\"),current_main_category,current_tag_of_main_category)\n",
    "products.to_csv('products.csv',index=None)"
   ]
  },
  {
   "cell_type": "markdown",
   "metadata": {},
   "source": [
    "## Baby Wipes"
   ]
  },
  {
   "cell_type": "code",
   "execution_count": 7,
   "metadata": {},
   "outputs": [],
   "source": [
    "current_tag_of_main_category = BabyProducts.get_sub_name(BabyProducts.Baby_Wipes)"
   ]
  },
  {
   "cell_type": "code",
   "execution_count": 25,
   "metadata": {},
   "outputs": [],
   "source": [
    "products = update_products_dataframe_and_asins_set(products,asins_set,scrape_asin_ids(driver,\"div[data-asin]\"),current_main_category,current_tag_of_main_category)\n",
    "products.to_csv('products.csv',index=None)"
   ]
  },
  {
   "cell_type": "markdown",
   "metadata": {},
   "source": [
    "## Baby Clothing"
   ]
  },
  {
   "cell_type": "code",
   "execution_count": 26,
   "metadata": {},
   "outputs": [],
   "source": [
    "current_tag_of_main_category = BabyProducts.get_sub_name(BabyProducts.Baby_Clothing)\n",
    "products = update_products_dataframe_and_asins_set(products,asins_set,scrape_asin_ids(driver,\"div[data-asin]\"),current_main_category,current_tag_of_main_category)"
   ]
  },
  {
   "cell_type": "code",
   "execution_count": 28,
   "metadata": {},
   "outputs": [],
   "source": [
    "products.to_csv('products.csv',index=None)"
   ]
  },
  {
   "cell_type": "markdown",
   "metadata": {},
   "source": [
    "## Strollers"
   ]
  },
  {
   "cell_type": "code",
   "execution_count": 37,
   "metadata": {},
   "outputs": [],
   "source": [
    "current_tag_of_main_category = BabyProducts.get_sub_name(BabyProducts.Strollers)\n",
    "products = update_products_dataframe_and_asins_set(products,asins_set,scrape_asin_ids(driver,\"div[data-asin]\"),current_main_category,current_tag_of_main_category)\n",
    "products.to_csv('products.csv',index=None)"
   ]
  },
  {
   "cell_type": "code",
   "execution_count": 38,
   "metadata": {},
   "outputs": [
    {
     "data": {
      "text/plain": [
       "(75, 4)"
      ]
     },
     "execution_count": 38,
     "metadata": {},
     "output_type": "execute_result"
    }
   ],
   "source": [
    "products[products['Tag']=='Strollers'].shape"
   ]
  },
  {
   "cell_type": "markdown",
   "metadata": {},
   "source": [
    "## Car seats"
   ]
  },
  {
   "cell_type": "code",
   "execution_count": 40,
   "metadata": {},
   "outputs": [
    {
     "name": "stdout",
     "output_type": "stream",
     "text": [
      "67\n"
     ]
    }
   ],
   "source": [
    "current_tag_of_main_category = BabyProducts.get_sub_name(BabyProducts.Car_Seats)\n",
    "scraped_ids = scrape_asin_ids(driver,\"div[data-asin]\")\n",
    "products = update_products_dataframe_and_asins_set(products,asins_set,scraped_ids,current_main_category,current_tag_of_main_category)\n",
    "products.to_csv('products.csv',index=None)\n",
    "print(len(scraped_ids))"
   ]
  },
  {
   "cell_type": "code",
   "execution_count": 41,
   "metadata": {},
   "outputs": [
    {
     "data": {
      "text/html": [
       "<div>\n",
       "<style scoped>\n",
       "    .dataframe tbody tr th:only-of-type {\n",
       "        vertical-align: middle;\n",
       "    }\n",
       "\n",
       "    .dataframe tbody tr th {\n",
       "        vertical-align: top;\n",
       "    }\n",
       "\n",
       "    .dataframe thead th {\n",
       "        text-align: right;\n",
       "    }\n",
       "</style>\n",
       "<table border=\"1\" class=\"dataframe\">\n",
       "  <thead>\n",
       "    <tr style=\"text-align: right;\">\n",
       "      <th></th>\n",
       "      <th>Main Category</th>\n",
       "      <th>Tag</th>\n",
       "      <th>ASIN</th>\n",
       "      <th>Product Link</th>\n",
       "    </tr>\n",
       "  </thead>\n",
       "  <tbody>\n",
       "    <tr>\n",
       "      <th>310</th>\n",
       "      <td>Baby Products</td>\n",
       "      <td>Car Seats</td>\n",
       "      <td>B0B8SS1XKK</td>\n",
       "      <td>https://www.amazon.in/dp/B0B8SS1XKK</td>\n",
       "    </tr>\n",
       "    <tr>\n",
       "      <th>311</th>\n",
       "      <td>Baby Products</td>\n",
       "      <td>Car Seats</td>\n",
       "      <td>B0DCZPHR2G</td>\n",
       "      <td>https://www.amazon.in/dp/B0DCZPHR2G</td>\n",
       "    </tr>\n",
       "    <tr>\n",
       "      <th>312</th>\n",
       "      <td>Baby Products</td>\n",
       "      <td>Car Seats</td>\n",
       "      <td>B0D4QV9RH4</td>\n",
       "      <td>https://www.amazon.in/dp/B0D4QV9RH4</td>\n",
       "    </tr>\n",
       "    <tr>\n",
       "      <th>313</th>\n",
       "      <td>Baby Products</td>\n",
       "      <td>Car Seats</td>\n",
       "      <td>B07MZHSVC7</td>\n",
       "      <td>https://www.amazon.in/dp/B07MZHSVC7</td>\n",
       "    </tr>\n",
       "  </tbody>\n",
       "</table>\n",
       "</div>"
      ],
      "text/plain": [
       "     Main Category        Tag        ASIN                         Product Link\n",
       "310  Baby Products  Car Seats  B0B8SS1XKK  https://www.amazon.in/dp/B0B8SS1XKK\n",
       "311  Baby Products  Car Seats  B0DCZPHR2G  https://www.amazon.in/dp/B0DCZPHR2G\n",
       "312  Baby Products  Car Seats  B0D4QV9RH4  https://www.amazon.in/dp/B0D4QV9RH4\n",
       "313  Baby Products  Car Seats  B07MZHSVC7  https://www.amazon.in/dp/B07MZHSVC7"
      ]
     },
     "execution_count": 41,
     "metadata": {},
     "output_type": "execute_result"
    }
   ],
   "source": [
    "products.tail(4)"
   ]
  },
  {
   "cell_type": "markdown",
   "metadata": {},
   "source": [
    "## Baby Toys"
   ]
  },
  {
   "cell_type": "code",
   "execution_count": 42,
   "metadata": {},
   "outputs": [
    {
     "name": "stdout",
     "output_type": "stream",
     "text": [
      "71\n"
     ]
    }
   ],
   "source": [
    "current_tag_of_main_category = BabyProducts.get_sub_name(BabyProducts.Baby_Toys)\n",
    "scraped_ids = scrape_asin_ids(driver,\"div[data-asin]\")\n",
    "products = update_products_dataframe_and_asins_set(products,asins_set,scraped_ids,current_main_category,current_tag_of_main_category)\n",
    "products.to_csv('products.csv',index=None)\n",
    "print(len(scraped_ids))"
   ]
  },
  {
   "cell_type": "code",
   "execution_count": 43,
   "metadata": {},
   "outputs": [
    {
     "data": {
      "text/html": [
       "<div>\n",
       "<style scoped>\n",
       "    .dataframe tbody tr th:only-of-type {\n",
       "        vertical-align: middle;\n",
       "    }\n",
       "\n",
       "    .dataframe tbody tr th {\n",
       "        vertical-align: top;\n",
       "    }\n",
       "\n",
       "    .dataframe thead th {\n",
       "        text-align: right;\n",
       "    }\n",
       "</style>\n",
       "<table border=\"1\" class=\"dataframe\">\n",
       "  <thead>\n",
       "    <tr style=\"text-align: right;\">\n",
       "      <th></th>\n",
       "      <th>Main Category</th>\n",
       "      <th>Tag</th>\n",
       "      <th>ASIN</th>\n",
       "      <th>Product Link</th>\n",
       "    </tr>\n",
       "  </thead>\n",
       "  <tbody>\n",
       "    <tr>\n",
       "      <th>371</th>\n",
       "      <td>Baby Products</td>\n",
       "      <td>Baby Toys</td>\n",
       "      <td>B0D6Z1YPTZ</td>\n",
       "      <td>https://www.amazon.in/dp/B0D6Z1YPTZ</td>\n",
       "    </tr>\n",
       "    <tr>\n",
       "      <th>372</th>\n",
       "      <td>Baby Products</td>\n",
       "      <td>Baby Toys</td>\n",
       "      <td>B0BKZMHP48</td>\n",
       "      <td>https://www.amazon.in/dp/B0BKZMHP48</td>\n",
       "    </tr>\n",
       "    <tr>\n",
       "      <th>373</th>\n",
       "      <td>Baby Products</td>\n",
       "      <td>Baby Toys</td>\n",
       "      <td>B0D3H436PW</td>\n",
       "      <td>https://www.amazon.in/dp/B0D3H436PW</td>\n",
       "    </tr>\n",
       "    <tr>\n",
       "      <th>374</th>\n",
       "      <td>Baby Products</td>\n",
       "      <td>Baby Toys</td>\n",
       "      <td>B08R9QVNYX</td>\n",
       "      <td>https://www.amazon.in/dp/B08R9QVNYX</td>\n",
       "    </tr>\n",
       "    <tr>\n",
       "      <th>375</th>\n",
       "      <td>Baby Products</td>\n",
       "      <td>Baby Toys</td>\n",
       "      <td>B074Y7KQD1</td>\n",
       "      <td>https://www.amazon.in/dp/B074Y7KQD1</td>\n",
       "    </tr>\n",
       "    <tr>\n",
       "      <th>376</th>\n",
       "      <td>Baby Products</td>\n",
       "      <td>Baby Toys</td>\n",
       "      <td>B0D49SCYDC</td>\n",
       "      <td>https://www.amazon.in/dp/B0D49SCYDC</td>\n",
       "    </tr>\n",
       "    <tr>\n",
       "      <th>377</th>\n",
       "      <td>Baby Products</td>\n",
       "      <td>Baby Toys</td>\n",
       "      <td>B0CVQMCW9J</td>\n",
       "      <td>https://www.amazon.in/dp/B0CVQMCW9J</td>\n",
       "    </tr>\n",
       "    <tr>\n",
       "      <th>378</th>\n",
       "      <td>Baby Products</td>\n",
       "      <td>Baby Toys</td>\n",
       "      <td>B09VDCVQH4</td>\n",
       "      <td>https://www.amazon.in/dp/B09VDCVQH4</td>\n",
       "    </tr>\n",
       "    <tr>\n",
       "      <th>379</th>\n",
       "      <td>Baby Products</td>\n",
       "      <td>Baby Toys</td>\n",
       "      <td>B083F2X9YS</td>\n",
       "      <td>https://www.amazon.in/dp/B083F2X9YS</td>\n",
       "    </tr>\n",
       "    <tr>\n",
       "      <th>380</th>\n",
       "      <td>Baby Products</td>\n",
       "      <td>Baby Toys</td>\n",
       "      <td>B0D5CY745L</td>\n",
       "      <td>https://www.amazon.in/dp/B0D5CY745L</td>\n",
       "    </tr>\n",
       "  </tbody>\n",
       "</table>\n",
       "</div>"
      ],
      "text/plain": [
       "     Main Category        Tag        ASIN                         Product Link\n",
       "371  Baby Products  Baby Toys  B0D6Z1YPTZ  https://www.amazon.in/dp/B0D6Z1YPTZ\n",
       "372  Baby Products  Baby Toys  B0BKZMHP48  https://www.amazon.in/dp/B0BKZMHP48\n",
       "373  Baby Products  Baby Toys  B0D3H436PW  https://www.amazon.in/dp/B0D3H436PW\n",
       "374  Baby Products  Baby Toys  B08R9QVNYX  https://www.amazon.in/dp/B08R9QVNYX\n",
       "375  Baby Products  Baby Toys  B074Y7KQD1  https://www.amazon.in/dp/B074Y7KQD1\n",
       "376  Baby Products  Baby Toys  B0D49SCYDC  https://www.amazon.in/dp/B0D49SCYDC\n",
       "377  Baby Products  Baby Toys  B0CVQMCW9J  https://www.amazon.in/dp/B0CVQMCW9J\n",
       "378  Baby Products  Baby Toys  B09VDCVQH4  https://www.amazon.in/dp/B09VDCVQH4\n",
       "379  Baby Products  Baby Toys  B083F2X9YS  https://www.amazon.in/dp/B083F2X9YS\n",
       "380  Baby Products  Baby Toys  B0D5CY745L  https://www.amazon.in/dp/B0D5CY745L"
      ]
     },
     "execution_count": 43,
     "metadata": {},
     "output_type": "execute_result"
    }
   ],
   "source": [
    "products.tail(10)"
   ]
  },
  {
   "cell_type": "markdown",
   "metadata": {},
   "source": [
    "## Baby Bathing products"
   ]
  },
  {
   "cell_type": "code",
   "execution_count": 45,
   "metadata": {},
   "outputs": [
    {
     "name": "stdout",
     "output_type": "stream",
     "text": [
      "71\n"
     ]
    }
   ],
   "source": [
    "current_tag_of_main_category = BabyProducts.get_sub_name(BabyProducts.Baby_Bathing_Products)\n",
    "scraped_ids = scrape_asin_ids(driver,\"div[data-asin]\")\n",
    "products = update_products_dataframe_and_asins_set(products,asins_set,scraped_ids,current_main_category,current_tag_of_main_category)\n",
    "products.to_csv('products.csv',index=None)\n",
    "print(len(scraped_ids))"
   ]
  },
  {
   "cell_type": "markdown",
   "metadata": {},
   "source": [
    "## Baby Skin Care products"
   ]
  },
  {
   "cell_type": "code",
   "execution_count": 47,
   "metadata": {},
   "outputs": [
    {
     "name": "stdout",
     "output_type": "stream",
     "text": [
      "68\n"
     ]
    }
   ],
   "source": [
    "current_tag_of_main_category = BabyProducts.get_sub_name(BabyProducts.Baby_Skincare_Products)\n",
    "scraped_ids = scrape_asin_ids(driver,\"div[data-asin]\")\n",
    "products = update_products_dataframe_and_asins_set(products,asins_set,scraped_ids,current_main_category,current_tag_of_main_category)\n",
    "products.to_csv('products.csv',index=None)\n",
    "print(len(scraped_ids))"
   ]
  },
  {
   "cell_type": "markdown",
   "metadata": {},
   "source": [
    "## Baby Feeding bottles\n"
   ]
  },
  {
   "cell_type": "code",
   "execution_count": 65,
   "metadata": {},
   "outputs": [
    {
     "name": "stdout",
     "output_type": "stream",
     "text": [
      "52\n"
     ]
    }
   ],
   "source": [
    "current_tag_of_main_category = BabyProducts.get_sub_name(BabyProducts.Baby_Feeding_Bottles)\n",
    "scraped_ids = scrape_asin_ids(driver,\"div[data-asin]\")\n",
    "products = update_products_dataframe_and_asins_set(products,asins_set,scraped_ids,current_main_category,current_tag_of_main_category)\n",
    "products.to_csv('products.csv',index=None)\n",
    "print(len(scraped_ids))"
   ]
  },
  {
   "cell_type": "code",
   "execution_count": 66,
   "metadata": {},
   "outputs": [
    {
     "data": {
      "text/plain": [
       "(100, 4)"
      ]
     },
     "execution_count": 66,
     "metadata": {},
     "output_type": "execute_result"
    }
   ],
   "source": [
    "products[products['Tag']=='Baby Feeding Bottles'].shape"
   ]
  },
  {
   "cell_type": "markdown",
   "metadata": {},
   "source": [
    "## Nursing and BreastFeeding Products"
   ]
  },
  {
   "cell_type": "code",
   "execution_count": 67,
   "metadata": {},
   "outputs": [
    {
     "name": "stdout",
     "output_type": "stream",
     "text": [
      "61\n"
     ]
    }
   ],
   "source": [
    "current_tag_of_main_category = BabyProducts.get_sub_name(BabyProducts.Nursing_and_Breastfeeding_Products)\n",
    "scraped_ids = scrape_asin_ids(driver,\"div[data-asin]\")\n",
    "products = update_products_dataframe_and_asins_set(products,asins_set,scraped_ids,current_main_category,current_tag_of_main_category)\n",
    "products.to_csv('products.csv',index=None)\n",
    "print(len(scraped_ids))"
   ]
  },
  {
   "cell_type": "markdown",
   "metadata": {},
   "source": [
    "## Cribs And Bassinets"
   ]
  },
  {
   "cell_type": "code",
   "execution_count": 68,
   "metadata": {},
   "outputs": [
    {
     "name": "stdout",
     "output_type": "stream",
     "text": [
      "60\n"
     ]
    }
   ],
   "source": [
    "current_tag_of_main_category = BabyProducts.get_sub_name(BabyProducts.Cribs_and_Bassinets)\n",
    "scraped_ids = scrape_asin_ids(driver,\"div[data-asin]\")\n",
    "products = update_products_dataframe_and_asins_set(products,asins_set,scraped_ids,current_main_category,current_tag_of_main_category)\n",
    "products.to_csv('products.csv',index=None)\n",
    "print(len(scraped_ids))"
   ]
  },
  {
   "cell_type": "markdown",
   "metadata": {},
   "source": [
    "## Baby Carriers"
   ]
  },
  {
   "cell_type": "code",
   "execution_count": 69,
   "metadata": {},
   "outputs": [
    {
     "name": "stdout",
     "output_type": "stream",
     "text": [
      "73\n"
     ]
    }
   ],
   "source": [
    "current_tag_of_main_category = BabyProducts.get_sub_name(BabyProducts.Baby_Carriers)\n",
    "scraped_ids = scrape_asin_ids(driver,\"div[data-asin]\")\n",
    "products = update_products_dataframe_and_asins_set(products,asins_set,scraped_ids,current_main_category,current_tag_of_main_category)\n",
    "products.to_csv('products.csv',index=None)\n",
    "print(len(scraped_ids))"
   ]
  },
  {
   "cell_type": "markdown",
   "metadata": {},
   "source": [
    "# Beauty and Personal Care"
   ]
  },
  {
   "cell_type": "code",
   "execution_count": 2,
   "metadata": {},
   "outputs": [
    {
     "ename": "NameError",
     "evalue": "name 'BeautyAndPersonalCare' is not defined",
     "output_type": "error",
     "traceback": [
      "\u001b[1;31m---------------------------------------------------------------------------\u001b[0m",
      "\u001b[1;31mNameError\u001b[0m                                 Traceback (most recent call last)",
      "Cell \u001b[1;32mIn[2], line 1\u001b[0m\n\u001b[1;32m----> 1\u001b[0m current_main_category \u001b[38;5;241m=\u001b[39m \u001b[43mBeautyAndPersonalCare\u001b[49m\u001b[38;5;241m.\u001b[39mget_class_name()\n",
      "\u001b[1;31mNameError\u001b[0m: name 'BeautyAndPersonalCare' is not defined"
     ]
    }
   ],
   "source": [
    "current_main_category = BeautyAndPersonalCare.get_class_name()"
   ]
  },
  {
   "cell_type": "markdown",
   "metadata": {},
   "source": [
    "## Skin Care Products"
   ]
  },
  {
   "cell_type": "code",
   "execution_count": 3,
   "metadata": {},
   "outputs": [
    {
     "ename": "NameError",
     "evalue": "name 'BeautyAndPersonalCare' is not defined",
     "output_type": "error",
     "traceback": [
      "\u001b[1;31m---------------------------------------------------------------------------\u001b[0m",
      "\u001b[1;31mNameError\u001b[0m                                 Traceback (most recent call last)",
      "Cell \u001b[1;32mIn[3], line 1\u001b[0m\n\u001b[1;32m----> 1\u001b[0m current_tag_of_main_category \u001b[38;5;241m=\u001b[39m \u001b[43mBeautyAndPersonalCare\u001b[49m\u001b[38;5;241m.\u001b[39mget_sub_name(BeautyAndPersonalCare\u001b[38;5;241m.\u001b[39mSkin_Care_Products)\n\u001b[0;32m      2\u001b[0m scraped_ids \u001b[38;5;241m=\u001b[39m scrape_asin_ids(driver,\u001b[38;5;124m\"\u001b[39m\u001b[38;5;124mdiv[data-asin]\u001b[39m\u001b[38;5;124m\"\u001b[39m)\n\u001b[0;32m      3\u001b[0m products \u001b[38;5;241m=\u001b[39m update_products_dataframe_and_asins_set(products,asins_set,scraped_ids,current_main_category,current_tag_of_main_category)\n",
      "\u001b[1;31mNameError\u001b[0m: name 'BeautyAndPersonalCare' is not defined"
     ]
    }
   ],
   "source": [
    "current_tag_of_main_category = BeautyAndPersonalCare.get_sub_name(BeautyAndPersonalCare.Skin_Care_Products)\n",
    "scraped_ids = scrape_asin_ids(driver,\"div[data-asin]\")\n",
    "products = update_products_dataframe_and_asins_set(products,asins_set,scraped_ids,current_main_category,current_tag_of_main_category)\n",
    "products.to_csv('products.csv',index=None)\n",
    "print(len(scraped_ids))"
   ]
  },
  {
   "cell_type": "markdown",
   "metadata": {},
   "source": [
    "## Hair care products"
   ]
  },
  {
   "cell_type": "code",
   "execution_count": null,
   "metadata": {},
   "outputs": [
    {
     "name": "stdout",
     "output_type": "stream",
     "text": [
      "72\n"
     ]
    }
   ],
   "source": [
    "current_tag_of_main_category = BeautyAndPersonalCare.get_sub_name(BeautyAndPersonalCare.Hair_Care_Products)\n",
    "scraped_ids = scrape_asin_ids(driver,\"div[data-asin]\")\n",
    "products = update_products_dataframe_and_asins_set(products,asins_set,scraped_ids,current_main_category,current_tag_of_main_category)\n",
    "products.to_csv('products.csv',index=None)\n",
    "print(len(products[products['Tag']==current_tag_of_main_category]))"
   ]
  },
  {
   "cell_type": "markdown",
   "metadata": {},
   "source": [
    "## Make up kits"
   ]
  },
  {
   "cell_type": "code",
   "execution_count": null,
   "metadata": {},
   "outputs": [
    {
     "name": "stdout",
     "output_type": "stream",
     "text": [
      "58\n"
     ]
    }
   ],
   "source": [
    "current_tag_of_main_category = BeautyAndPersonalCare.get_sub_name(BeautyAndPersonalCare.Makeup_Kits)\n",
    "scraped_ids = scrape_asin_ids(driver,\"div[data-asin]\")\n",
    "products = update_products_dataframe_and_asins_set(products,asins_set,scraped_ids,current_main_category,current_tag_of_main_category)\n",
    "products.to_csv('products.csv',index=None)\n",
    "print(len(products[products['Tag']==current_tag_of_main_category]))"
   ]
  },
  {
   "cell_type": "code",
   "execution_count": null,
   "metadata": {},
   "outputs": [
    {
     "data": {
      "text/html": [
       "<div>\n",
       "<style scoped>\n",
       "    .dataframe tbody tr th:only-of-type {\n",
       "        vertical-align: middle;\n",
       "    }\n",
       "\n",
       "    .dataframe tbody tr th {\n",
       "        vertical-align: top;\n",
       "    }\n",
       "\n",
       "    .dataframe thead th {\n",
       "        text-align: right;\n",
       "    }\n",
       "</style>\n",
       "<table border=\"1\" class=\"dataframe\">\n",
       "  <thead>\n",
       "    <tr style=\"text-align: right;\">\n",
       "      <th></th>\n",
       "      <th>Main Category</th>\n",
       "      <th>Tag</th>\n",
       "      <th>ASIN</th>\n",
       "      <th>Product Link</th>\n",
       "    </tr>\n",
       "  </thead>\n",
       "  <tbody>\n",
       "    <tr>\n",
       "      <th>950</th>\n",
       "      <td>Beauty &amp; Personal Care</td>\n",
       "      <td>Makeup Kits</td>\n",
       "      <td>B0DKN5825L</td>\n",
       "      <td>https://www.amazon.in/dp/B0DKN5825L</td>\n",
       "    </tr>\n",
       "    <tr>\n",
       "      <th>951</th>\n",
       "      <td>Beauty &amp; Personal Care</td>\n",
       "      <td>Makeup Kits</td>\n",
       "      <td>B0DKJLHPK8</td>\n",
       "      <td>https://www.amazon.in/dp/B0DKJLHPK8</td>\n",
       "    </tr>\n",
       "    <tr>\n",
       "      <th>952</th>\n",
       "      <td>Beauty &amp; Personal Care</td>\n",
       "      <td>Makeup Kits</td>\n",
       "      <td>B0CSTCW4T7</td>\n",
       "      <td>https://www.amazon.in/dp/B0CSTCW4T7</td>\n",
       "    </tr>\n",
       "  </tbody>\n",
       "</table>\n",
       "</div>"
      ],
      "text/plain": [
       "              Main Category          Tag        ASIN  \\\n",
       "950  Beauty & Personal Care  Makeup Kits  B0DKN5825L   \n",
       "951  Beauty & Personal Care  Makeup Kits  B0DKJLHPK8   \n",
       "952  Beauty & Personal Care  Makeup Kits  B0CSTCW4T7   \n",
       "\n",
       "                            Product Link  \n",
       "950  https://www.amazon.in/dp/B0DKN5825L  \n",
       "951  https://www.amazon.in/dp/B0DKJLHPK8  \n",
       "952  https://www.amazon.in/dp/B0CSTCW4T7  "
      ]
     },
     "execution_count": 89,
     "metadata": {},
     "output_type": "execute_result"
    }
   ],
   "source": [
    "products.tail(3)"
   ]
  },
  {
   "cell_type": "markdown",
   "metadata": {},
   "source": [
    "## Perfumes"
   ]
  },
  {
   "cell_type": "code",
   "execution_count": null,
   "metadata": {},
   "outputs": [
    {
     "name": "stdout",
     "output_type": "stream",
     "text": [
      "61\n"
     ]
    }
   ],
   "source": [
    "current_tag_of_main_category = BeautyAndPersonalCare.get_sub_name(BeautyAndPersonalCare.Perfumes)\n",
    "scraped_ids = scrape_asin_ids(driver,\"div[data-asin]\")\n",
    "products = update_products_dataframe_and_asins_set(products,asins_set,scraped_ids,current_main_category,current_tag_of_main_category)\n",
    "products.to_csv('products.csv',index=None)\n",
    "print(len(products[products['Tag']==current_tag_of_main_category]))"
   ]
  },
  {
   "cell_type": "markdown",
   "metadata": {},
   "source": [
    "## Shampoos and Conditioners"
   ]
  },
  {
   "cell_type": "code",
   "execution_count": null,
   "metadata": {},
   "outputs": [
    {
     "name": "stdout",
     "output_type": "stream",
     "text": [
      "57\n"
     ]
    }
   ],
   "source": [
    "current_tag_of_main_category = BeautyAndPersonalCare.get_sub_name(BeautyAndPersonalCare.Shampoos_and_Conditioners)\n",
    "scraped_ids = scrape_asin_ids(driver,\"div[data-asin]\")\n",
    "products = update_products_dataframe_and_asins_set(products,asins_set,scraped_ids,current_main_category,current_tag_of_main_category)\n",
    "products.to_csv('products.csv',index=None)\n",
    "print(len(products[products['Tag']==current_tag_of_main_category]))"
   ]
  },
  {
   "cell_type": "markdown",
   "metadata": {},
   "source": [
    "## Hair Styling Tools"
   ]
  },
  {
   "cell_type": "code",
   "execution_count": null,
   "metadata": {},
   "outputs": [
    {
     "name": "stdout",
     "output_type": "stream",
     "text": [
      "54\n"
     ]
    }
   ],
   "source": [
    "current_tag_of_main_category = BeautyAndPersonalCare.get_sub_name(BeautyAndPersonalCare.Hair_Styling_Tools)\n",
    "scraped_ids = scrape_asin_ids(driver,\"div[data-asin]\")\n",
    "products = update_products_dataframe_and_asins_set(products,asins_set,scraped_ids,current_main_category,current_tag_of_main_category)\n",
    "products.to_csv('products.csv',index=None)\n",
    "print(len(products[products['Tag']==current_tag_of_main_category]))"
   ]
  },
  {
   "cell_type": "markdown",
   "metadata": {},
   "source": [
    "## Oral Care Products"
   ]
  },
  {
   "cell_type": "code",
   "execution_count": null,
   "metadata": {},
   "outputs": [
    {
     "name": "stdout",
     "output_type": "stream",
     "text": [
      "59\n"
     ]
    }
   ],
   "source": [
    "current_tag_of_main_category = BeautyAndPersonalCare.get_sub_name(BeautyAndPersonalCare.Oral_Care_Products)\n",
    "scraped_ids = scrape_asin_ids(driver,\"div[data-asin]\")\n",
    "products = update_products_dataframe_and_asins_set(products,asins_set,scraped_ids,current_main_category,current_tag_of_main_category)\n",
    "products.to_csv('products.csv',index=None)\n",
    "print(len(products[products['Tag']==current_tag_of_main_category]))"
   ]
  },
  {
   "cell_type": "markdown",
   "metadata": {},
   "source": [
    "## Bath and body wash"
   ]
  },
  {
   "cell_type": "code",
   "execution_count": null,
   "metadata": {},
   "outputs": [
    {
     "name": "stdout",
     "output_type": "stream",
     "text": [
      "60\n"
     ]
    }
   ],
   "source": [
    "current_tag_of_main_category = BeautyAndPersonalCare.get_sub_name(BeautyAndPersonalCare.Bath_and_Body_Wash)\n",
    "scraped_ids = scrape_asin_ids(driver,\"div[data-asin]\")\n",
    "products = update_products_dataframe_and_asins_set(products,asins_set,scraped_ids,current_main_category,current_tag_of_main_category)\n",
    "products.to_csv('products.csv',index=None)\n",
    "print(len(products[products['Tag']==current_tag_of_main_category]))"
   ]
  },
  {
   "cell_type": "markdown",
   "metadata": {},
   "source": [
    "## Mens grooming kits"
   ]
  },
  {
   "cell_type": "code",
   "execution_count": null,
   "metadata": {},
   "outputs": [
    {
     "name": "stdout",
     "output_type": "stream",
     "text": [
      "116\n"
     ]
    }
   ],
   "source": [
    "current_tag_of_main_category = BeautyAndPersonalCare.get_sub_name(BeautyAndPersonalCare.Mens_Grooming_Kits)\n",
    "scraped_ids = scrape_asin_ids(driver,\"div[data-asin]\")\n",
    "products = update_products_dataframe_and_asins_set(products,asins_set,scraped_ids,current_main_category,current_tag_of_main_category)\n",
    "products.to_csv('products.csv',index=None)\n",
    "print(len(products[products['Tag']==current_tag_of_main_category]))"
   ]
  },
  {
   "cell_type": "markdown",
   "metadata": {},
   "source": [
    "## Face creams and serums"
   ]
  },
  {
   "cell_type": "code",
   "execution_count": null,
   "metadata": {},
   "outputs": [
    {
     "name": "stdout",
     "output_type": "stream",
     "text": [
      "61\n"
     ]
    }
   ],
   "source": [
    "current_tag_of_main_category = BeautyAndPersonalCare.get_sub_name(BeautyAndPersonalCare.Face_Creams_and_Serums)\n",
    "scraped_ids = scrape_asin_ids(driver,\"div[data-asin]\")\n",
    "products = update_products_dataframe_and_asins_set(products,asins_set,scraped_ids,current_main_category,current_tag_of_main_category)\n",
    "products.to_csv('products.csv',index=None)\n",
    "print(len(products[products['Tag']==current_tag_of_main_category]))"
   ]
  },
  {
   "cell_type": "markdown",
   "metadata": {},
   "source": [
    "## Body Lotions and Moisturizers"
   ]
  },
  {
   "cell_type": "code",
   "execution_count": null,
   "metadata": {},
   "outputs": [
    {
     "name": "stdout",
     "output_type": "stream",
     "text": [
      "105\n"
     ]
    }
   ],
   "source": [
    "current_tag_of_main_category = BeautyAndPersonalCare.get_sub_name(BeautyAndPersonalCare.Body_Lotions_and_Moisturizers)\n",
    "scraped_ids = scrape_asin_ids(driver,\"div[data-asin]\")\n",
    "products = update_products_dataframe_and_asins_set(products,asins_set,scraped_ids,current_main_category,current_tag_of_main_category)\n",
    "products.to_csv('products.csv',index=None)\n",
    "print(len(products[products['Tag']==current_tag_of_main_category]))"
   ]
  },
  {
   "cell_type": "markdown",
   "metadata": {},
   "source": [
    "## Shaving and hair removal products"
   ]
  },
  {
   "cell_type": "code",
   "execution_count": null,
   "metadata": {},
   "outputs": [
    {
     "name": "stdout",
     "output_type": "stream",
     "text": [
      "65\n"
     ]
    }
   ],
   "source": [
    "current_tag_of_main_category = BeautyAndPersonalCare.get_sub_name(BeautyAndPersonalCare.Shaving_and_Hair_Removal_Products)\n",
    "scraped_ids = scrape_asin_ids(driver,\"div[data-asin]\")\n",
    "products = update_products_dataframe_and_asins_set(products,asins_set,scraped_ids,current_main_category,current_tag_of_main_category)\n",
    "products.to_csv('products.csv',index=None)\n",
    "print(len(products[products['Tag']==current_tag_of_main_category]))"
   ]
  },
  {
   "cell_type": "markdown",
   "metadata": {},
   "source": [
    "## Nail Polish and nail care"
   ]
  },
  {
   "cell_type": "code",
   "execution_count": null,
   "metadata": {},
   "outputs": [
    {
     "name": "stdout",
     "output_type": "stream",
     "text": [
      "68\n"
     ]
    }
   ],
   "source": [
    "current_tag_of_main_category = BeautyAndPersonalCare.get_sub_name(BeautyAndPersonalCare.Nail_Polish_and_Nail_Care)\n",
    "scraped_ids = scrape_asin_ids(driver,\"div[data-asin]\")\n",
    "products = update_products_dataframe_and_asins_set(products,asins_set,scraped_ids,current_main_category,current_tag_of_main_category)\n",
    "products.to_csv('products.csv',index=None)\n",
    "print(len(products[products['Tag']==current_tag_of_main_category]))"
   ]
  },
  {
   "cell_type": "markdown",
   "metadata": {},
   "source": [
    "## essential oils"
   ]
  },
  {
   "cell_type": "code",
   "execution_count": null,
   "metadata": {},
   "outputs": [
    {
     "name": "stdout",
     "output_type": "stream",
     "text": [
      "61\n"
     ]
    }
   ],
   "source": [
    "current_tag_of_main_category = BeautyAndPersonalCare.get_sub_name(BeautyAndPersonalCare.Essential_Oils)\n",
    "scraped_ids = scrape_asin_ids(driver,\"div[data-asin]\")\n",
    "products = update_products_dataframe_and_asins_set(products,asins_set,scraped_ids,current_main_category,current_tag_of_main_category)\n",
    "products.to_csv('products.csv',index=None)\n",
    "print(len(products[products['Tag']==current_tag_of_main_category]))"
   ]
  },
  {
   "cell_type": "markdown",
   "metadata": {},
   "source": [
    "## sunscreens and tanning products"
   ]
  },
  {
   "cell_type": "code",
   "execution_count": null,
   "metadata": {},
   "outputs": [
    {
     "name": "stdout",
     "output_type": "stream",
     "text": [
      "58\n"
     ]
    }
   ],
   "source": [
    "current_tag_of_main_category = BeautyAndPersonalCare.get_sub_name(BeautyAndPersonalCare.Sunscreens_and_Tanning_Products)\n",
    "scraped_ids = scrape_asin_ids(driver,\"div[data-asin]\")\n",
    "products = update_products_dataframe_and_asins_set(products,asins_set,scraped_ids,current_main_category,current_tag_of_main_category)\n",
    "products.to_csv('products.csv',index=None)\n",
    "print(len(products[products['Tag']==current_tag_of_main_category]))"
   ]
  },
  {
   "cell_type": "markdown",
   "metadata": {},
   "source": [
    "# Books"
   ]
  },
  {
   "cell_type": "code",
   "execution_count": 105,
   "metadata": {},
   "outputs": [],
   "source": [
    "current_main_category = Books.get_class_name()"
   ]
  },
  {
   "cell_type": "markdown",
   "metadata": {},
   "source": [
    "## Fiction Books"
   ]
  },
  {
   "cell_type": "code",
   "execution_count": 107,
   "metadata": {},
   "outputs": [
    {
     "name": "stdout",
     "output_type": "stream",
     "text": [
      "57\n"
     ]
    }
   ],
   "source": [
    "current_tag_of_main_category = Books.get_sub_name(Books.Fiction_Books)\n",
    "scraped_ids = scrape_asin_ids(driver,\"div[data-asin]\")\n",
    "products = update_products_dataframe_and_asins_set(products,asins_set,scraped_ids,current_main_category,current_tag_of_main_category)\n",
    "products.to_csv('products.csv',index=None)\n",
    "print(len(products[products['Tag']==current_tag_of_main_category]))"
   ]
  },
  {
   "cell_type": "markdown",
   "metadata": {},
   "source": [
    "## Non Fiction Books"
   ]
  },
  {
   "cell_type": "code",
   "execution_count": 110,
   "metadata": {},
   "outputs": [
    {
     "name": "stdout",
     "output_type": "stream",
     "text": [
      "69\n"
     ]
    }
   ],
   "source": [
    "current_tag_of_main_category = Books.get_sub_name(Books.Non_Fiction_Books)\n",
    "scraped_ids = scrape_asin_ids(driver,\"div[data-asin]\")\n",
    "products = update_products_dataframe_and_asins_set(products,asins_set,scraped_ids,current_main_category,current_tag_of_main_category)\n",
    "products.to_csv('products.csv',index=None)\n",
    "print(len(products[products['Tag']==current_tag_of_main_category]))"
   ]
  },
  {
   "cell_type": "markdown",
   "metadata": {},
   "source": [
    "## childrens story books"
   ]
  },
  {
   "cell_type": "code",
   "execution_count": 112,
   "metadata": {},
   "outputs": [
    {
     "name": "stdout",
     "output_type": "stream",
     "text": [
      "61\n"
     ]
    }
   ],
   "source": [
    "current_tag_of_main_category = Books.get_sub_name(Books.Childrens_Story_Books)\n",
    "scraped_ids = scrape_asin_ids(driver,\"div[data-asin]\")\n",
    "products = update_products_dataframe_and_asins_set(products,asins_set,scraped_ids,current_main_category,current_tag_of_main_category)\n",
    "products.to_csv('products.csv',index=None)\n",
    "print(len(products[products['Tag']==current_tag_of_main_category]))"
   ]
  },
  {
   "cell_type": "markdown",
   "metadata": {},
   "source": [
    "## Self Help books"
   ]
  },
  {
   "cell_type": "code",
   "execution_count": 116,
   "metadata": {},
   "outputs": [
    {
     "name": "stdout",
     "output_type": "stream",
     "text": [
      "67\n"
     ]
    }
   ],
   "source": [
    "current_tag_of_main_category = Books.get_sub_name(Books.Self_Help_Books)\n",
    "scraped_ids = scrape_asin_ids(driver,\"div[data-asin]\")\n",
    "products = update_products_dataframe_and_asins_set(products,asins_set,scraped_ids,current_main_category,current_tag_of_main_category)\n",
    "products.to_csv('products.csv',index=None)\n",
    "print(len(products[products['Tag']==current_tag_of_main_category]))"
   ]
  },
  {
   "cell_type": "markdown",
   "metadata": {},
   "source": [
    "## Academic Textbooks"
   ]
  },
  {
   "cell_type": "code",
   "execution_count": 122,
   "metadata": {},
   "outputs": [
    {
     "name": "stdout",
     "output_type": "stream",
     "text": [
      "73\n"
     ]
    }
   ],
   "source": [
    "current_tag_of_main_category = Books.get_sub_name(Books.Academic_Textbooks)\n",
    "scraped_ids = scrape_asin_ids(driver,\"div[data-asin]\")\n",
    "products = update_products_dataframe_and_asins_set(products,asins_set,scraped_ids,current_main_category,current_tag_of_main_category)\n",
    "products.to_csv('products.csv',index=None)\n",
    "print(len(products[products['Tag']==current_tag_of_main_category]))"
   ]
  },
  {
   "cell_type": "markdown",
   "metadata": {},
   "source": [
    "## biographies and auto-biographies"
   ]
  },
  {
   "cell_type": "code",
   "execution_count": 124,
   "metadata": {},
   "outputs": [
    {
     "name": "stdout",
     "output_type": "stream",
     "text": [
      "54\n"
     ]
    }
   ],
   "source": [
    "current_tag_of_main_category = Books.get_sub_name(Books.Biographies_and_Autobiographies)\n",
    "scraped_ids = scrape_asin_ids(driver,\"div[data-asin]\")\n",
    "products = update_products_dataframe_and_asins_set(products,asins_set,scraped_ids,current_main_category,current_tag_of_main_category)\n",
    "products.to_csv('products.csv',index=None)\n",
    "print(len(products[products['Tag']==current_tag_of_main_category]))"
   ]
  },
  {
   "cell_type": "markdown",
   "metadata": {},
   "source": [
    "## cookbooks and recipe books"
   ]
  },
  {
   "cell_type": "code",
   "execution_count": 126,
   "metadata": {},
   "outputs": [
    {
     "name": "stdout",
     "output_type": "stream",
     "text": [
      "58\n"
     ]
    }
   ],
   "source": [
    "current_tag_of_main_category = Books.get_sub_name(Books.Cookbooks_and_Recipe_Books)\n",
    "scraped_ids = scrape_asin_ids(driver,\"div[data-asin]\")\n",
    "products = update_products_dataframe_and_asins_set(products,asins_set,scraped_ids,current_main_category,current_tag_of_main_category)\n",
    "products.to_csv('products.csv',index=None)\n",
    "print(len(products[products['Tag']==current_tag_of_main_category]))"
   ]
  },
  {
   "cell_type": "markdown",
   "metadata": {},
   "source": [
    "## mystery and thriller books"
   ]
  },
  {
   "cell_type": "code",
   "execution_count": 129,
   "metadata": {},
   "outputs": [
    {
     "name": "stdout",
     "output_type": "stream",
     "text": [
      "58\n"
     ]
    }
   ],
   "source": [
    "current_tag_of_main_category = Books.get_sub_name(Books.Mystery_and_Thriller_Books)\n",
    "scraped_ids = scrape_asin_ids(driver,\"div[data-asin]\")\n",
    "products = update_products_dataframe_and_asins_set(products,asins_set,scraped_ids,current_main_category,current_tag_of_main_category)\n",
    "products.to_csv('products.csv',index=None)\n",
    "print(len(products[products['Tag']==current_tag_of_main_category]))"
   ]
  },
  {
   "cell_type": "markdown",
   "metadata": {},
   "source": [
    "## Science fiction books"
   ]
  },
  {
   "cell_type": "code",
   "execution_count": 132,
   "metadata": {},
   "outputs": [
    {
     "name": "stdout",
     "output_type": "stream",
     "text": [
      "62\n"
     ]
    }
   ],
   "source": [
    "current_tag_of_main_category = Books.get_sub_name(Books.Science_Fiction_Books)\n",
    "scraped_ids = scrape_asin_ids(driver,\"div[data-asin]\")\n",
    "products = update_products_dataframe_and_asins_set(products,asins_set,scraped_ids,current_main_category,current_tag_of_main_category)\n",
    "products.to_csv('products.csv',index=None)\n",
    "print(len(products[products['Tag']==current_tag_of_main_category]))"
   ]
  },
  {
   "cell_type": "markdown",
   "metadata": {},
   "source": [
    "## Romance Novels"
   ]
  },
  {
   "cell_type": "code",
   "execution_count": 135,
   "metadata": {},
   "outputs": [
    {
     "name": "stdout",
     "output_type": "stream",
     "text": [
      "64\n"
     ]
    }
   ],
   "source": [
    "current_tag_of_main_category = Books.get_sub_name(Books.Romance_Novels)\n",
    "scraped_ids = scrape_asin_ids(driver,\"div[data-asin]\")\n",
    "products = update_products_dataframe_and_asins_set(products,asins_set,scraped_ids,current_main_category,current_tag_of_main_category)\n",
    "products.to_csv('products.csv',index=None)\n",
    "print(len(products[products['Tag']==current_tag_of_main_category]))"
   ]
  },
  {
   "cell_type": "markdown",
   "metadata": {},
   "source": [
    "## Poetry Books"
   ]
  },
  {
   "cell_type": "code",
   "execution_count": 138,
   "metadata": {},
   "outputs": [
    {
     "name": "stdout",
     "output_type": "stream",
     "text": [
      "66\n"
     ]
    }
   ],
   "source": [
    "current_tag_of_main_category = Books.get_sub_name(Books.Poetry_Books)\n",
    "scraped_ids = scrape_asin_ids(driver,\"div[data-asin]\")\n",
    "products = update_products_dataframe_and_asins_set(products,asins_set,scraped_ids,current_main_category,current_tag_of_main_category)\n",
    "products.to_csv('products.csv',index=None)\n",
    "print(len(products[products['Tag']==current_tag_of_main_category]))"
   ]
  },
  {
   "cell_type": "markdown",
   "metadata": {},
   "source": [
    "# Clothing Shoes and Jewelry"
   ]
  },
  {
   "cell_type": "code",
   "execution_count": 139,
   "metadata": {},
   "outputs": [],
   "source": [
    "current_main_category = ClothingShoesAndJewelry.get_class_name()"
   ]
  },
  {
   "cell_type": "markdown",
   "metadata": {},
   "source": [
    "## Mens T shirts"
   ]
  },
  {
   "cell_type": "code",
   "execution_count": 142,
   "metadata": {},
   "outputs": [
    {
     "name": "stdout",
     "output_type": "stream",
     "text": [
      "205\n"
     ]
    }
   ],
   "source": [
    "current_tag_of_main_category = ClothingShoesAndJewelry.get_sub_name(ClothingShoesAndJewelry.Mens_T_Shirts)\n",
    "scraped_ids = scrape_asin_ids(driver,\"div[data-asin]\")\n",
    "products = update_products_dataframe_and_asins_set(products,asins_set,scraped_ids,current_main_category,current_tag_of_main_category)\n",
    "products.to_csv('products.csv',index=None)\n",
    "print(len(products[products['Tag']==current_tag_of_main_category]))"
   ]
  },
  {
   "cell_type": "markdown",
   "metadata": {},
   "source": [
    "## Womens Dresses"
   ]
  },
  {
   "cell_type": "code",
   "execution_count": 145,
   "metadata": {},
   "outputs": [
    {
     "name": "stdout",
     "output_type": "stream",
     "text": [
      "197\n"
     ]
    }
   ],
   "source": [
    "current_tag_of_main_category = ClothingShoesAndJewelry.get_sub_name(ClothingShoesAndJewelry.Womens_Dresses)\n",
    "scraped_ids = scrape_asin_ids(driver,\"div[data-asin]\")\n",
    "products = update_products_dataframe_and_asins_set(products,asins_set,scraped_ids,current_main_category,current_tag_of_main_category)\n",
    "products.to_csv('products.csv',index=None)\n",
    "print(len(products[products['Tag']==current_tag_of_main_category]))"
   ]
  },
  {
   "cell_type": "markdown",
   "metadata": {},
   "source": [
    "## sneakers for men"
   ]
  },
  {
   "cell_type": "code",
   "execution_count": 147,
   "metadata": {},
   "outputs": [
    {
     "name": "stdout",
     "output_type": "stream",
     "text": [
      "138\n"
     ]
    }
   ],
   "source": [
    "current_tag_of_main_category = ClothingShoesAndJewelry.get_sub_name(ClothingShoesAndJewelry.Sneakers_for_Men)\n",
    "scraped_ids = scrape_asin_ids(driver,\"div[data-asin]\")\n",
    "products = update_products_dataframe_and_asins_set(products,asins_set,scraped_ids,current_main_category,current_tag_of_main_category)\n",
    "products.to_csv('products.csv',index=None)\n",
    "print(len(products[products['Tag']==current_tag_of_main_category]))"
   ]
  },
  {
   "cell_type": "markdown",
   "metadata": {},
   "source": [
    "## womens heels"
   ]
  },
  {
   "cell_type": "code",
   "execution_count": 151,
   "metadata": {},
   "outputs": [
    {
     "name": "stdout",
     "output_type": "stream",
     "text": [
      "192\n"
     ]
    }
   ],
   "source": [
    "current_tag_of_main_category = ClothingShoesAndJewelry.get_sub_name(ClothingShoesAndJewelry.Womens_Heels)\n",
    "scraped_ids = scrape_asin_ids(driver,\"div[data-asin]\")\n",
    "products = update_products_dataframe_and_asins_set(products,asins_set,scraped_ids,current_main_category,current_tag_of_main_category)\n",
    "products.to_csv('products.csv',index=None)\n",
    "print(len(products[products['Tag']==current_tag_of_main_category]))"
   ]
  },
  {
   "cell_type": "markdown",
   "metadata": {},
   "source": [
    "## kids clothing sets"
   ]
  },
  {
   "cell_type": "code",
   "execution_count": 153,
   "metadata": {},
   "outputs": [
    {
     "name": "stdout",
     "output_type": "stream",
     "text": [
      "122\n"
     ]
    }
   ],
   "source": [
    "current_tag_of_main_category = ClothingShoesAndJewelry.get_sub_name(ClothingShoesAndJewelry.Kids_Clothing_Sets)\n",
    "scraped_ids = scrape_asin_ids(driver,\"div[data-asin]\")\n",
    "products = update_products_dataframe_and_asins_set(products,asins_set,scraped_ids,current_main_category,current_tag_of_main_category)\n",
    "products.to_csv('products.csv',index=None)\n",
    "print(len(products[products['Tag']==current_tag_of_main_category]))"
   ]
  },
  {
   "cell_type": "markdown",
   "metadata": {},
   "source": [
    "## womens jewelry"
   ]
  },
  {
   "cell_type": "code",
   "execution_count": 156,
   "metadata": {},
   "outputs": [
    {
     "name": "stdout",
     "output_type": "stream",
     "text": [
      "196\n"
     ]
    }
   ],
   "source": [
    "current_tag_of_main_category = ClothingShoesAndJewelry.get_sub_name(ClothingShoesAndJewelry.Womens_Jewelry)\n",
    "scraped_ids = scrape_asin_ids(driver,\"div[data-asin]\")\n",
    "products = update_products_dataframe_and_asins_set(products,asins_set,scraped_ids,current_main_category,current_tag_of_main_category)\n",
    "products.to_csv('products.csv',index=None)\n",
    "print(len(products[products['Tag']==current_tag_of_main_category]))"
   ]
  },
  {
   "cell_type": "markdown",
   "metadata": {},
   "source": [
    "## Mens watches"
   ]
  },
  {
   "cell_type": "code",
   "execution_count": 158,
   "metadata": {},
   "outputs": [
    {
     "name": "stdout",
     "output_type": "stream",
     "text": [
      "130\n"
     ]
    }
   ],
   "source": [
    "current_tag_of_main_category = ClothingShoesAndJewelry.get_sub_name(ClothingShoesAndJewelry.Mens_Watches)\n",
    "scraped_ids = scrape_asin_ids(driver,\"div[data-asin]\")\n",
    "products = update_products_dataframe_and_asins_set(products,asins_set,scraped_ids,current_main_category,current_tag_of_main_category)\n",
    "products.to_csv('products.csv',index=None)\n",
    "print(len(products[products['Tag']==current_tag_of_main_category]))"
   ]
  },
  {
   "cell_type": "markdown",
   "metadata": {},
   "source": [
    "## Casual shoes for men"
   ]
  },
  {
   "cell_type": "code",
   "execution_count": 160,
   "metadata": {},
   "outputs": [
    {
     "name": "stdout",
     "output_type": "stream",
     "text": [
      "116\n"
     ]
    }
   ],
   "source": [
    "current_tag_of_main_category = ClothingShoesAndJewelry.get_sub_name(ClothingShoesAndJewelry.Casual_Shoes_for_Men)\n",
    "scraped_ids = scrape_asin_ids(driver,\"div[data-asin]\")\n",
    "products = update_products_dataframe_and_asins_set(products,asins_set,scraped_ids,current_main_category,current_tag_of_main_category)\n",
    "products.to_csv('products.csv',index=None)\n",
    "print(len(products[products['Tag']==current_tag_of_main_category]))"
   ]
  },
  {
   "cell_type": "markdown",
   "metadata": {},
   "source": [
    "## sports shoes for women"
   ]
  },
  {
   "cell_type": "code",
   "execution_count": 162,
   "metadata": {},
   "outputs": [
    {
     "name": "stdout",
     "output_type": "stream",
     "text": [
      "132\n"
     ]
    }
   ],
   "source": [
    "current_tag_of_main_category = ClothingShoesAndJewelry.get_sub_name(ClothingShoesAndJewelry.Sports_Shoes_for_Women)\n",
    "scraped_ids = scrape_asin_ids(driver,\"div[data-asin]\")\n",
    "products = update_products_dataframe_and_asins_set(products,asins_set,scraped_ids,current_main_category,current_tag_of_main_category)\n",
    "products.to_csv('products.csv',index=None)\n",
    "print(len(products[products['Tag']==current_tag_of_main_category]))"
   ]
  },
  {
   "cell_type": "markdown",
   "metadata": {},
   "source": [
    "## women handbags"
   ]
  },
  {
   "cell_type": "code",
   "execution_count": 164,
   "metadata": {},
   "outputs": [
    {
     "name": "stdout",
     "output_type": "stream",
     "text": [
      "135\n"
     ]
    }
   ],
   "source": [
    "current_tag_of_main_category = ClothingShoesAndJewelry.get_sub_name(ClothingShoesAndJewelry.Womens_Handbags)\n",
    "scraped_ids = scrape_asin_ids(driver,\"div[data-asin]\")\n",
    "products = update_products_dataframe_and_asins_set(products,asins_set,scraped_ids,current_main_category,current_tag_of_main_category)\n",
    "products.to_csv('products.csv',index=None)\n",
    "print(len(products[products['Tag']==current_tag_of_main_category]))"
   ]
  },
  {
   "cell_type": "markdown",
   "metadata": {},
   "source": [
    "## men's belts and wallets"
   ]
  },
  {
   "cell_type": "code",
   "execution_count": 166,
   "metadata": {},
   "outputs": [
    {
     "name": "stdout",
     "output_type": "stream",
     "text": [
      "119\n"
     ]
    }
   ],
   "source": [
    "current_tag_of_main_category = ClothingShoesAndJewelry.get_sub_name(ClothingShoesAndJewelry.Mens_Belts_and_Wallets)\n",
    "scraped_ids = scrape_asin_ids(driver,\"div[data-asin]\")\n",
    "products = update_products_dataframe_and_asins_set(products,asins_set,scraped_ids,current_main_category,current_tag_of_main_category)\n",
    "products.to_csv('products.csv',index=None)\n",
    "print(len(products[products['Tag']==current_tag_of_main_category]))"
   ]
  },
  {
   "cell_type": "markdown",
   "metadata": {},
   "source": [
    "## women's scarves and wraps"
   ]
  },
  {
   "cell_type": "code",
   "execution_count": 168,
   "metadata": {},
   "outputs": [
    {
     "name": "stdout",
     "output_type": "stream",
     "text": [
      "132\n"
     ]
    }
   ],
   "source": [
    "current_tag_of_main_category = ClothingShoesAndJewelry.get_sub_name(ClothingShoesAndJewelry.Womens_Scarves_and_Wraps)\n",
    "scraped_ids = scrape_asin_ids(driver,\"div[data-asin]\")\n",
    "products = update_products_dataframe_and_asins_set(products,asins_set,scraped_ids,current_main_category,current_tag_of_main_category)\n",
    "products.to_csv('products.csv',index=None)\n",
    "print(len(products[products['Tag']==current_tag_of_main_category]))"
   ]
  },
  {
   "cell_type": "markdown",
   "metadata": {},
   "source": [
    "# Electronics"
   ]
  },
  {
   "cell_type": "code",
   "execution_count": 169,
   "metadata": {},
   "outputs": [],
   "source": [
    "current_main_category = Electronics.get_class_name()"
   ]
  },
  {
   "cell_type": "markdown",
   "metadata": {},
   "source": [
    "## Mobile Phones"
   ]
  },
  {
   "cell_type": "code",
   "execution_count": 185,
   "metadata": {},
   "outputs": [
    {
     "name": "stdout",
     "output_type": "stream",
     "text": [
      "254\n"
     ]
    }
   ],
   "source": [
    "current_tag_of_main_category = Electronics.get_sub_name(Electronics.Mobile_Phones)\n",
    "scraped_ids = scrape_asin_ids(driver,\"div[data-asin]\")\n",
    "products = update_products_dataframe_and_asins_set(products,asins_set,scraped_ids,current_main_category,current_tag_of_main_category)\n",
    "products.to_csv('products.csv',index=None)\n",
    "print(len(products[products['Tag']==current_tag_of_main_category]))"
   ]
  },
  {
   "cell_type": "markdown",
   "metadata": {},
   "source": [
    "## Laptops"
   ]
  },
  {
   "cell_type": "code",
   "execution_count": 197,
   "metadata": {},
   "outputs": [
    {
     "name": "stdout",
     "output_type": "stream",
     "text": [
      "209\n"
     ]
    }
   ],
   "source": [
    "current_tag_of_main_category = Electronics.get_sub_name(Electronics.Laptops)\n",
    "scraped_ids = scrape_asin_ids(driver,\"div[data-asin]\")\n",
    "products = update_products_dataframe_and_asins_set(products,asins_set,scraped_ids,current_main_category,current_tag_of_main_category)\n",
    "products.to_csv('products.csv',index=None)\n",
    "print(len(products[products['Tag']==current_tag_of_main_category]))"
   ]
  },
  {
   "cell_type": "markdown",
   "metadata": {},
   "source": [
    "## earphones and headphones"
   ]
  },
  {
   "cell_type": "code",
   "execution_count": 206,
   "metadata": {},
   "outputs": [
    {
     "name": "stdout",
     "output_type": "stream",
     "text": [
      "207\n"
     ]
    }
   ],
   "source": [
    "current_tag_of_main_category = Electronics.get_sub_name(Electronics.Earphones_and_Headphones)\n",
    "scraped_ids = scrape_asin_ids(driver,\"div[data-asin]\")\n",
    "products = update_products_dataframe_and_asins_set(products,asins_set,scraped_ids,current_main_category,current_tag_of_main_category)\n",
    "products.to_csv('products.csv',index=None)\n",
    "print(len(products[products['Tag']==current_tag_of_main_category]))"
   ]
  },
  {
   "cell_type": "markdown",
   "metadata": {},
   "source": [
    "## Smartwatches"
   ]
  },
  {
   "cell_type": "code",
   "execution_count": 210,
   "metadata": {},
   "outputs": [
    {
     "name": "stdout",
     "output_type": "stream",
     "text": [
      "95\n"
     ]
    }
   ],
   "source": [
    "current_tag_of_main_category = Electronics.get_sub_name(Electronics.Smartwatches)\n",
    "scraped_ids = scrape_asin_ids(driver,\"div[data-asin]\")\n",
    "products = update_products_dataframe_and_asins_set(products,asins_set,scraped_ids,current_main_category,current_tag_of_main_category)\n",
    "products.to_csv('products.csv',index=None)\n",
    "print(len(products[products['Tag']==current_tag_of_main_category]))"
   ]
  },
  {
   "cell_type": "markdown",
   "metadata": {},
   "source": [
    "## Power Banks"
   ]
  },
  {
   "cell_type": "code",
   "execution_count": 213,
   "metadata": {},
   "outputs": [
    {
     "name": "stdout",
     "output_type": "stream",
     "text": [
      "70\n"
     ]
    }
   ],
   "source": [
    "current_tag_of_main_category = Electronics.get_sub_name(Electronics.Power_Banks)\n",
    "scraped_ids = scrape_asin_ids(driver,\"div[data-asin]\")\n",
    "products = update_products_dataframe_and_asins_set(products,asins_set,scraped_ids,current_main_category,current_tag_of_main_category)\n",
    "products.to_csv('products.csv',index=None)\n",
    "print(len(products[products['Tag']==current_tag_of_main_category]))"
   ]
  },
  {
   "cell_type": "markdown",
   "metadata": {},
   "source": [
    "## Tablets"
   ]
  },
  {
   "cell_type": "code",
   "execution_count": 217,
   "metadata": {},
   "outputs": [
    {
     "name": "stdout",
     "output_type": "stream",
     "text": [
      "78\n"
     ]
    }
   ],
   "source": [
    "current_tag_of_main_category = Electronics.get_sub_name(Electronics.Tablets)\n",
    "scraped_ids = scrape_asin_ids(driver,\"div[data-asin]\")\n",
    "products = update_products_dataframe_and_asins_set(products,asins_set,scraped_ids,current_main_category,current_tag_of_main_category)\n",
    "products.to_csv('products.csv',index=None)\n",
    "print(len(products[products['Tag']==current_tag_of_main_category]))"
   ]
  },
  {
   "cell_type": "markdown",
   "metadata": {},
   "source": [
    "## Bluetooth Speakers"
   ]
  },
  {
   "cell_type": "code",
   "execution_count": 220,
   "metadata": {},
   "outputs": [
    {
     "name": "stdout",
     "output_type": "stream",
     "text": [
      "84\n"
     ]
    }
   ],
   "source": [
    "current_tag_of_main_category = Electronics.get_sub_name(Electronics.Bluetooth_Speakers)\n",
    "scraped_ids = scrape_asin_ids(driver,\"div[data-asin]\")\n",
    "products = update_products_dataframe_and_asins_set(products,asins_set,scraped_ids,current_main_category,current_tag_of_main_category)\n",
    "products.to_csv('products.csv',index=None)\n",
    "print(len(products[products['Tag']==current_tag_of_main_category]))"
   ]
  },
  {
   "cell_type": "markdown",
   "metadata": {},
   "source": [
    "## Mobile Accessories"
   ]
  },
  {
   "cell_type": "code",
   "execution_count": 223,
   "metadata": {},
   "outputs": [
    {
     "name": "stdout",
     "output_type": "stream",
     "text": [
      "79\n"
     ]
    }
   ],
   "source": [
    "current_tag_of_main_category = Electronics.get_sub_name(Electronics.Mobile_Accessories)\n",
    "scraped_ids = scrape_asin_ids(driver,\"div[data-asin]\")\n",
    "products = update_products_dataframe_and_asins_set(products,asins_set,scraped_ids,current_main_category,current_tag_of_main_category)\n",
    "products.to_csv('products.csv',index=None)\n",
    "print(len(products[products['Tag']==current_tag_of_main_category]))"
   ]
  },
  {
   "cell_type": "markdown",
   "metadata": {},
   "source": [
    "## Smart TVs"
   ]
  },
  {
   "cell_type": "code",
   "execution_count": 226,
   "metadata": {},
   "outputs": [
    {
     "name": "stdout",
     "output_type": "stream",
     "text": [
      "59\n"
     ]
    }
   ],
   "source": [
    "current_tag_of_main_category = Electronics.get_sub_name(Electronics.Smart_TVs)\n",
    "scraped_ids = scrape_asin_ids(driver,\"div[data-asin]\")\n",
    "products = update_products_dataframe_and_asins_set(products,asins_set,scraped_ids,current_main_category,current_tag_of_main_category)\n",
    "products.to_csv('products.csv',index=None)\n",
    "print(len(products[products['Tag']==current_tag_of_main_category]))"
   ]
  },
  {
   "cell_type": "markdown",
   "metadata": {},
   "source": [
    "## Gaming consoles"
   ]
  },
  {
   "cell_type": "code",
   "execution_count": 227,
   "metadata": {},
   "outputs": [
    {
     "name": "stdout",
     "output_type": "stream",
     "text": [
      "57\n"
     ]
    }
   ],
   "source": [
    "current_tag_of_main_category = Electronics.get_sub_name(Electronics.Gaming_Consoles)\n",
    "scraped_ids = scrape_asin_ids(driver,\"div[data-asin]\")\n",
    "products = update_products_dataframe_and_asins_set(products,asins_set,scraped_ids,current_main_category,current_tag_of_main_category)\n",
    "products.to_csv('products.csv',index=None)\n",
    "print(len(products[products['Tag']==current_tag_of_main_category]))"
   ]
  },
  {
   "cell_type": "markdown",
   "metadata": {},
   "source": [
    "## Printers and scanners"
   ]
  },
  {
   "cell_type": "code",
   "execution_count": 232,
   "metadata": {},
   "outputs": [
    {
     "name": "stdout",
     "output_type": "stream",
     "text": [
      "98\n"
     ]
    }
   ],
   "source": [
    "current_tag_of_main_category = Electronics.get_sub_name(Electronics.Printers_and_Scanners)\n",
    "scraped_ids = scrape_asin_ids(driver,\"div[data-asin]\")\n",
    "products = update_products_dataframe_and_asins_set(products,asins_set,scraped_ids,current_main_category,current_tag_of_main_category)\n",
    "products.to_csv('products.csv',index=None)\n",
    "print(len(products[products['Tag']==current_tag_of_main_category]))"
   ]
  },
  {
   "cell_type": "markdown",
   "metadata": {},
   "source": [
    "# Home and Kitchen"
   ]
  },
  {
   "cell_type": "code",
   "execution_count": 233,
   "metadata": {},
   "outputs": [],
   "source": [
    "current_main_category = HomeAndKitchen.get_class_name()"
   ]
  },
  {
   "cell_type": "markdown",
   "metadata": {},
   "source": [
    "## Kitchen appliances"
   ]
  },
  {
   "cell_type": "code",
   "execution_count": 236,
   "metadata": {},
   "outputs": [
    {
     "name": "stdout",
     "output_type": "stream",
     "text": [
      "59\n"
     ]
    }
   ],
   "source": [
    "current_tag_of_main_category = HomeAndKitchen.get_sub_name(HomeAndKitchen.Kitchen_Appliances)\n",
    "scraped_ids = scrape_asin_ids(driver,\"div[data-asin]\")\n",
    "products = update_products_dataframe_and_asins_set(products,asins_set,scraped_ids,current_main_category,current_tag_of_main_category)\n",
    "products.to_csv('products.csv',index=None)\n",
    "print(len(products[products['Tag']==current_tag_of_main_category]))"
   ]
  },
  {
   "cell_type": "markdown",
   "metadata": {},
   "source": [
    "## cookware sets"
   ]
  },
  {
   "cell_type": "code",
   "execution_count": 237,
   "metadata": {},
   "outputs": [
    {
     "name": "stdout",
     "output_type": "stream",
     "text": [
      "56\n"
     ]
    }
   ],
   "source": [
    "current_tag_of_main_category = HomeAndKitchen.get_sub_name(HomeAndKitchen.Cookware_Sets)\n",
    "scraped_ids = scrape_asin_ids(driver,\"div[data-asin]\")\n",
    "products = update_products_dataframe_and_asins_set(products,asins_set,scraped_ids,current_main_category,current_tag_of_main_category)\n",
    "products.to_csv('products.csv',index=None)\n",
    "print(len(products[products['Tag']==current_tag_of_main_category]))"
   ]
  },
  {
   "cell_type": "markdown",
   "metadata": {},
   "source": [
    "## bed sheets and linens"
   ]
  },
  {
   "cell_type": "code",
   "execution_count": 238,
   "metadata": {},
   "outputs": [
    {
     "name": "stdout",
     "output_type": "stream",
     "text": [
      "61\n"
     ]
    }
   ],
   "source": [
    "current_tag_of_main_category = HomeAndKitchen.get_sub_name(HomeAndKitchen.Bed_Sheets_and_Linens)\n",
    "scraped_ids = scrape_asin_ids(driver,\"div[data-asin]\")\n",
    "products = update_products_dataframe_and_asins_set(products,asins_set,scraped_ids,current_main_category,current_tag_of_main_category)\n",
    "products.to_csv('products.csv',index=None)\n",
    "print(len(products[products['Tag']==current_tag_of_main_category]))"
   ]
  },
  {
   "cell_type": "markdown",
   "metadata": {},
   "source": [
    "## Home decor items"
   ]
  },
  {
   "cell_type": "code",
   "execution_count": 239,
   "metadata": {},
   "outputs": [
    {
     "name": "stdout",
     "output_type": "stream",
     "text": [
      "69\n"
     ]
    }
   ],
   "source": [
    "current_tag_of_main_category = HomeAndKitchen.get_sub_name(HomeAndKitchen.Home_Decor_Items)\n",
    "scraped_ids = scrape_asin_ids(driver,\"div[data-asin]\")\n",
    "products = update_products_dataframe_and_asins_set(products,asins_set,scraped_ids,current_main_category,current_tag_of_main_category)\n",
    "products.to_csv('products.csv',index=None)\n",
    "print(len(products[products['Tag']==current_tag_of_main_category]))"
   ]
  },
  {
   "cell_type": "markdown",
   "metadata": {},
   "source": [
    "## storage solutions\n"
   ]
  },
  {
   "cell_type": "code",
   "execution_count": 240,
   "metadata": {},
   "outputs": [
    {
     "name": "stdout",
     "output_type": "stream",
     "text": [
      "66\n"
     ]
    }
   ],
   "source": [
    "current_tag_of_main_category = HomeAndKitchen.get_sub_name(HomeAndKitchen.Storage_Solutions)\n",
    "scraped_ids = scrape_asin_ids(driver,\"div[data-asin]\")\n",
    "products = update_products_dataframe_and_asins_set(products,asins_set,scraped_ids,current_main_category,current_tag_of_main_category)\n",
    "products.to_csv('products.csv',index=None)\n",
    "print(len(products[products['Tag']==current_tag_of_main_category]))"
   ]
  },
  {
   "cell_type": "markdown",
   "metadata": {},
   "source": [
    "## cleaning supplies"
   ]
  },
  {
   "cell_type": "code",
   "execution_count": 241,
   "metadata": {},
   "outputs": [
    {
     "name": "stdout",
     "output_type": "stream",
     "text": [
      "61\n"
     ]
    }
   ],
   "source": [
    "current_tag_of_main_category = HomeAndKitchen.get_sub_name(HomeAndKitchen.Cleaning_Supplies)\n",
    "scraped_ids = scrape_asin_ids(driver,\"div[data-asin]\")\n",
    "products = update_products_dataframe_and_asins_set(products,asins_set,scraped_ids,current_main_category,current_tag_of_main_category)\n",
    "products.to_csv('products.csv',index=None)\n",
    "print(len(products[products['Tag']==current_tag_of_main_category]))"
   ]
  },
  {
   "cell_type": "markdown",
   "metadata": {},
   "source": [
    "## dining and serveware"
   ]
  },
  {
   "cell_type": "code",
   "execution_count": 242,
   "metadata": {},
   "outputs": [
    {
     "name": "stdout",
     "output_type": "stream",
     "text": [
      "65\n"
     ]
    }
   ],
   "source": [
    "current_tag_of_main_category = HomeAndKitchen.get_sub_name(HomeAndKitchen.Dining_and_Serveware)\n",
    "scraped_ids = scrape_asin_ids(driver,\"div[data-asin]\")\n",
    "products = update_products_dataframe_and_asins_set(products,asins_set,scraped_ids,current_main_category,current_tag_of_main_category)\n",
    "products.to_csv('products.csv',index=None)\n",
    "print(len(products[products['Tag']==current_tag_of_main_category]))"
   ]
  },
  {
   "cell_type": "markdown",
   "metadata": {},
   "source": [
    "## water purifiers"
   ]
  },
  {
   "cell_type": "code",
   "execution_count": 244,
   "metadata": {},
   "outputs": [
    {
     "name": "stdout",
     "output_type": "stream",
     "text": [
      "46\n"
     ]
    }
   ],
   "source": [
    "current_tag_of_main_category = HomeAndKitchen.get_sub_name(HomeAndKitchen.Water_Purifiers)\n",
    "scraped_ids = scrape_asin_ids(driver,\"div[data-asin]\")\n",
    "products = update_products_dataframe_and_asins_set(products,asins_set,scraped_ids,current_main_category,current_tag_of_main_category)\n",
    "products.to_csv('products.csv',index=None)\n",
    "print(len(products[products['Tag']==current_tag_of_main_category]))"
   ]
  },
  {
   "cell_type": "markdown",
   "metadata": {},
   "source": [
    "## curtains and drapes"
   ]
  },
  {
   "cell_type": "code",
   "execution_count": 245,
   "metadata": {},
   "outputs": [
    {
     "name": "stdout",
     "output_type": "stream",
     "text": [
      "71\n"
     ]
    }
   ],
   "source": [
    "current_tag_of_main_category = HomeAndKitchen.get_sub_name(HomeAndKitchen.Curtains_and_Drapes)\n",
    "scraped_ids = scrape_asin_ids(driver,\"div[data-asin]\")\n",
    "products = update_products_dataframe_and_asins_set(products,asins_set,scraped_ids,current_main_category,current_tag_of_main_category)\n",
    "products.to_csv('products.csv',index=None)\n",
    "print(len(products[products['Tag']==current_tag_of_main_category]))"
   ]
  },
  {
   "cell_type": "markdown",
   "metadata": {},
   "source": [
    "## bath towels and mats"
   ]
  },
  {
   "cell_type": "code",
   "execution_count": 246,
   "metadata": {},
   "outputs": [
    {
     "name": "stdout",
     "output_type": "stream",
     "text": [
      "68\n"
     ]
    }
   ],
   "source": [
    "current_tag_of_main_category = HomeAndKitchen.get_sub_name(HomeAndKitchen.Bath_Towels_and_Mats)\n",
    "scraped_ids = scrape_asin_ids(driver,\"div[data-asin]\")\n",
    "products = update_products_dataframe_and_asins_set(products,asins_set,scraped_ids,current_main_category,current_tag_of_main_category)\n",
    "products.to_csv('products.csv',index=None)\n",
    "print(len(products[products['Tag']==current_tag_of_main_category]))"
   ]
  },
  {
   "cell_type": "markdown",
   "metadata": {},
   "source": [
    "## home furniture sets"
   ]
  },
  {
   "cell_type": "code",
   "execution_count": 247,
   "metadata": {},
   "outputs": [
    {
     "name": "stdout",
     "output_type": "stream",
     "text": [
      "62\n"
     ]
    }
   ],
   "source": [
    "current_tag_of_main_category = HomeAndKitchen.get_sub_name(HomeAndKitchen.Home_Furniture_Sets)\n",
    "scraped_ids = scrape_asin_ids(driver,\"div[data-asin]\")\n",
    "products = update_products_dataframe_and_asins_set(products,asins_set,scraped_ids,current_main_category,current_tag_of_main_category)\n",
    "products.to_csv('products.csv',index=None)\n",
    "print(len(products[products['Tag']==current_tag_of_main_category]))"
   ]
  },
  {
   "cell_type": "markdown",
   "metadata": {},
   "source": [
    "# sports and outdoors"
   ]
  },
  {
   "cell_type": "code",
   "execution_count": 248,
   "metadata": {},
   "outputs": [],
   "source": [
    "current_main_category = SportsAndOutdoors.get_class_name()"
   ]
  },
  {
   "cell_type": "markdown",
   "metadata": {},
   "source": [
    "## fitness equipments"
   ]
  },
  {
   "cell_type": "code",
   "execution_count": 249,
   "metadata": {},
   "outputs": [
    {
     "name": "stdout",
     "output_type": "stream",
     "text": [
      "67\n"
     ]
    }
   ],
   "source": [
    "current_tag_of_main_category = SportsAndOutdoors.get_sub_name(SportsAndOutdoors.Fitness_Equipment)\n",
    "scraped_ids = scrape_asin_ids(driver,\"div[data-asin]\")\n",
    "products = update_products_dataframe_and_asins_set(products,asins_set,scraped_ids,current_main_category,current_tag_of_main_category)\n",
    "products.to_csv('products.csv',index=None)\n",
    "print(len(products[products['Tag']==current_tag_of_main_category]))"
   ]
  },
  {
   "cell_type": "markdown",
   "metadata": {},
   "source": [
    "## running shoes"
   ]
  },
  {
   "cell_type": "code",
   "execution_count": 250,
   "metadata": {},
   "outputs": [
    {
     "name": "stdout",
     "output_type": "stream",
     "text": [
      "65\n"
     ]
    }
   ],
   "source": [
    "current_tag_of_main_category = SportsAndOutdoors.get_sub_name(SportsAndOutdoors.Running_Shoes)\n",
    "scraped_ids = scrape_asin_ids(driver,\"div[data-asin]\")\n",
    "products = update_products_dataframe_and_asins_set(products,asins_set,scraped_ids,current_main_category,current_tag_of_main_category)\n",
    "products.to_csv('products.csv',index=None)\n",
    "print(len(products[products['Tag']==current_tag_of_main_category]))"
   ]
  },
  {
   "cell_type": "markdown",
   "metadata": {},
   "source": [
    "## yoga mats"
   ]
  },
  {
   "cell_type": "code",
   "execution_count": 251,
   "metadata": {},
   "outputs": [
    {
     "name": "stdout",
     "output_type": "stream",
     "text": [
      "63\n"
     ]
    }
   ],
   "source": [
    "current_tag_of_main_category = SportsAndOutdoors.get_sub_name(SportsAndOutdoors.Yoga_Mats)\n",
    "scraped_ids = scrape_asin_ids(driver,\"div[data-asin]\")\n",
    "products = update_products_dataframe_and_asins_set(products,asins_set,scraped_ids,current_main_category,current_tag_of_main_category)\n",
    "products.to_csv('products.csv',index=None)\n",
    "print(len(products[products['Tag']==current_tag_of_main_category]))"
   ]
  },
  {
   "cell_type": "markdown",
   "metadata": {},
   "source": [
    "## sportswear for men"
   ]
  },
  {
   "cell_type": "code",
   "execution_count": 252,
   "metadata": {},
   "outputs": [
    {
     "name": "stdout",
     "output_type": "stream",
     "text": [
      "65\n"
     ]
    }
   ],
   "source": [
    "current_tag_of_main_category = SportsAndOutdoors.get_sub_name(SportsAndOutdoors.Sportswear_for_Men)\n",
    "scraped_ids = scrape_asin_ids(driver,\"div[data-asin]\")\n",
    "products = update_products_dataframe_and_asins_set(products,asins_set,scraped_ids,current_main_category,current_tag_of_main_category)\n",
    "products.to_csv('products.csv',index=None)\n",
    "print(len(products[products['Tag']==current_tag_of_main_category]))"
   ]
  },
  {
   "cell_type": "markdown",
   "metadata": {},
   "source": [
    "## sportswear women"
   ]
  },
  {
   "cell_type": "code",
   "execution_count": 253,
   "metadata": {},
   "outputs": [
    {
     "name": "stdout",
     "output_type": "stream",
     "text": [
      "65\n"
     ]
    }
   ],
   "source": [
    "current_tag_of_main_category = SportsAndOutdoors.get_sub_name(SportsAndOutdoors.Sportswear_for_Women)\n",
    "scraped_ids = scrape_asin_ids(driver,\"div[data-asin]\")\n",
    "products = update_products_dataframe_and_asins_set(products,asins_set,scraped_ids,current_main_category,current_tag_of_main_category)\n",
    "products.to_csv('products.csv',index=None)\n",
    "print(len(products[products['Tag']==current_tag_of_main_category]))"
   ]
  },
  {
   "cell_type": "markdown",
   "metadata": {},
   "source": [
    "## bicycle and cycle accessories"
   ]
  },
  {
   "cell_type": "code",
   "execution_count": 255,
   "metadata": {},
   "outputs": [
    {
     "name": "stdout",
     "output_type": "stream",
     "text": [
      "92\n"
     ]
    }
   ],
   "source": [
    "current_tag_of_main_category = SportsAndOutdoors.get_sub_name(SportsAndOutdoors.Bicycles_and_Cycling_Accessories)\n",
    "scraped_ids = scrape_asin_ids(driver,\"div[data-asin]\")\n",
    "products = update_products_dataframe_and_asins_set(products,asins_set,scraped_ids,current_main_category,current_tag_of_main_category)\n",
    "products.to_csv('products.csv',index=None)\n",
    "print(len(products[products['Tag']==current_tag_of_main_category]))"
   ]
  },
  {
   "cell_type": "markdown",
   "metadata": {},
   "source": [
    "## swimming gear"
   ]
  },
  {
   "cell_type": "code",
   "execution_count": 256,
   "metadata": {},
   "outputs": [
    {
     "name": "stdout",
     "output_type": "stream",
     "text": [
      "60\n"
     ]
    }
   ],
   "source": [
    "current_tag_of_main_category = SportsAndOutdoors.get_sub_name(SportsAndOutdoors.Swimming_Gear)\n",
    "scraped_ids = scrape_asin_ids(driver,\"div[data-asin]\")\n",
    "products = update_products_dataframe_and_asins_set(products,asins_set,scraped_ids,current_main_category,current_tag_of_main_category)\n",
    "products.to_csv('products.csv',index=None)\n",
    "print(len(products[products['Tag']==current_tag_of_main_category]))"
   ]
  },
  {
   "cell_type": "markdown",
   "metadata": {},
   "source": [
    "## cricket bats and balls"
   ]
  },
  {
   "cell_type": "code",
   "execution_count": 257,
   "metadata": {},
   "outputs": [
    {
     "name": "stdout",
     "output_type": "stream",
     "text": [
      "61\n"
     ]
    }
   ],
   "source": [
    "current_tag_of_main_category = SportsAndOutdoors.get_sub_name(SportsAndOutdoors.Cricket_Bats_and_Balls)\n",
    "scraped_ids = scrape_asin_ids(driver,\"div[data-asin]\")\n",
    "products = update_products_dataframe_and_asins_set(products,asins_set,scraped_ids,current_main_category,current_tag_of_main_category)\n",
    "products.to_csv('products.csv',index=None)\n",
    "print(len(products[products['Tag']==current_tag_of_main_category]))"
   ]
  },
  {
   "cell_type": "markdown",
   "metadata": {},
   "source": [
    "## badminton "
   ]
  },
  {
   "cell_type": "code",
   "execution_count": 258,
   "metadata": {},
   "outputs": [
    {
     "name": "stdout",
     "output_type": "stream",
     "text": [
      "60\n"
     ]
    }
   ],
   "source": [
    "current_tag_of_main_category = SportsAndOutdoors.get_sub_name(SportsAndOutdoors.Badminton_Racquets_and_Shuttlecocks)\n",
    "scraped_ids = scrape_asin_ids(driver,\"div[data-asin]\")\n",
    "products = update_products_dataframe_and_asins_set(products,asins_set,scraped_ids,current_main_category,current_tag_of_main_category)\n",
    "products.to_csv('products.csv',index=None)\n",
    "print(len(products[products['Tag']==current_tag_of_main_category]))"
   ]
  },
  {
   "cell_type": "markdown",
   "metadata": {},
   "source": [
    "## football"
   ]
  },
  {
   "cell_type": "code",
   "execution_count": 260,
   "metadata": {},
   "outputs": [
    {
     "name": "stdout",
     "output_type": "stream",
     "text": [
      "126\n"
     ]
    }
   ],
   "source": [
    "current_tag_of_main_category = SportsAndOutdoors.get_sub_name(SportsAndOutdoors.Footballs_and_Accessories)\n",
    "scraped_ids = scrape_asin_ids(driver,\"div[data-asin]\")\n",
    "products = update_products_dataframe_and_asins_set(products,asins_set,scraped_ids,current_main_category,current_tag_of_main_category)\n",
    "products.to_csv('products.csv',index=None)\n",
    "print(len(products[products['Tag']==current_tag_of_main_category]))"
   ]
  },
  {
   "cell_type": "markdown",
   "metadata": {},
   "source": [
    "## gym"
   ]
  },
  {
   "cell_type": "code",
   "execution_count": 261,
   "metadata": {},
   "outputs": [
    {
     "name": "stdout",
     "output_type": "stream",
     "text": [
      "55\n"
     ]
    }
   ],
   "source": [
    "current_tag_of_main_category = SportsAndOutdoors.get_sub_name(SportsAndOutdoors.Gym_Gloves_and_Accessories)\n",
    "scraped_ids = scrape_asin_ids(driver,\"div[data-asin]\")\n",
    "products = update_products_dataframe_and_asins_set(products,asins_set,scraped_ids,current_main_category,current_tag_of_main_category)\n",
    "products.to_csv('products.csv',index=None)\n",
    "print(len(products[products['Tag']==current_tag_of_main_category]))"
   ]
  },
  {
   "cell_type": "markdown",
   "metadata": {},
   "source": [
    "## water bottles and shakers"
   ]
  },
  {
   "cell_type": "code",
   "execution_count": 262,
   "metadata": {},
   "outputs": [
    {
     "name": "stdout",
     "output_type": "stream",
     "text": [
      "58\n"
     ]
    }
   ],
   "source": [
    "current_tag_of_main_category = SportsAndOutdoors.get_sub_name(SportsAndOutdoors.Water_Bottles_and_Shakers)\n",
    "scraped_ids = scrape_asin_ids(driver,\"div[data-asin]\")\n",
    "products = update_products_dataframe_and_asins_set(products,asins_set,scraped_ids,current_main_category,current_tag_of_main_category)\n",
    "products.to_csv('products.csv',index=None)\n",
    "print(len(products[products['Tag']==current_tag_of_main_category]))"
   ]
  },
  {
   "cell_type": "markdown",
   "metadata": {},
   "source": [
    "# further analysis"
   ]
  },
  {
   "cell_type": "code",
   "execution_count": 266,
   "metadata": {},
   "outputs": [],
   "source": [
    "df = pd.read_csv('products.csv')"
   ]
  },
  {
   "cell_type": "code",
   "execution_count": 267,
   "metadata": {},
   "outputs": [
    {
     "data": {
      "text/plain": [
       "True"
      ]
     },
     "execution_count": 267,
     "metadata": {},
     "output_type": "execute_result"
    }
   ],
   "source": [
    "df.equals(products)"
   ]
  }
 ],
 "metadata": {
  "kernelspec": {
   "display_name": "venv",
   "language": "python",
   "name": "python3"
  },
  "language_info": {
   "codemirror_mode": {
    "name": "ipython",
    "version": 3
   },
   "file_extension": ".py",
   "mimetype": "text/x-python",
   "name": "python",
   "nbconvert_exporter": "python",
   "pygments_lexer": "ipython3",
   "version": "3.11.5"
  }
 },
 "nbformat": 4,
 "nbformat_minor": 2
}
