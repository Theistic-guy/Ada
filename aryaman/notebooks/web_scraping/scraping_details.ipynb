{
 "cells": [
  {
   "cell_type": "code",
   "execution_count": 12,
   "metadata": {},
   "outputs": [],
   "source": [
    "import pandas as pd\n",
    "import numpy as np\n",
    "import requests\n",
    "from pprint import pprint"
   ]
  },
  {
   "cell_type": "code",
   "execution_count": 8,
   "metadata": {},
   "outputs": [],
   "source": [
    "products = pd.read_csv(r'aryaman/csv/categories_and_products/products.csv')"
   ]
  },
  {
   "cell_type": "code",
   "execution_count": 28,
   "metadata": {},
   "outputs": [
    {
     "data": {
      "text/html": [
       "<div>\n",
       "<style scoped>\n",
       "    .dataframe tbody tr th:only-of-type {\n",
       "        vertical-align: middle;\n",
       "    }\n",
       "\n",
       "    .dataframe tbody tr th {\n",
       "        vertical-align: top;\n",
       "    }\n",
       "\n",
       "    .dataframe thead th {\n",
       "        text-align: right;\n",
       "    }\n",
       "</style>\n",
       "<table border=\"1\" class=\"dataframe\">\n",
       "  <thead>\n",
       "    <tr style=\"text-align: right;\">\n",
       "      <th></th>\n",
       "      <th>Main Category</th>\n",
       "      <th>Tag</th>\n",
       "      <th>ASIN</th>\n",
       "      <th>Product Link</th>\n",
       "    </tr>\n",
       "  </thead>\n",
       "  <tbody>\n",
       "    <tr>\n",
       "      <th>0</th>\n",
       "      <td>Baby Products</td>\n",
       "      <td>Diapers</td>\n",
       "      <td>B075GHP2LX</td>\n",
       "      <td>https://www.amazon.in/dp/B075GHP2LX</td>\n",
       "    </tr>\n",
       "    <tr>\n",
       "      <th>1</th>\n",
       "      <td>Baby Products</td>\n",
       "      <td>Diapers</td>\n",
       "      <td>B08X3KG1T9</td>\n",
       "      <td>https://www.amazon.in/dp/B08X3KG1T9</td>\n",
       "    </tr>\n",
       "    <tr>\n",
       "      <th>2</th>\n",
       "      <td>Baby Products</td>\n",
       "      <td>Diapers</td>\n",
       "      <td>B0D9GX6F1W</td>\n",
       "      <td>https://www.amazon.in/dp/B0D9GX6F1W</td>\n",
       "    </tr>\n",
       "    <tr>\n",
       "      <th>3</th>\n",
       "      <td>Baby Products</td>\n",
       "      <td>Diapers</td>\n",
       "      <td>B07DP24NSR</td>\n",
       "      <td>https://www.amazon.in/dp/B07DP24NSR</td>\n",
       "    </tr>\n",
       "    <tr>\n",
       "      <th>4</th>\n",
       "      <td>Baby Products</td>\n",
       "      <td>Diapers</td>\n",
       "      <td>B08X3LXQT7</td>\n",
       "      <td>https://www.amazon.in/dp/B08X3LXQT7</td>\n",
       "    </tr>\n",
       "    <tr>\n",
       "      <th>5</th>\n",
       "      <td>Baby Products</td>\n",
       "      <td>Diapers</td>\n",
       "      <td>B08P78LQSL</td>\n",
       "      <td>https://www.amazon.in/dp/B08P78LQSL</td>\n",
       "    </tr>\n",
       "    <tr>\n",
       "      <th>6</th>\n",
       "      <td>Baby Products</td>\n",
       "      <td>Diapers</td>\n",
       "      <td>B0D9GW7S6Z</td>\n",
       "      <td>https://www.amazon.in/dp/B0D9GW7S6Z</td>\n",
       "    </tr>\n",
       "    <tr>\n",
       "      <th>7</th>\n",
       "      <td>Baby Products</td>\n",
       "      <td>Diapers</td>\n",
       "      <td>B07Y8SD193</td>\n",
       "      <td>https://www.amazon.in/dp/B07Y8SD193</td>\n",
       "    </tr>\n",
       "    <tr>\n",
       "      <th>8</th>\n",
       "      <td>Baby Products</td>\n",
       "      <td>Diapers</td>\n",
       "      <td>B09CKWH7W3</td>\n",
       "      <td>https://www.amazon.in/dp/B09CKWH7W3</td>\n",
       "    </tr>\n",
       "    <tr>\n",
       "      <th>9</th>\n",
       "      <td>Baby Products</td>\n",
       "      <td>Diapers</td>\n",
       "      <td>B096LZ5WL5</td>\n",
       "      <td>https://www.amazon.in/dp/B096LZ5WL5</td>\n",
       "    </tr>\n",
       "  </tbody>\n",
       "</table>\n",
       "</div>"
      ],
      "text/plain": [
       "   Main Category      Tag        ASIN                         Product Link\n",
       "0  Baby Products  Diapers  B075GHP2LX  https://www.amazon.in/dp/B075GHP2LX\n",
       "1  Baby Products  Diapers  B08X3KG1T9  https://www.amazon.in/dp/B08X3KG1T9\n",
       "2  Baby Products  Diapers  B0D9GX6F1W  https://www.amazon.in/dp/B0D9GX6F1W\n",
       "3  Baby Products  Diapers  B07DP24NSR  https://www.amazon.in/dp/B07DP24NSR\n",
       "4  Baby Products  Diapers  B08X3LXQT7  https://www.amazon.in/dp/B08X3LXQT7\n",
       "5  Baby Products  Diapers  B08P78LQSL  https://www.amazon.in/dp/B08P78LQSL\n",
       "6  Baby Products  Diapers  B0D9GW7S6Z  https://www.amazon.in/dp/B0D9GW7S6Z\n",
       "7  Baby Products  Diapers  B07Y8SD193  https://www.amazon.in/dp/B07Y8SD193\n",
       "8  Baby Products  Diapers  B09CKWH7W3  https://www.amazon.in/dp/B09CKWH7W3\n",
       "9  Baby Products  Diapers  B096LZ5WL5  https://www.amazon.in/dp/B096LZ5WL5"
      ]
     },
     "execution_count": 28,
     "metadata": {},
     "output_type": "execute_result"
    }
   ],
   "source": [
    "products.head(10)"
   ]
  }
 ],
 "metadata": {
  "kernelspec": {
   "display_name": "venv",
   "language": "python",
   "name": "python3"
  },
  "language_info": {
   "codemirror_mode": {
    "name": "ipython",
    "version": 3
   },
   "file_extension": ".py",
   "mimetype": "text/x-python",
   "name": "python",
   "nbconvert_exporter": "python",
   "pygments_lexer": "ipython3",
   "version": "3.11.5"
  }
 },
 "nbformat": 4,
 "nbformat_minor": 2
}
