{
 "cells": [
  {
   "cell_type": "code",
   "execution_count": 1,
   "metadata": {},
   "outputs": [],
   "source": [
    "import pandas as pd\n",
    "import numpy as np\n",
    "import csv\n",
    "import ast\n",
    "from selenium.webdriver.common.by import By\n",
    "from selenium.webdriver.common.keys import Keys\n",
    "from selenium.webdriver.chrome.options import Options\n",
    "from selenium.webdriver.support.ui import WebDriverWait\n",
    "from selenium.webdriver.support import expected_conditions as EC\n",
    "from selenium.common.exceptions import NoSuchElementException\n",
    "from selenium import webdriver\n",
    "import time\n",
    "import logging\n",
    "logging.getLogger().setLevel(logging.INFO)\n",
    "logging.basicConfig(\n",
    "    filename='scraping_missing.log',\n",
    "    format='%(asctime)s - %(levelname)s - %(message)s',\n",
    "    datefmt='%Y-%m-%d %H:%M:%S'\n",
    ")"
   ]
  },
  {
   "cell_type": "code",
   "execution_count": 49,
   "metadata": {},
   "outputs": [],
   "source": [
    "scraped_details_df = pd.read_csv('aryaman/csv/scraping/scraping_details.csv',encoding='utf-8')\n",
    "products = pd.read_csv('aryaman/csv/categories_and_products/products.csv')\n",
    "missing_details_df = pd.read_csv(\"aryaman/csv/scraping/MissingDetailsChart.csv\")"
   ]
  },
  {
   "cell_type": "code",
   "execution_count": 3,
   "metadata": {},
   "outputs": [],
   "source": [
    "scraped_details_df['Images'] = scraped_details_df['Images'].apply(lambda item: ast.literal_eval(item) if pd.notna(item) else item)\n",
    "scraped_details_df['productOverview'] = scraped_details_df['productOverview'].apply(lambda item: ast.literal_eval(item) if pd.notna(item) else item)\n",
    "scraped_details_df['featureBullets'] = scraped_details_df['featureBullets'].apply(lambda item: ast.literal_eval(item) if pd.notna(item) else item)"
   ]
  },
  {
   "cell_type": "code",
   "execution_count": 6,
   "metadata": {},
   "outputs": [
    {
     "data": {
      "text/plain": [
       "featureBullets  Overview\n",
       "False           True        259\n",
       "True            False        67\n",
       "Name: count, dtype: int64"
      ]
     },
     "execution_count": 6,
     "metadata": {},
     "output_type": "execute_result"
    }
   ],
   "source": [
    "bullets_and_overview_same_df = missing_details_df[missing_details_df['featureBullets']== missing_details_df['Overview']]\n",
    "diff_bullets_and_overview_df = pd.concat([bullets_and_overview_same_df,missing_details_df]).drop_duplicates(keep=False)\n",
    "diff_bullets_and_overview_df[['featureBullets','Overview']].value_counts()"
   ]
  },
  {
   "cell_type": "code",
   "execution_count": 8,
   "metadata": {},
   "outputs": [],
   "source": [
    "merged_df = pd.merge(products,missing_details_df[(missing_details_df['featureBullets']==True) & (missing_details_df['Overview']==True)],on='ASIN',how='inner')"
   ]
  },
  {
   "cell_type": "code",
   "execution_count": 19,
   "metadata": {},
   "outputs": [],
   "source": [
    "webdriver_path = \"..\\chromedriver.exe\"\n",
    "cService = webdriver.ChromeService(executable_path=webdriver_path)\n",
    "# chrome_options = Options()\n",
    "# chrome_options.add_experimental_option(\"detach\",True)\n",
    "driver = webdriver.Chrome(service=cService)"
   ]
  },
  {
   "cell_type": "code",
   "execution_count": 16,
   "metadata": {},
   "outputs": [],
   "source": [
    "# with open('scraping_missing_details_featureBullets_Overview.csv','w',newline='',encoding='utf-8') as file:\n",
    "#     writer = csv.DictWriter(file,fieldnames=['ASIN',  'productOverview', 'featureBullets'])\n",
    "#     writer.writeheader()"
   ]
  },
  {
   "cell_type": "code",
   "execution_count": 17,
   "metadata": {},
   "outputs": [],
   "source": [
    "# pd.DataFrame({\"blacklisted_asins\":[]}).to_csv('blacklisted2.csv',index=False)"
   ]
  },
  {
   "cell_type": "code",
   "execution_count": 18,
   "metadata": {},
   "outputs": [],
   "source": [
    "def filter_unscraped_iter(products_links_df,scraped_details_df):\n",
    "    return list(products_links_df[~(products_links_df['ASIN'].isin(scraped_details_df['ASIN']))].itertuples(index=False))"
   ]
  },
  {
   "cell_type": "code",
   "execution_count": 77,
   "metadata": {},
   "outputs": [],
   "source": [
    "scraped_missing_details_df = pd.read_csv('scraping_missing_details_featureBullets_Overview.csv',encoding='utf-8')\n",
    "products_links = merged_df[['ASIN','Product Link']]\n",
    "products_links.reset_index(inplace=True,drop=True)\n",
    "blacklisted_asins = (pd.read_csv('blacklisted2.csv'))['blacklisted_asins'].tolist()\n",
    "missing_details_update_df = pd.read_csv(\"MissingDetailsUpdated.csv\")\n",
    "no_of_items_to_scrape = 1000\n",
    "how_many_scraped = 0\n",
    "with open('scraping_missing_details_featureBullets_Overview.csv','a',newline='',encoding='utf-8') as file:\n",
    "    writer = csv.DictWriter(file,fieldnames=['ASIN','productOverview','featureBullets'])\n",
    "    iterator_to_loop = filter_unscraped_iter(products_links,scraped_missing_details_df)\n",
    "    for link in iterator_to_loop:\n",
    "        if link.ASIN in blacklisted_asins:\n",
    "            continue\n",
    "        driver.get(link._1)\n",
    "        time.sleep(1)\n",
    "        try:\n",
    "            productFactsDiv = driver.find_element(By.ID,'productFactsDesktop_feature_div')\n",
    "            try:\n",
    "                overview = dict()\n",
    "                headings = productFactsDiv.find_elements(By.TAG_NAME,'h3')\n",
    "                product_details_heading = None\n",
    "                for heading in headings:\n",
    "                    if ((driver.execute_script(\"return arguments[0].textContent\",heading)).strip() == 'Product details'):\n",
    "                        product_details_heading = heading\n",
    "                if product_details_heading != None:\n",
    "                    missing_details_update_df.loc[missing_details_update_df['ASIN']==link.ASIN,'Overview'] =  False\n",
    "                    logging.info(f\"missing details updated {link.ASIN}\")\n",
    "                    nextSibling = driver.execute_script(\"return arguments[0].nextElementSibling\",product_details_heading)\n",
    "                    while( nextSibling.tag_name == 'div' and 'product-facts-detail' in nextSibling.get_attribute(\"class\")):\n",
    "                        spans = nextSibling.find_elements(By.CSS_SELECTOR,\"span.a-color-base\")\n",
    "                        if len(spans) == 2:\n",
    "                            if len(spans[0].find_elements(By.CSS_SELECTOR,\"*\")) == len(spans[1].find_elements(By.CSS_SELECTOR,\"*\")) == 0:\n",
    "                                overview[driver.execute_script(\"return arguments[0].textContent\",spans[0])] = driver.execute_script(\"return arguments[0].textContent\",spans[1])\n",
    "                        nextSibling = driver.execute_script(\"return arguments[0].nextElementSibling\",nextSibling)\n",
    "            except NoSuchElementException:\n",
    "                print(\"over view not found\",link.ASIN)\n",
    "                logging.info(f\"overview not found {link.ASIN}\")\n",
    "            except Exception as e:\n",
    "                print(f\"Exception in headings {link.ASIN}\",e)\n",
    "                break\n",
    "            try:\n",
    "                bullets_text = list()\n",
    "                list_of_bullets = productFactsDiv.find_element(By.TAG_NAME,'ul')\n",
    "                bullets = list_of_bullets.find_elements(By.TAG_NAME,'li')\n",
    "                if len(bullets) == 0:\n",
    "                    raise ValueError\n",
    "                missing_details_update_df.loc[missing_details_update_df['ASIN']==link.ASIN,'featureBullets'] =  False\n",
    "                logging.info(f\"missing details updated {link.ASIN}\")\n",
    "                for bullet in bullets:\n",
    "                    spans = bullet.find_elements(By.TAG_NAME,'span')\n",
    "                    if len(spans) == 1:\n",
    "                        if len(spans[0].find_elements(By.CSS_SELECTOR,\"*\")) == 0:\n",
    "                            bullets_text.append((driver.execute_script(\"return arguments[0].textContent\",spans[0])))\n",
    "                \n",
    "            except NoSuchElementException:\n",
    "                print(\"bullets not found \",link.ASIN)\n",
    "                logging.info(f\"bullets not found {link.ASIN}\")\n",
    "            except Exception as e:\n",
    "                print(f\"Exception in bullets {link.ASIN}\",e)\n",
    "                break\n",
    "            if len(overview)>0 or len(bullets_text) > 0:\n",
    "                if len(overview) == 0:\n",
    "                    overview = None\n",
    "                if len(bullets_text) == 0:\n",
    "                    bullets_text = None\n",
    "                new_entry = {'ASIN':link.ASIN,'productOverview':overview,'featureBullets':bullets_text}\n",
    "                writer.writerow(new_entry)\n",
    "                file.flush()\n",
    "            missing_details_update_df.to_csv('MissingDetailsUpdated.csv',index=False)\n",
    "            no_of_items_to_scrape -= 1\n",
    "            if no_of_items_to_scrape == 0:\n",
    "                print('break normally')\n",
    "                break\n",
    "            how_many_scraped += 1\n",
    "            if how_many_scraped == 50:\n",
    "                print(1000-no_of_items_to_scrape)\n",
    "                how_many_scraped = 0\n",
    "            \n",
    "        except ValueError as e:\n",
    "            print(f\"value error occurred,breaking {link.ASIN}\",e)\n",
    "            break\n",
    "        except NoSuchElementException:\n",
    "            # print(\"Blacklisting\")\n",
    "            blacklisted_asins.append(link.ASIN)\n",
    "            pd.DataFrame({'blacklisted_asins':blacklisted_asins}).to_csv('blacklisted2.csv',index=False)\n",
    "            logging.warning(f\"blacklisted - {link.ASIN}\")\n",
    "        except Exception as e:\n",
    "            print(f\"some exception occurred,breaking {link.ASIN}\",e)\n",
    "            break\n",
    "missing_details_update_df.to_csv('MissingDetailsUpdated.csv',index=False)\n",
    "logging.info(f\"missing details flushed to file\")"
   ]
  },
  {
   "cell_type": "code",
   "execution_count": 78,
   "metadata": {},
   "outputs": [],
   "source": [
    "scraped_missing_details_df = pd.read_csv('scraping_missing_details_featureBullets_Overview.csv',encoding='utf-8')"
   ]
  },
  {
   "cell_type": "code",
   "execution_count": 44,
   "metadata": {},
   "outputs": [],
   "source": [
    "missing_details_update_df = pd.read_csv(\"MissingDetailsUpdated.csv\")"
   ]
  },
  {
   "cell_type": "code",
   "execution_count": 109,
   "metadata": {},
   "outputs": [
    {
     "data": {
      "text/html": [
       "<div>\n",
       "<style scoped>\n",
       "    .dataframe tbody tr th:only-of-type {\n",
       "        vertical-align: middle;\n",
       "    }\n",
       "\n",
       "    .dataframe tbody tr th {\n",
       "        vertical-align: top;\n",
       "    }\n",
       "\n",
       "    .dataframe thead th {\n",
       "        text-align: right;\n",
       "    }\n",
       "</style>\n",
       "<table border=\"1\" class=\"dataframe\">\n",
       "  <thead>\n",
       "    <tr style=\"text-align: right;\">\n",
       "      <th></th>\n",
       "      <th>ASIN</th>\n",
       "      <th>star_rating</th>\n",
       "      <th>ratings</th>\n",
       "      <th>featureBullets</th>\n",
       "      <th>Overview</th>\n",
       "    </tr>\n",
       "  </thead>\n",
       "  <tbody>\n",
       "    <tr>\n",
       "      <th>2226</th>\n",
       "      <td>B0BQ4ZD1HR</td>\n",
       "      <td>False</td>\n",
       "      <td>False</td>\n",
       "      <td>True</td>\n",
       "      <td>False</td>\n",
       "    </tr>\n",
       "    <tr>\n",
       "      <th>2264</th>\n",
       "      <td>B08D3L7853</td>\n",
       "      <td>False</td>\n",
       "      <td>False</td>\n",
       "      <td>True</td>\n",
       "      <td>False</td>\n",
       "    </tr>\n",
       "    <tr>\n",
       "      <th>2334</th>\n",
       "      <td>B09NN4WSD8</td>\n",
       "      <td>False</td>\n",
       "      <td>False</td>\n",
       "      <td>True</td>\n",
       "      <td>False</td>\n",
       "    </tr>\n",
       "    <tr>\n",
       "      <th>2442</th>\n",
       "      <td>B08FZS2NFS</td>\n",
       "      <td>False</td>\n",
       "      <td>False</td>\n",
       "      <td>True</td>\n",
       "      <td>False</td>\n",
       "    </tr>\n",
       "    <tr>\n",
       "      <th>2936</th>\n",
       "      <td>B08D3PQ8Z6</td>\n",
       "      <td>False</td>\n",
       "      <td>False</td>\n",
       "      <td>True</td>\n",
       "      <td>False</td>\n",
       "    </tr>\n",
       "  </tbody>\n",
       "</table>\n",
       "</div>"
      ],
      "text/plain": [
       "            ASIN  star_rating  ratings  featureBullets  Overview\n",
       "2226  B0BQ4ZD1HR        False    False            True     False\n",
       "2264  B08D3L7853        False    False            True     False\n",
       "2334  B09NN4WSD8        False    False            True     False\n",
       "2442  B08FZS2NFS        False    False            True     False\n",
       "2936  B08D3PQ8Z6        False    False            True     False"
      ]
     },
     "execution_count": 109,
     "metadata": {},
     "output_type": "execute_result"
    }
   ],
   "source": [
    "missing_details_update_df[missing_details_update_df['ASIN'].isin(scraped_missing_details_df[scraped_missing_details_df['featureBullets'].isnull()]['ASIN'])]"
   ]
  },
  {
   "cell_type": "code",
   "execution_count": 110,
   "metadata": {},
   "outputs": [],
   "source": [
    "blacklisted_asins_df = pd.read_csv('blacklisted2.csv')"
   ]
  },
  {
   "cell_type": "code",
   "execution_count": 123,
   "metadata": {},
   "outputs": [
    {
     "data": {
      "text/plain": [
       "True"
      ]
     },
     "execution_count": 123,
     "metadata": {},
     "output_type": "execute_result"
    }
   ],
   "source": [
    "missing_details_update_df[missing_details_update_df['ASIN'].isin(blacklisted_asins_df['blacklisted_asins'])].reset_index(drop=True).equals(missing_details_df[missing_details_df['ASIN'].isin(blacklisted_asins_df['blacklisted_asins'])].reset_index(drop=True))"
   ]
  },
  {
   "cell_type": "code",
   "execution_count": 129,
   "metadata": {},
   "outputs": [],
   "source": [
    "asins_of_only_bullets = missing_details_df[(missing_details_df['featureBullets']==True) & (missing_details_df['Overview']==False)]['ASIN'].tolist()"
   ]
  },
  {
   "cell_type": "code",
   "execution_count": 131,
   "metadata": {},
   "outputs": [],
   "source": [
    "# missing_details_df[(missing_details_df['featureBullets']==False) & (missing_details_df['Overview']==True)]\n",
    "asins_of_only_overview = missing_details_df[(missing_details_df['featureBullets']==False) & (missing_details_df['Overview']==True)]['ASIN'].tolist()"
   ]
  },
  {
   "cell_type": "code",
   "execution_count": 135,
   "metadata": {},
   "outputs": [
    {
     "data": {
      "text/plain": [
       "array(['B0CQ6HNDZ4', 'B0CY5HVDS2', 'B0BQC6R7B7', 'B07XXFB9CZ',\n",
       "       'B0D4L8QSWP'], dtype='<U10')"
      ]
     },
     "execution_count": 135,
     "metadata": {},
     "output_type": "execute_result"
    }
   ],
   "source": [
    "np.random.choice(asins_of_only_overview,5)"
   ]
  },
  {
   "cell_type": "code",
   "execution_count": 120,
   "metadata": {},
   "outputs": [
    {
     "data": {
      "text/html": [
       "<div>\n",
       "<style scoped>\n",
       "    .dataframe tbody tr th:only-of-type {\n",
       "        vertical-align: middle;\n",
       "    }\n",
       "\n",
       "    .dataframe tbody tr th {\n",
       "        vertical-align: top;\n",
       "    }\n",
       "\n",
       "    .dataframe thead th {\n",
       "        text-align: right;\n",
       "    }\n",
       "</style>\n",
       "<table border=\"1\" class=\"dataframe\">\n",
       "  <thead>\n",
       "    <tr style=\"text-align: right;\">\n",
       "      <th></th>\n",
       "      <th>ASIN</th>\n",
       "      <th>productOverview</th>\n",
       "      <th>featureBullets</th>\n",
       "    </tr>\n",
       "  </thead>\n",
       "  <tbody>\n",
       "    <tr>\n",
       "      <th>1186</th>\n",
       "      <td>B0BQ4ZD1HR</td>\n",
       "      <td>{'Case diameter': '40 Millimetres', 'Band colo...</td>\n",
       "      <td>NaN</td>\n",
       "    </tr>\n",
       "    <tr>\n",
       "      <th>1224</th>\n",
       "      <td>B08D3L7853</td>\n",
       "      <td>{'Material type': 'Synthetic', 'Closure type':...</td>\n",
       "      <td>NaN</td>\n",
       "    </tr>\n",
       "    <tr>\n",
       "      <th>1293</th>\n",
       "      <td>B09NN4WSD8</td>\n",
       "      <td>{'Material type': 'Mesh', 'Closure type': 'Lac...</td>\n",
       "      <td>NaN</td>\n",
       "    </tr>\n",
       "    <tr>\n",
       "      <th>1401</th>\n",
       "      <td>B08FZS2NFS</td>\n",
       "      <td>{'Material type': 'Mesh', 'Closure type': 'Lac...</td>\n",
       "      <td>NaN</td>\n",
       "    </tr>\n",
       "    <tr>\n",
       "      <th>1712</th>\n",
       "      <td>B08D3PQ8Z6</td>\n",
       "      <td>{'Material type': 'Synthetic', 'Closure type':...</td>\n",
       "      <td>NaN</td>\n",
       "    </tr>\n",
       "  </tbody>\n",
       "</table>\n",
       "</div>"
      ],
      "text/plain": [
       "            ASIN                                    productOverview  \\\n",
       "1186  B0BQ4ZD1HR  {'Case diameter': '40 Millimetres', 'Band colo...   \n",
       "1224  B08D3L7853  {'Material type': 'Synthetic', 'Closure type':...   \n",
       "1293  B09NN4WSD8  {'Material type': 'Mesh', 'Closure type': 'Lac...   \n",
       "1401  B08FZS2NFS  {'Material type': 'Mesh', 'Closure type': 'Lac...   \n",
       "1712  B08D3PQ8Z6  {'Material type': 'Synthetic', 'Closure type':...   \n",
       "\n",
       "     featureBullets  \n",
       "1186            NaN  \n",
       "1224            NaN  \n",
       "1293            NaN  \n",
       "1401            NaN  \n",
       "1712            NaN  "
      ]
     },
     "execution_count": 120,
     "metadata": {},
     "output_type": "execute_result"
    }
   ],
   "source": [
    "missing_details_df[missing_details_df]"
   ]
  },
  {
   "cell_type": "code",
   "execution_count": 136,
   "metadata": {},
   "outputs": [
    {
     "data": {
      "text/html": [
       "<div>\n",
       "<style scoped>\n",
       "    .dataframe tbody tr th:only-of-type {\n",
       "        vertical-align: middle;\n",
       "    }\n",
       "\n",
       "    .dataframe tbody tr th {\n",
       "        vertical-align: top;\n",
       "    }\n",
       "\n",
       "    .dataframe thead th {\n",
       "        text-align: right;\n",
       "    }\n",
       "</style>\n",
       "<table border=\"1\" class=\"dataframe\">\n",
       "  <thead>\n",
       "    <tr style=\"text-align: right;\">\n",
       "      <th></th>\n",
       "      <th>ASIN</th>\n",
       "      <th>star_rating</th>\n",
       "      <th>ratings</th>\n",
       "      <th>featureBullets</th>\n",
       "      <th>Overview</th>\n",
       "    </tr>\n",
       "  </thead>\n",
       "  <tbody>\n",
       "    <tr>\n",
       "      <th>2717</th>\n",
       "      <td>B0C27TZ53R</td>\n",
       "      <td>False</td>\n",
       "      <td>False</td>\n",
       "      <td>True</td>\n",
       "      <td>True</td>\n",
       "    </tr>\n",
       "  </tbody>\n",
       "</table>\n",
       "</div>"
      ],
      "text/plain": [
       "            ASIN  star_rating  ratings  featureBullets  Overview\n",
       "2717  B0C27TZ53R        False    False            True      True"
      ]
     },
     "execution_count": 136,
     "metadata": {},
     "output_type": "execute_result"
    }
   ],
   "source": [
    "missing_details_df[missing_details_df['ASIN']=='B0C27TZ53R']"
   ]
  },
  {
   "cell_type": "code",
   "execution_count": 145,
   "metadata": {},
   "outputs": [],
   "source": [
    "joined1 = pd.merge(scraped_details_df,missing_details_df,how='inner',on='ASIN')"
   ]
  },
  {
   "cell_type": "code",
   "execution_count": 158,
   "metadata": {},
   "outputs": [
    {
     "data": {
      "text/plain": [
       "str"
      ]
     },
     "execution_count": 158,
     "metadata": {},
     "output_type": "execute_result"
    }
   ],
   "source": [
    "type(joined1['featureBullets_x'][123])"
   ]
  },
  {
   "cell_type": "code",
   "execution_count": 152,
   "metadata": {},
   "outputs": [
    {
     "data": {
      "text/plain": [
       "Index(['ASIN', 'Images', 'title', 'productOverview', 'featureBullets_x',\n",
       "       'stars', 'ratings_x', 'listPrice', 'salePrice', 'star_rating',\n",
       "       'ratings_y', 'featureBullets_y', 'Overview'],\n",
       "      dtype='object')"
      ]
     },
     "execution_count": 152,
     "metadata": {},
     "output_type": "execute_result"
    }
   ],
   "source": [
    "joined1.columns"
   ]
  },
  {
   "cell_type": "code",
   "execution_count": 160,
   "metadata": {},
   "outputs": [],
   "source": [
    "for index,row in joined1.iterrows():\n",
    "    if pd.isna(row['featureBullets_x']) != row['featureBullets_y']:\n",
    "        print(row['ASIN'])\n",
    "    if pd.isna(row['productOverview']) != row['Overview']:\n",
    "        print(row['ASIN'])"
   ]
  },
  {
   "cell_type": "code",
   "execution_count": 162,
   "metadata": {},
   "outputs": [
    {
     "data": {
      "text/html": [
       "<div>\n",
       "<style scoped>\n",
       "    .dataframe tbody tr th:only-of-type {\n",
       "        vertical-align: middle;\n",
       "    }\n",
       "\n",
       "    .dataframe tbody tr th {\n",
       "        vertical-align: top;\n",
       "    }\n",
       "\n",
       "    .dataframe thead th {\n",
       "        text-align: right;\n",
       "    }\n",
       "</style>\n",
       "<table border=\"1\" class=\"dataframe\">\n",
       "  <thead>\n",
       "    <tr style=\"text-align: right;\">\n",
       "      <th></th>\n",
       "      <th>ASIN</th>\n",
       "      <th>Images</th>\n",
       "      <th>title</th>\n",
       "      <th>productOverview</th>\n",
       "      <th>featureBullets_x</th>\n",
       "      <th>stars</th>\n",
       "      <th>ratings_x</th>\n",
       "      <th>listPrice</th>\n",
       "      <th>salePrice</th>\n",
       "      <th>star_rating</th>\n",
       "      <th>ratings_y</th>\n",
       "      <th>featureBullets_y</th>\n",
       "      <th>Overview</th>\n",
       "    </tr>\n",
       "  </thead>\n",
       "  <tbody>\n",
       "    <tr>\n",
       "      <th>2626</th>\n",
       "      <td>B0CQFZZVG6</td>\n",
       "      <td>['https://m.media-amazon.com/images/I/61B9xDfv...</td>\n",
       "      <td>Ravaiyaa - Attitude is everything Women Fashio...</td>\n",
       "      <td>NaN</td>\n",
       "      <td>NaN</td>\n",
       "      <td>5.0</td>\n",
       "      <td>1.0</td>\n",
       "      <td>1699.0</td>\n",
       "      <td>499.0</td>\n",
       "      <td>False</td>\n",
       "      <td>False</td>\n",
       "      <td>True</td>\n",
       "      <td>True</td>\n",
       "    </tr>\n",
       "  </tbody>\n",
       "</table>\n",
       "</div>"
      ],
      "text/plain": [
       "            ASIN                                             Images  \\\n",
       "2626  B0CQFZZVG6  ['https://m.media-amazon.com/images/I/61B9xDfv...   \n",
       "\n",
       "                                                  title productOverview  \\\n",
       "2626  Ravaiyaa - Attitude is everything Women Fashio...             NaN   \n",
       "\n",
       "     featureBullets_x  stars  ratings_x  listPrice  salePrice  star_rating  \\\n",
       "2626              NaN    5.0        1.0     1699.0      499.0        False   \n",
       "\n",
       "      ratings_y  featureBullets_y  Overview  \n",
       "2626      False              True      True  "
      ]
     },
     "execution_count": 162,
     "metadata": {},
     "output_type": "execute_result"
    }
   ],
   "source": [
    "joined1[joined1['ASIN']=='B0CQFZZVG6']"
   ]
  },
  {
   "cell_type": "code",
   "execution_count": 167,
   "metadata": {},
   "outputs": [],
   "source": [
    "x = driver.find_element(By.ID,'bookDescription_feature_div')"
   ]
  },
  {
   "cell_type": "code",
   "execution_count": 171,
   "metadata": {},
   "outputs": [],
   "source": [
    "y = x.find_elements(By.CSS_SELECTOR,'div.a-expander-content')"
   ]
  },
  {
   "cell_type": "code",
   "execution_count": null,
   "metadata": {},
   "outputs": [],
   "source": [
    "print(driver.execute_script(\"return arguments[0].textContent\",y[0]))"
   ]
  },
  {
   "cell_type": "code",
   "execution_count": 2,
   "metadata": {},
   "outputs": [],
   "source": [
    "# pd.DataFrame({\"ASIN\":[],\"bookDescription\":[]}).to_csv('MostlyBooksRescraped.csv',index=False)"
   ]
  },
  {
   "cell_type": "code",
   "execution_count": 5,
   "metadata": {},
   "outputs": [],
   "source": [
    "blacklisted_asins = pd.read_csv('blacklisted2.csv')"
   ]
  },
  {
   "cell_type": "code",
   "execution_count": 31,
   "metadata": {},
   "outputs": [],
   "source": [
    "with open('MostlyBooksRescraped.csv',mode='a',newline='',encoding='utf-8') as file:\n",
    "    writer = csv.DictWriter(file,fieldnames=['ASIN','bookDescription'])\n",
    "    # rejected_asins = []\n",
    "    for i in blacklisted_asins['blacklisted_asins']:\n",
    "        if i  in mostly_rescraped_books_df['ASIN'].tolist():\n",
    "            continue\n",
    "        if i in rejected_asins:\n",
    "            continue\n",
    "        link = f\"https://www.amazon.in/dp/{i}\"\n",
    "        driver.get(link)\n",
    "        time.sleep(2)\n",
    "        try:\n",
    "            bookDescriptiondiv = driver.find_element(By.ID,'bookDescription_feature_div')\n",
    "            x = bookDescriptiondiv.find_elements(By.CSS_SELECTOR,'div.a-expander-content')\n",
    "            if len(x)==1:\n",
    "                new_entry = dict()\n",
    "                new_entry['ASIN'] = i\n",
    "                new_entry['bookDescription'] = driver.execute_script(\"return arguments[0].innerText\",x[0])\n",
    "                writer.writerow(new_entry)\n",
    "                file.flush()\n",
    "            else:\n",
    "                raise ValueError\n",
    "        except NoSuchElementException:\n",
    "            print(\"NO such element \")\n",
    "            rejected_asins.append(i)\n",
    "        except ValueError as e:\n",
    "            print(f\"VAlue eeorr {i} \",e)\n",
    "            rejected_asins.append(i)\n",
    "        except Exception as e:\n",
    "            print(f\"exception {i}\",e)\n",
    "            break\n"
   ]
  },
  {
   "cell_type": "code",
   "execution_count": 67,
   "metadata": {},
   "outputs": [],
   "source": [
    "mostly_rescraped_books_df = pd.read_csv('MostlyBooksRescraped.csv')\n",
    "mostly_rescraped_books_df.drop_duplicates(inplace=True)"
   ]
  },
  {
   "cell_type": "code",
   "execution_count": 112,
   "metadata": {},
   "outputs": [],
   "source": [
    "scraped_missing_details_df = pd.read_csv('scraping_missing_details_featureBullets_Overview.csv',encoding='utf-8')"
   ]
  },
  {
   "cell_type": "code",
   "execution_count": 114,
   "metadata": {},
   "outputs": [
    {
     "data": {
      "text/plain": [
       "ASIN                0\n",
       "productOverview    16\n",
       "featureBullets      5\n",
       "dtype: int64"
      ]
     },
     "execution_count": 114,
     "metadata": {},
     "output_type": "execute_result"
    }
   ],
   "source": [
    "scraped_missing_details_df.isnull().sum()"
   ]
  },
  {
   "cell_type": "code",
   "execution_count": 119,
   "metadata": {},
   "outputs": [],
   "source": [
    "concatenated_df = pd.concat([scraped_missing_details_df,mostly_rescraped_books_df],axis=0)"
   ]
  },
  {
   "cell_type": "code",
   "execution_count": 120,
   "metadata": {},
   "outputs": [],
   "source": [
    "concatenated_df.reset_index(drop=True,inplace=True)"
   ]
  },
  {
   "cell_type": "code",
   "execution_count": 121,
   "metadata": {},
   "outputs": [
    {
     "data": {
      "text/html": [
       "<div>\n",
       "<style scoped>\n",
       "    .dataframe tbody tr th:only-of-type {\n",
       "        vertical-align: middle;\n",
       "    }\n",
       "\n",
       "    .dataframe tbody tr th {\n",
       "        vertical-align: top;\n",
       "    }\n",
       "\n",
       "    .dataframe thead th {\n",
       "        text-align: right;\n",
       "    }\n",
       "</style>\n",
       "<table border=\"1\" class=\"dataframe\">\n",
       "  <thead>\n",
       "    <tr style=\"text-align: right;\">\n",
       "      <th></th>\n",
       "      <th>ASIN</th>\n",
       "      <th>productOverview</th>\n",
       "      <th>featureBullets</th>\n",
       "      <th>bookDescription</th>\n",
       "    </tr>\n",
       "  </thead>\n",
       "  <tbody>\n",
       "    <tr>\n",
       "      <th>0</th>\n",
       "      <td>B07MLLXYKV</td>\n",
       "      <td>{'Material composition': '100% Polyester', 'Cl...</td>\n",
       "      <td>['Material: 100% Cotton', 'Package Includes: 1...</td>\n",
       "      <td>NaN</td>\n",
       "    </tr>\n",
       "    <tr>\n",
       "      <th>1</th>\n",
       "      <td>B08HHRBVVP</td>\n",
       "      <td>{'Closure type': 'Elastic', 'Care instructions...</td>\n",
       "      <td>['Material: 100% Cotton', 'Package Includes: 1...</td>\n",
       "      <td>NaN</td>\n",
       "    </tr>\n",
       "    <tr>\n",
       "      <th>2</th>\n",
       "      <td>B08HWZK311</td>\n",
       "      <td>{'Material type': 'Polycotton', 'Fit type': 'R...</td>\n",
       "      <td>['Material: 95% Cotton, 5% Polyester', 'Packag...</td>\n",
       "      <td>NaN</td>\n",
       "    </tr>\n",
       "    <tr>\n",
       "      <th>3</th>\n",
       "      <td>B0DGTN6JWB</td>\n",
       "      <td>{'Style': 'Pack of 1', 'Fit type': 'Regular', ...</td>\n",
       "      <td>[\"✅ 𝟏𝟎𝟎% 𝑶𝒓𝒈𝒂𝒏𝒊𝒄 𝑪𝒐𝒕𝒕𝒐𝒏: Crafted with the soft...</td>\n",
       "      <td>NaN</td>\n",
       "    </tr>\n",
       "    <tr>\n",
       "      <th>4</th>\n",
       "      <td>B08Q2V393N</td>\n",
       "      <td>{'Material composition': '100% Cotton', 'Patte...</td>\n",
       "      <td>['100% PURE COTTON: BABY GO Set of 3 T-Shirts ...</td>\n",
       "      <td>NaN</td>\n",
       "    </tr>\n",
       "    <tr>\n",
       "      <th>...</th>\n",
       "      <td>...</td>\n",
       "      <td>...</td>\n",
       "      <td>...</td>\n",
       "      <td>...</td>\n",
       "    </tr>\n",
       "    <tr>\n",
       "      <th>2558</th>\n",
       "      <td>B08GLKNX2V</td>\n",
       "      <td>NaN</td>\n",
       "      <td>NaN</td>\n",
       "      <td>about the book,\\n\\ni know i don’t know, is a j...</td>\n",
       "    </tr>\n",
       "    <tr>\n",
       "      <th>2559</th>\n",
       "      <td>8170286913</td>\n",
       "      <td>NaN</td>\n",
       "      <td>NaN</td>\n",
       "      <td>A Treasury of Urdu Poetry is a treasure-house ...</td>\n",
       "    </tr>\n",
       "    <tr>\n",
       "      <th>2560</th>\n",
       "      <td>1471165825</td>\n",
       "      <td>NaN</td>\n",
       "      <td>NaN</td>\n",
       "      <td>The stunning new poetry collection from Rupi K...</td>\n",
       "    </tr>\n",
       "    <tr>\n",
       "      <th>2561</th>\n",
       "      <td>9357765476</td>\n",
       "      <td>NaN</td>\n",
       "      <td>NaN</td>\n",
       "      <td>About the Book\\n\\nThis book is a collection of...</td>\n",
       "    </tr>\n",
       "    <tr>\n",
       "      <th>2562</th>\n",
       "      <td>1138616036</td>\n",
       "      <td>NaN</td>\n",
       "      <td>NaN</td>\n",
       "      <td>This volume provides an in-depth comparative s...</td>\n",
       "    </tr>\n",
       "  </tbody>\n",
       "</table>\n",
       "<p>2563 rows × 4 columns</p>\n",
       "</div>"
      ],
      "text/plain": [
       "            ASIN                                    productOverview  \\\n",
       "0     B07MLLXYKV  {'Material composition': '100% Polyester', 'Cl...   \n",
       "1     B08HHRBVVP  {'Closure type': 'Elastic', 'Care instructions...   \n",
       "2     B08HWZK311  {'Material type': 'Polycotton', 'Fit type': 'R...   \n",
       "3     B0DGTN6JWB  {'Style': 'Pack of 1', 'Fit type': 'Regular', ...   \n",
       "4     B08Q2V393N  {'Material composition': '100% Cotton', 'Patte...   \n",
       "...          ...                                                ...   \n",
       "2558  B08GLKNX2V                                                NaN   \n",
       "2559  8170286913                                                NaN   \n",
       "2560  1471165825                                                NaN   \n",
       "2561  9357765476                                                NaN   \n",
       "2562  1138616036                                                NaN   \n",
       "\n",
       "                                         featureBullets  \\\n",
       "0     ['Material: 100% Cotton', 'Package Includes: 1...   \n",
       "1     ['Material: 100% Cotton', 'Package Includes: 1...   \n",
       "2     ['Material: 95% Cotton, 5% Polyester', 'Packag...   \n",
       "3     [\"✅ 𝟏𝟎𝟎% 𝑶𝒓𝒈𝒂𝒏𝒊𝒄 𝑪𝒐𝒕𝒕𝒐𝒏: Crafted with the soft...   \n",
       "4     ['100% PURE COTTON: BABY GO Set of 3 T-Shirts ...   \n",
       "...                                                 ...   \n",
       "2558                                                NaN   \n",
       "2559                                                NaN   \n",
       "2560                                                NaN   \n",
       "2561                                                NaN   \n",
       "2562                                                NaN   \n",
       "\n",
       "                                        bookDescription  \n",
       "0                                                   NaN  \n",
       "1                                                   NaN  \n",
       "2                                                   NaN  \n",
       "3                                                   NaN  \n",
       "4                                                   NaN  \n",
       "...                                                 ...  \n",
       "2558  about the book,\\n\\ni know i don’t know, is a j...  \n",
       "2559  A Treasury of Urdu Poetry is a treasure-house ...  \n",
       "2560  The stunning new poetry collection from Rupi K...  \n",
       "2561  About the Book\\n\\nThis book is a collection of...  \n",
       "2562  This volume provides an in-depth comparative s...  \n",
       "\n",
       "[2563 rows x 4 columns]"
      ]
     },
     "execution_count": 121,
     "metadata": {},
     "output_type": "execute_result"
    }
   ],
   "source": [
    "concatenated_df"
   ]
  },
  {
   "cell_type": "code",
   "execution_count": 123,
   "metadata": {},
   "outputs": [],
   "source": [
    "concatenated_df.to_csv('concatenated.csv',encoding='utf-8',index=False)"
   ]
  },
  {
   "cell_type": "code",
   "execution_count": 104,
   "metadata": {},
   "outputs": [
    {
     "data": {
      "text/plain": [
       "str"
      ]
     },
     "execution_count": 104,
     "metadata": {},
     "output_type": "execute_result"
    }
   ],
   "source": [
    "type(concatenated_df[concatenated_df['ASIN'].isin(mostly_rescraped_books_df['ASIN'])]['featureBullets'].iloc[0])"
   ]
  },
  {
   "cell_type": "code",
   "execution_count": 78,
   "metadata": {},
   "outputs": [
    {
     "data": {
      "text/html": [
       "<div>\n",
       "<style scoped>\n",
       "    .dataframe tbody tr th:only-of-type {\n",
       "        vertical-align: middle;\n",
       "    }\n",
       "\n",
       "    .dataframe tbody tr th {\n",
       "        vertical-align: top;\n",
       "    }\n",
       "\n",
       "    .dataframe thead th {\n",
       "        text-align: right;\n",
       "    }\n",
       "</style>\n",
       "<table border=\"1\" class=\"dataframe\">\n",
       "  <thead>\n",
       "    <tr style=\"text-align: right;\">\n",
       "      <th></th>\n",
       "      <th>ASIN</th>\n",
       "      <th>Images</th>\n",
       "      <th>title</th>\n",
       "      <th>productOverview</th>\n",
       "      <th>featureBullets</th>\n",
       "      <th>stars</th>\n",
       "      <th>ratings</th>\n",
       "      <th>listPrice</th>\n",
       "      <th>salePrice</th>\n",
       "    </tr>\n",
       "  </thead>\n",
       "  <tbody>\n",
       "    <tr>\n",
       "      <th>1603</th>\n",
       "      <td>B09X5WGSVG</td>\n",
       "      <td>['https://m.media-amazon.com/images/I/71swBOdh...</td>\n",
       "      <td>INTIMIFY Lavender Essential Oil for Hair Growt...</td>\n",
       "      <td>NaN</td>\n",
       "      <td>NaN</td>\n",
       "      <td>4.3</td>\n",
       "      <td>290.0</td>\n",
       "      <td>599.0</td>\n",
       "      <td>197.0</td>\n",
       "    </tr>\n",
       "    <tr>\n",
       "      <th>1701</th>\n",
       "      <td>0143453580</td>\n",
       "      <td>['https://m.media-amazon.com/images/I/71dNsRuY...</td>\n",
       "      <td>YOU ONLY LIVE ONCE</td>\n",
       "      <td>NaN</td>\n",
       "      <td>NaN</td>\n",
       "      <td>4.4</td>\n",
       "      <td>4218.0</td>\n",
       "      <td>250.0</td>\n",
       "      <td>178.0</td>\n",
       "    </tr>\n",
       "    <tr>\n",
       "      <th>1702</th>\n",
       "      <td>014345367X</td>\n",
       "      <td>['https://m.media-amazon.com/images/I/61Wwj-Ij...</td>\n",
       "      <td>Where the Sun Never Sets (from the bestselling...</td>\n",
       "      <td>NaN</td>\n",
       "      <td>NaN</td>\n",
       "      <td>4.2</td>\n",
       "      <td>401.0</td>\n",
       "      <td>250.0</td>\n",
       "      <td>212.0</td>\n",
       "    </tr>\n",
       "    <tr>\n",
       "      <th>1703</th>\n",
       "      <td>0143453688</td>\n",
       "      <td>['https://m.media-amazon.com/images/I/71nlXl+u...</td>\n",
       "      <td>On The Open Road: Three Lives. Five Citi: Thre...</td>\n",
       "      <td>NaN</td>\n",
       "      <td>NaN</td>\n",
       "      <td>4.3</td>\n",
       "      <td>644.0</td>\n",
       "      <td>250.0</td>\n",
       "      <td>188.0</td>\n",
       "    </tr>\n",
       "    <tr>\n",
       "      <th>1704</th>\n",
       "      <td>9362619342</td>\n",
       "      <td>['https://m.media-amazon.com/images/I/51bupq9K...</td>\n",
       "      <td>Struggler</td>\n",
       "      <td>NaN</td>\n",
       "      <td>NaN</td>\n",
       "      <td>NaN</td>\n",
       "      <td>NaN</td>\n",
       "      <td>NaN</td>\n",
       "      <td>211.0</td>\n",
       "    </tr>\n",
       "    <tr>\n",
       "      <th>...</th>\n",
       "      <td>...</td>\n",
       "      <td>...</td>\n",
       "      <td>...</td>\n",
       "      <td>...</td>\n",
       "      <td>...</td>\n",
       "      <td>...</td>\n",
       "      <td>...</td>\n",
       "      <td>...</td>\n",
       "      <td>...</td>\n",
       "    </tr>\n",
       "    <tr>\n",
       "      <th>2349</th>\n",
       "      <td>B08GLKNX2V</td>\n",
       "      <td>['https://m.media-amazon.com/images/I/21muvS+4...</td>\n",
       "      <td>Poetry book I Know I Don't Know</td>\n",
       "      <td>NaN</td>\n",
       "      <td>NaN</td>\n",
       "      <td>4.6</td>\n",
       "      <td>130.0</td>\n",
       "      <td>319.0</td>\n",
       "      <td>239.0</td>\n",
       "    </tr>\n",
       "    <tr>\n",
       "      <th>2350</th>\n",
       "      <td>8170286913</td>\n",
       "      <td>['https://m.media-amazon.com/images/I/412Vzql1...</td>\n",
       "      <td>A Treasury of Urdu Poetry</td>\n",
       "      <td>NaN</td>\n",
       "      <td>NaN</td>\n",
       "      <td>4.1</td>\n",
       "      <td>126.0</td>\n",
       "      <td>495.0</td>\n",
       "      <td>364.0</td>\n",
       "    </tr>\n",
       "    <tr>\n",
       "      <th>2351</th>\n",
       "      <td>1471165825</td>\n",
       "      <td>['https://m.media-amazon.com/images/I/41kbEWXM...</td>\n",
       "      <td>The Sun and her flowers</td>\n",
       "      <td>NaN</td>\n",
       "      <td>NaN</td>\n",
       "      <td>4.5</td>\n",
       "      <td>26357.0</td>\n",
       "      <td>1390.0</td>\n",
       "      <td>357.0</td>\n",
       "    </tr>\n",
       "    <tr>\n",
       "      <th>2352</th>\n",
       "      <td>9357765476</td>\n",
       "      <td>['https://m.media-amazon.com/images/I/41FAdLiu...</td>\n",
       "      <td>Lucid Road</td>\n",
       "      <td>NaN</td>\n",
       "      <td>NaN</td>\n",
       "      <td>5.0</td>\n",
       "      <td>5.0</td>\n",
       "      <td>NaN</td>\n",
       "      <td>599.0</td>\n",
       "    </tr>\n",
       "    <tr>\n",
       "      <th>2353</th>\n",
       "      <td>1138616036</td>\n",
       "      <td>['https://m.media-amazon.com/images/I/51f4zaWX...</td>\n",
       "      <td>A Sociological Approach to Poetry Translation:...</td>\n",
       "      <td>NaN</td>\n",
       "      <td>NaN</td>\n",
       "      <td>NaN</td>\n",
       "      <td>NaN</td>\n",
       "      <td>14776.0</td>\n",
       "      <td>11524.0</td>\n",
       "    </tr>\n",
       "  </tbody>\n",
       "</table>\n",
       "<p>648 rows × 9 columns</p>\n",
       "</div>"
      ],
      "text/plain": [
       "            ASIN                                             Images  \\\n",
       "1603  B09X5WGSVG  ['https://m.media-amazon.com/images/I/71swBOdh...   \n",
       "1701  0143453580  ['https://m.media-amazon.com/images/I/71dNsRuY...   \n",
       "1702  014345367X  ['https://m.media-amazon.com/images/I/61Wwj-Ij...   \n",
       "1703  0143453688  ['https://m.media-amazon.com/images/I/71nlXl+u...   \n",
       "1704  9362619342  ['https://m.media-amazon.com/images/I/51bupq9K...   \n",
       "...          ...                                                ...   \n",
       "2349  B08GLKNX2V  ['https://m.media-amazon.com/images/I/21muvS+4...   \n",
       "2350  8170286913  ['https://m.media-amazon.com/images/I/412Vzql1...   \n",
       "2351  1471165825  ['https://m.media-amazon.com/images/I/41kbEWXM...   \n",
       "2352  9357765476  ['https://m.media-amazon.com/images/I/41FAdLiu...   \n",
       "2353  1138616036  ['https://m.media-amazon.com/images/I/51f4zaWX...   \n",
       "\n",
       "                                                  title productOverview  \\\n",
       "1603  INTIMIFY Lavender Essential Oil for Hair Growt...             NaN   \n",
       "1701                                 YOU ONLY LIVE ONCE             NaN   \n",
       "1702  Where the Sun Never Sets (from the bestselling...             NaN   \n",
       "1703  On The Open Road: Three Lives. Five Citi: Thre...             NaN   \n",
       "1704                                          Struggler             NaN   \n",
       "...                                                 ...             ...   \n",
       "2349                    Poetry book I Know I Don't Know             NaN   \n",
       "2350                          A Treasury of Urdu Poetry             NaN   \n",
       "2351                            The Sun and her flowers             NaN   \n",
       "2352                                         Lucid Road             NaN   \n",
       "2353  A Sociological Approach to Poetry Translation:...             NaN   \n",
       "\n",
       "     featureBullets  stars  ratings  listPrice  salePrice  \n",
       "1603            NaN    4.3    290.0      599.0      197.0  \n",
       "1701            NaN    4.4   4218.0      250.0      178.0  \n",
       "1702            NaN    4.2    401.0      250.0      212.0  \n",
       "1703            NaN    4.3    644.0      250.0      188.0  \n",
       "1704            NaN    NaN      NaN        NaN      211.0  \n",
       "...             ...    ...      ...        ...        ...  \n",
       "2349            NaN    4.6    130.0      319.0      239.0  \n",
       "2350            NaN    4.1    126.0      495.0      364.0  \n",
       "2351            NaN    4.5  26357.0     1390.0      357.0  \n",
       "2352            NaN    5.0      5.0        NaN      599.0  \n",
       "2353            NaN    NaN      NaN    14776.0    11524.0  \n",
       "\n",
       "[648 rows x 9 columns]"
      ]
     },
     "execution_count": 78,
     "metadata": {},
     "output_type": "execute_result"
    }
   ],
   "source": [
    "scraped_details_df[scraped_details_df['ASIN'].isin(mostly_rescraped_books_df['ASIN'])]"
   ]
  },
  {
   "cell_type": "code",
   "execution_count": 73,
   "metadata": {},
   "outputs": [
    {
     "ename": "NameError",
     "evalue": "name 'f' is not defined",
     "output_type": "error",
     "traceback": [
      "\u001b[1;31m---------------------------------------------------------------------------\u001b[0m",
      "\u001b[1;31mNameError\u001b[0m                                 Traceback (most recent call last)",
      "Cell \u001b[1;32mIn[73], line 1\u001b[0m\n\u001b[1;32m----> 1\u001b[0m \u001b[43mf\u001b[49m\n",
      "\u001b[1;31mNameError\u001b[0m: name 'f' is not defined"
     ]
    }
   ],
   "source": []
  },
  {
   "cell_type": "code",
   "execution_count": 48,
   "metadata": {},
   "outputs": [
    {
     "data": {
      "text/plain": [
       "np.True_"
      ]
     },
     "execution_count": 48,
     "metadata": {},
     "output_type": "execute_result"
    }
   ],
   "source": [
    "missing_details_update_df[missing_details_update_df['ASIN'].isin(mostly_rescraped_books_df['ASIN'])]['Overview'].all()"
   ]
  },
  {
   "cell_type": "code",
   "execution_count": 109,
   "metadata": {},
   "outputs": [],
   "source": [
    "mostly_rescraped_books_df.drop(index=mostly_rescraped_books_df[mostly_rescraped_books_df['ASIN']=='B09X5WGSVG'].index,inplace=True)"
   ]
  },
  {
   "cell_type": "code",
   "execution_count": 110,
   "metadata": {},
   "outputs": [],
   "source": [
    "df2 = products[products['ASIN'].isin(mostly_rescraped_books_df['ASIN'])]"
   ]
  },
  {
   "cell_type": "code",
   "execution_count": 111,
   "metadata": {},
   "outputs": [
    {
     "data": {
      "text/plain": [
       "array(['Books'], dtype=object)"
      ]
     },
     "execution_count": 111,
     "metadata": {},
     "output_type": "execute_result"
    }
   ],
   "source": [
    "df2['Main Category'].unique()"
   ]
  },
  {
   "cell_type": "code",
   "execution_count": 61,
   "metadata": {},
   "outputs": [
    {
     "data": {
      "text/html": [
       "<div>\n",
       "<style scoped>\n",
       "    .dataframe tbody tr th:only-of-type {\n",
       "        vertical-align: middle;\n",
       "    }\n",
       "\n",
       "    .dataframe tbody tr th {\n",
       "        vertical-align: top;\n",
       "    }\n",
       "\n",
       "    .dataframe thead th {\n",
       "        text-align: right;\n",
       "    }\n",
       "</style>\n",
       "<table border=\"1\" class=\"dataframe\">\n",
       "  <thead>\n",
       "    <tr style=\"text-align: right;\">\n",
       "      <th></th>\n",
       "      <th>Main Category</th>\n",
       "      <th>Tag</th>\n",
       "      <th>ASIN</th>\n",
       "      <th>Product Link</th>\n",
       "    </tr>\n",
       "  </thead>\n",
       "  <tbody>\n",
       "    <tr>\n",
       "      <th>1677</th>\n",
       "      <td>Beauty &amp; Personal Care</td>\n",
       "      <td>Essential Oils</td>\n",
       "      <td>B09X5WGSVG</td>\n",
       "      <td>https://www.amazon.in/dp/B09X5WGSVG</td>\n",
       "    </tr>\n",
       "  </tbody>\n",
       "</table>\n",
       "</div>"
      ],
      "text/plain": [
       "               Main Category             Tag        ASIN  \\\n",
       "1677  Beauty & Personal Care  Essential Oils  B09X5WGSVG   \n",
       "\n",
       "                             Product Link  \n",
       "1677  https://www.amazon.in/dp/B09X5WGSVG  "
      ]
     },
     "execution_count": 61,
     "metadata": {},
     "output_type": "execute_result"
    }
   ],
   "source": [
    "df2[df2['Main Category']=='Beauty & Personal Care']"
   ]
  },
  {
   "cell_type": "markdown",
   "metadata": {},
   "source": [
    "'B0CXK72DYT',\n",
    " 'B0D13KTZ53',\n",
    " 'B0CGRD1BBM',\n",
    " 'B0DCZZ62PF',\n",
    " 'B0BVVHLBR4',\n",
    " 'B0CVQGF48R',\n",
    " 'B0D6BCVJQ9',\n",
    " 'B0CKZC8R8C',\n",
    " 'B0B4KMZQV9',\n",
    " 'B0D6RTL478',\n",
    " 'B0D6RV5L9K',\n",
    " 'B0D6RTT1PR',\n",
    " 'B0BDMMBR89',\n",
    " 'B0BWYV7BKL',\n",
    " 'B0CVQMVDN6',\n",
    " 'B0CVQNYJ5V',\n",
    " 'B0BZWLT87W',\n",
    " 'B0D6RS9L73',\n",
    " 'B0CL9CVXXB',\n",
    " 'B0CVQRK9B8',\n",
    " 'B0C5X4GRS7',\n",
    " 'B0B3TMLPMJ',\n",
    " 'B07JMDN7CZ',\n",
    " '9384225487',\n",
    " 'B0CQFZZVG6',\n",
    " 'B0CQG4XY26',\n",
    " 'B0C27TZ53R',\n",
    " 'B0DCK4QTR5',\n",
    "  'B0B7WPY1HC',\n",
    " 'B0C8BQNTHK',\n",
    " 'B0992GZF38']"
   ]
  }
 ],
 "metadata": {
  "kernelspec": {
   "display_name": "venv",
   "language": "python",
   "name": "python3"
  },
  "language_info": {
   "codemirror_mode": {
    "name": "ipython",
    "version": 3
   },
   "file_extension": ".py",
   "mimetype": "text/x-python",
   "name": "python",
   "nbconvert_exporter": "python",
   "pygments_lexer": "ipython3",
   "version": "3.11.5"
  }
 },
 "nbformat": 4,
 "nbformat_minor": 2
}
