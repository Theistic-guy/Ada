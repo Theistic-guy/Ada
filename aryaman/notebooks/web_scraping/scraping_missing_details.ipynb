{
 "cells": [
  {
   "cell_type": "code",
   "execution_count": 6,
   "metadata": {},
   "outputs": [],
   "source": [
    "import pandas as pd\n",
    "import numpy as np\n",
    "import csv\n",
    "import ast"
   ]
  },
  {
   "cell_type": "code",
   "execution_count": 17,
   "metadata": {},
   "outputs": [],
   "source": [
    "scraped_details_df = pd.read_csv('aryaman/csv/scraping/scraping_details.csv',encoding='utf-8')"
   ]
  },
  {
   "cell_type": "code",
   "execution_count": 18,
   "metadata": {},
   "outputs": [
    {
     "name": "stdout",
     "output_type": "stream",
     "text": [
      "<class 'pandas.core.frame.DataFrame'>\n",
      "RangeIndex: 6629 entries, 0 to 6628\n",
      "Data columns (total 9 columns):\n",
      " #   Column           Non-Null Count  Dtype  \n",
      "---  ------           --------------  -----  \n",
      " 0   ASIN             6629 non-null   object \n",
      " 1   Images           6629 non-null   object \n",
      " 2   title            6629 non-null   object \n",
      " 3   productOverview  3774 non-null   object \n",
      " 4   featureBullets   3967 non-null   object \n",
      " 5   stars            6356 non-null   float64\n",
      " 6   ratings          6356 non-null   float64\n",
      " 7   listPrice        6288 non-null   float64\n",
      " 8   salePrice        6629 non-null   float64\n",
      "dtypes: float64(4), object(5)\n",
      "memory usage: 466.2+ KB\n"
     ]
    }
   ],
   "source": [
    "scraped_details_df.info()"
   ]
  },
  {
   "cell_type": "code",
   "execution_count": 19,
   "metadata": {},
   "outputs": [],
   "source": [
    "scraped_details_df['Images'] = scraped_details_df['Images'].apply(lambda item: ast.literal_eval(item) if pd.notna(item) else item)\n",
    "scraped_details_df['productOverview'] = scraped_details_df['productOverview'].apply(lambda item: ast.literal_eval(item) if pd.notna(item) else item)\n",
    "scraped_details_df['featureBullets'] = scraped_details_df['featureBullets'].apply(lambda item: ast.literal_eval(item) if pd.notna(item) else item)"
   ]
  },
  {
   "cell_type": "code",
   "execution_count": 56,
   "metadata": {},
   "outputs": [],
   "source": [
    "def checkTypes(column,type):\n",
    "    for x in column:\n",
    "            if not isinstance(x,type):\n",
    "                print(\"error in \", column.name)\n",
    "\n",
    "checkTypes(scraped_details_df['Images'].dropna(),list)\n",
    "checkTypes(scraped_details_df['featureBullets'].dropna(),list)\n",
    "checkTypes(scraped_details_df['productOverview'].dropna(),dict)"
   ]
  },
  {
   "cell_type": "code",
   "execution_count": 57,
   "metadata": {},
   "outputs": [
    {
     "data": {
      "text/plain": [
       "ASIN                  0\n",
       "Images                0\n",
       "title                 0\n",
       "productOverview    2855\n",
       "featureBullets     2662\n",
       "stars               273\n",
       "ratings             273\n",
       "listPrice           341\n",
       "salePrice             0\n",
       "dtype: int64"
      ]
     },
     "execution_count": 57,
     "metadata": {},
     "output_type": "execute_result"
    }
   ],
   "source": [
    "scraped_details_df.isnull().sum()"
   ]
  },
  {
   "cell_type": "code",
   "execution_count": 58,
   "metadata": {},
   "outputs": [],
   "source": [
    "missing_details_df = pd.read_csv(\"aryaman/csv/scraping/MissingDetailsChart.csv\")"
   ]
  },
  {
   "cell_type": "code",
   "execution_count": 59,
   "metadata": {},
   "outputs": [
    {
     "data": {
      "text/html": [
       "<div>\n",
       "<style scoped>\n",
       "    .dataframe tbody tr th:only-of-type {\n",
       "        vertical-align: middle;\n",
       "    }\n",
       "\n",
       "    .dataframe tbody tr th {\n",
       "        vertical-align: top;\n",
       "    }\n",
       "\n",
       "    .dataframe thead th {\n",
       "        text-align: right;\n",
       "    }\n",
       "</style>\n",
       "<table border=\"1\" class=\"dataframe\">\n",
       "  <thead>\n",
       "    <tr style=\"text-align: right;\">\n",
       "      <th></th>\n",
       "      <th>ASIN</th>\n",
       "      <th>star_rating</th>\n",
       "      <th>ratings</th>\n",
       "      <th>featureBullets</th>\n",
       "      <th>Overview</th>\n",
       "      <th>listPrice</th>\n",
       "    </tr>\n",
       "  </thead>\n",
       "  <tbody>\n",
       "    <tr>\n",
       "      <th>0</th>\n",
       "      <td>B07MLLXYKV</td>\n",
       "      <td>False</td>\n",
       "      <td>False</td>\n",
       "      <td>True</td>\n",
       "      <td>True</td>\n",
       "      <td>NaN</td>\n",
       "    </tr>\n",
       "    <tr>\n",
       "      <th>1</th>\n",
       "      <td>B08HHRBVVP</td>\n",
       "      <td>False</td>\n",
       "      <td>False</td>\n",
       "      <td>True</td>\n",
       "      <td>True</td>\n",
       "      <td>NaN</td>\n",
       "    </tr>\n",
       "    <tr>\n",
       "      <th>2</th>\n",
       "      <td>B08HWZK311</td>\n",
       "      <td>False</td>\n",
       "      <td>False</td>\n",
       "      <td>True</td>\n",
       "      <td>True</td>\n",
       "      <td>NaN</td>\n",
       "    </tr>\n",
       "    <tr>\n",
       "      <th>3</th>\n",
       "      <td>B0DGTN6JWB</td>\n",
       "      <td>False</td>\n",
       "      <td>False</td>\n",
       "      <td>True</td>\n",
       "      <td>True</td>\n",
       "      <td>NaN</td>\n",
       "    </tr>\n",
       "    <tr>\n",
       "      <th>4</th>\n",
       "      <td>B08Q2V393N</td>\n",
       "      <td>False</td>\n",
       "      <td>False</td>\n",
       "      <td>True</td>\n",
       "      <td>True</td>\n",
       "      <td>NaN</td>\n",
       "    </tr>\n",
       "    <tr>\n",
       "      <th>...</th>\n",
       "      <td>...</td>\n",
       "      <td>...</td>\n",
       "      <td>...</td>\n",
       "      <td>...</td>\n",
       "      <td>...</td>\n",
       "      <td>...</td>\n",
       "    </tr>\n",
       "    <tr>\n",
       "      <th>3208</th>\n",
       "      <td>B0BV8415Y2</td>\n",
       "      <td>False</td>\n",
       "      <td>False</td>\n",
       "      <td>False</td>\n",
       "      <td>True</td>\n",
       "      <td>NaN</td>\n",
       "    </tr>\n",
       "    <tr>\n",
       "      <th>3209</th>\n",
       "      <td>B0CR3QBLBN</td>\n",
       "      <td>True</td>\n",
       "      <td>True</td>\n",
       "      <td>False</td>\n",
       "      <td>False</td>\n",
       "      <td>NaN</td>\n",
       "    </tr>\n",
       "    <tr>\n",
       "      <th>3210</th>\n",
       "      <td>B0BLCF99G3</td>\n",
       "      <td>False</td>\n",
       "      <td>False</td>\n",
       "      <td>False</td>\n",
       "      <td>True</td>\n",
       "      <td>NaN</td>\n",
       "    </tr>\n",
       "    <tr>\n",
       "      <th>3211</th>\n",
       "      <td>B0B9NRXTRY</td>\n",
       "      <td>False</td>\n",
       "      <td>False</td>\n",
       "      <td>False</td>\n",
       "      <td>True</td>\n",
       "      <td>NaN</td>\n",
       "    </tr>\n",
       "    <tr>\n",
       "      <th>3212</th>\n",
       "      <td>B08Y6Z1TCH</td>\n",
       "      <td>True</td>\n",
       "      <td>True</td>\n",
       "      <td>False</td>\n",
       "      <td>False</td>\n",
       "      <td>NaN</td>\n",
       "    </tr>\n",
       "  </tbody>\n",
       "</table>\n",
       "<p>3213 rows × 6 columns</p>\n",
       "</div>"
      ],
      "text/plain": [
       "            ASIN  star_rating  ratings  featureBullets  Overview listPrice\n",
       "0     B07MLLXYKV        False    False            True      True       NaN\n",
       "1     B08HHRBVVP        False    False            True      True       NaN\n",
       "2     B08HWZK311        False    False            True      True       NaN\n",
       "3     B0DGTN6JWB        False    False            True      True       NaN\n",
       "4     B08Q2V393N        False    False            True      True       NaN\n",
       "...          ...          ...      ...             ...       ...       ...\n",
       "3208  B0BV8415Y2        False    False           False      True       NaN\n",
       "3209  B0CR3QBLBN         True     True           False     False       NaN\n",
       "3210  B0BLCF99G3        False    False           False      True       NaN\n",
       "3211  B0B9NRXTRY        False    False           False      True       NaN\n",
       "3212  B08Y6Z1TCH         True     True           False     False       NaN\n",
       "\n",
       "[3213 rows x 6 columns]"
      ]
     },
     "execution_count": 59,
     "metadata": {},
     "output_type": "execute_result"
    }
   ],
   "source": [
    "missing_details_df"
   ]
  },
  {
   "cell_type": "code",
   "execution_count": 60,
   "metadata": {},
   "outputs": [],
   "source": [
    "missing_details_df.drop(columns=['listPrice'],inplace=True)"
   ]
  },
  {
   "cell_type": "code",
   "execution_count": 62,
   "metadata": {},
   "outputs": [],
   "source": [
    "missing_details_df.to_csv(\"aryaman/csv/scraping/MissingDetailsChart.csv\",index=False)"
   ]
  }
 ],
 "metadata": {
  "kernelspec": {
   "display_name": "venv",
   "language": "python",
   "name": "python3"
  },
  "language_info": {
   "codemirror_mode": {
    "name": "ipython",
    "version": 3
   },
   "file_extension": ".py",
   "mimetype": "text/x-python",
   "name": "python",
   "nbconvert_exporter": "python",
   "pygments_lexer": "ipython3",
   "version": "3.11.5"
  }
 },
 "nbformat": 4,
 "nbformat_minor": 2
}
