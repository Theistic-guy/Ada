{
 "cells": [
  {
   "cell_type": "code",
   "execution_count": 128,
   "metadata": {},
   "outputs": [],
   "source": [
    "import numpy as np\n",
    "import pandas as pd\n",
    "import matplotlib.pyplot as plt\n",
    "import seaborn as sns\n",
    "import pickle\n",
    "import aryaman.scripts.utils.category_utils as cu\n",
    "from aryaman.scripts.category.category  import category\n",
    "from aryaman.scripts.global_vars import *\n",
    "from IPython.display import clear_output\n"
   ]
  },
  {
   "cell_type": "code",
   "execution_count": 2,
   "metadata": {},
   "outputs": [],
   "source": [
    "df_uk = pd.read_csv(get_path_to_amazon_uk_dataset()) # file path"
   ]
  },
  {
   "cell_type": "code",
   "execution_count": 3,
   "metadata": {},
   "outputs": [
    {
     "data": {
      "text/plain": [
       "Index(['asin', 'title', 'imgUrl', 'productURL', 'stars', 'reviews', 'price',\n",
       "       'isBestSeller', 'boughtInLastMonth', 'categoryName'],\n",
       "      dtype='object')"
      ]
     },
     "execution_count": 3,
     "metadata": {},
     "output_type": "execute_result"
    }
   ],
   "source": [
    "df_uk.columns"
   ]
  },
  {
   "cell_type": "code",
   "execution_count": 32,
   "metadata": {},
   "outputs": [],
   "source": [
    "# category_names_ = pd.read_csv(get_path_to_all_identified_products_UK(),header=None)"
   ]
  },
  {
   "cell_type": "code",
   "execution_count": 33,
   "metadata": {},
   "outputs": [
    {
     "data": {
      "text/html": [
       "<div>\n",
       "<style scoped>\n",
       "    .dataframe tbody tr th:only-of-type {\n",
       "        vertical-align: middle;\n",
       "    }\n",
       "\n",
       "    .dataframe tbody tr th {\n",
       "        vertical-align: top;\n",
       "    }\n",
       "\n",
       "    .dataframe thead th {\n",
       "        text-align: right;\n",
       "    }\n",
       "</style>\n",
       "<table border=\"1\" class=\"dataframe\">\n",
       "  <thead>\n",
       "    <tr style=\"text-align: right;\">\n",
       "      <th></th>\n",
       "      <th>0</th>\n",
       "    </tr>\n",
       "  </thead>\n",
       "  <tbody>\n",
       "    <tr>\n",
       "      <th>0</th>\n",
       "      <td>Wearable Technology</td>\n",
       "    </tr>\n",
       "    <tr>\n",
       "      <th>1</th>\n",
       "      <td>Light Bulbs</td>\n",
       "    </tr>\n",
       "    <tr>\n",
       "      <th>2</th>\n",
       "      <td>Heating, Cooling &amp; Air Quality</td>\n",
       "    </tr>\n",
       "    <tr>\n",
       "      <th>3</th>\n",
       "      <td>Lab &amp; Scientific Products</td>\n",
       "    </tr>\n",
       "    <tr>\n",
       "      <th>4</th>\n",
       "      <td>Hardware</td>\n",
       "    </tr>\n",
       "    <tr>\n",
       "      <th>...</th>\n",
       "      <td>...</td>\n",
       "    </tr>\n",
       "    <tr>\n",
       "      <th>79</th>\n",
       "      <td>Coffee, Tea &amp; Espresso</td>\n",
       "    </tr>\n",
       "    <tr>\n",
       "      <th>80</th>\n",
       "      <td>Digital Cameras</td>\n",
       "    </tr>\n",
       "    <tr>\n",
       "      <th>81</th>\n",
       "      <td>Film Cameras</td>\n",
       "    </tr>\n",
       "    <tr>\n",
       "      <th>82</th>\n",
       "      <td>Binoculars, Telescopes &amp; Optics</td>\n",
       "    </tr>\n",
       "    <tr>\n",
       "      <th>83</th>\n",
       "      <td>GPS, Finders &amp; Accessories</td>\n",
       "    </tr>\n",
       "  </tbody>\n",
       "</table>\n",
       "<p>84 rows × 1 columns</p>\n",
       "</div>"
      ],
      "text/plain": [
       "                                  0\n",
       "0               Wearable Technology\n",
       "1                       Light Bulbs\n",
       "2    Heating, Cooling & Air Quality\n",
       "3         Lab & Scientific Products\n",
       "4                          Hardware\n",
       "..                              ...\n",
       "79           Coffee, Tea & Espresso\n",
       "80                  Digital Cameras\n",
       "81                     Film Cameras\n",
       "82  Binoculars, Telescopes & Optics\n",
       "83       GPS, Finders & Accessories\n",
       "\n",
       "[84 rows x 1 columns]"
      ]
     },
     "execution_count": 33,
     "metadata": {},
     "output_type": "execute_result"
    }
   ],
   "source": [
    "# category_names_"
   ]
  },
  {
   "cell_type": "code",
   "execution_count": 49,
   "metadata": {},
   "outputs": [],
   "source": [
    "df2  = df_uk[df_uk['categoryName'].isin(category_names_[0])]\n",
    "df2.reset_index(drop=True,inplace=True)\n",
    "# df2.to_csv(get_path_to_all_identified_products_UK(),index=False)"
   ]
  },
  {
   "cell_type": "code",
   "execution_count": 58,
   "metadata": {},
   "outputs": [],
   "source": [
    "grouped = df2.groupby('categoryName')\n",
    "sampled_dfs = []\n",
    "for category,group in grouped:\n",
    "    x = group.sample(n=min(100,len(group)),random_state=42)\n",
    "    y = cu.map_name_to_id(category_name=category)\n",
    "    if len(y) > 1:\n",
    "        if category == 'Outdoor Cooking':\n",
    "            y = 19134\n",
    "        else:\n",
    "            y = 20\n",
    "    else:\n",
    "        y = y[0]\n",
    "    x['categoryId'] = y\n",
    "    sampled_dfs.append(x)\n",
    "final_df = pd.concat(sampled_dfs,ignore_index=True)"
   ]
  },
  {
   "cell_type": "code",
   "execution_count": 85,
   "metadata": {},
   "outputs": [],
   "source": [
    "root = cu.load_tree_obj()"
   ]
  },
  {
   "cell_type": "code",
   "execution_count": 104,
   "metadata": {},
   "outputs": [],
   "source": [
    "grouped_final_df = final_df.groupby('categoryName')"
   ]
  },
  {
   "cell_type": "code",
   "execution_count": 105,
   "metadata": {},
   "outputs": [
    {
     "data": {
      "text/plain": [
       "84"
      ]
     },
     "execution_count": 105,
     "metadata": {},
     "output_type": "execute_result"
    }
   ],
   "source": [
    "len(grouped_final_df)"
   ]
  },
  {
   "cell_type": "code",
   "execution_count": 107,
   "metadata": {},
   "outputs": [
    {
     "name": "stdout",
     "output_type": "stream",
     "text": [
      "Analyzing category No.  84\n",
      "\n",
      "eBook Readers & Accessories←Electronics←root\n",
      "\n",
      "8273    Meebook E-Reader P78 Pro | 7.8” Eink Carta Screen 300PPI | Support Hand Writing | Built-in Adjustable Colour Temperature Light| Android 11 | Ouad Core | Support Google Play Store | 3GB+32GB | Grey\n",
      "8274                                               Kindle (2022 release) | The lightest and most compact Kindle, now with a 6\", 300 ppi high-resolution display and double the storage | Without ads | Denim\n",
      "8275                            FOREFRONT CASES Cover for Kindle Oasis 2019 | Magnetic Protective Case & Stand for All-new Kindle Oasis (10th Generation 2019 Release) | Elegant Slim Lightweight | Sky Blue\n",
      "8276    Ebook Reader Covers - Kindle Paperwhite 4 Case With Hand Strap (10Th Gen)2018 Fabric Smart Cover For Pq94Wif With Auto Sleep Wake, Slimshell Anti Drop Case, E Reader Accessory,Black,(10Th Gen)2018\n",
      "Name: title, dtype: object\n"
     ]
    }
   ],
   "source": [
    "pd.set_option('display.max_colwidth', None)\n",
    "count = 1\n",
    "grouped_final_df = list(final_df.groupby('categoryName'))\n",
    "i = 0\n",
    "while(i < len(grouped_final_df)):\n",
    "    category,group = grouped_final_df[i]\n",
    "    clear_output(wait=True)\n",
    "    print('Analyzing category No. ',i+1,end='\\n\\n')\n",
    "    print(cu.findPath(category_root= root,category_id = group['categoryId'].iloc[0],returnStringPath=True),end='\\n\\n')\n",
    "    print(group['title'].head(4))\n",
    "    x = int(input(\"Press any 1 to continue , 2 to go back\"))\n",
    "    if x == 1:\n",
    "        i = i+1\n",
    "    else:\n",
    "        i = i-1\n"
   ]
  },
  {
   "cell_type": "code",
   "execution_count": 117,
   "metadata": {},
   "outputs": [
    {
     "data": {
      "text/plain": [
       "(8373, 11)"
      ]
     },
     "execution_count": 117,
     "metadata": {},
     "output_type": "execute_result"
    }
   ],
   "source": [
    "final_df.shape"
   ]
  },
  {
   "cell_type": "code",
   "execution_count": 119,
   "metadata": {},
   "outputs": [],
   "source": [
    "final_df.reset_index(drop=True,inplace=True)\n",
    "# final_df.to_csv(get_path_to_prepared_sample_on_datasetUK(),index=False)"
   ]
  }
 ],
 "metadata": {
  "kernelspec": {
   "display_name": "venv",
   "language": "python",
   "name": "python3"
  },
  "language_info": {
   "codemirror_mode": {
    "name": "ipython",
    "version": 3
   },
   "file_extension": ".py",
   "mimetype": "text/x-python",
   "name": "python",
   "nbconvert_exporter": "python",
   "pygments_lexer": "ipython3",
   "version": "3.11.5"
  }
 },
 "nbformat": 4,
 "nbformat_minor": 2
}
