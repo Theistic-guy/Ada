{
 "cells": [
  {
   "cell_type": "code",
   "execution_count": 1,
   "metadata": {},
   "outputs": [],
   "source": [
    "import numpy as np\n",
    "import pandas as pd\n",
    "import matplotlib.pyplot as plt\n",
    "import seaborn as sns\n",
    "import pickle\n",
    "import aryaman.scripts.utils.category_utils as cu\n",
    "from aryaman.scripts.category.category  import category\n",
    "from aryaman.scripts.global_vars import *\n"
   ]
  },
  {
   "cell_type": "markdown",
   "metadata": {},
   "source": [
    "# The Devastator"
   ]
  },
  {
   "cell_type": "markdown",
   "metadata": {},
   "source": [
    "**Skincare, hair and detergents and like that**"
   ]
  },
  {
   "cell_type": "code",
   "execution_count": 2,
   "metadata": {},
   "outputs": [],
   "source": [
    "df_devastator = pd.read_csv(get_path_to_AmazonIndia_theDevastator())"
   ]
  },
  {
   "cell_type": "code",
   "execution_count": 3,
   "metadata": {},
   "outputs": [
    {
     "data": {
      "text/plain": [
       "Index(['index', 'Uniq Id', 'Crawl Timestamp', 'Category', 'Product Title',\n",
       "       'Product Description', 'Brand', 'Pack Size Or Quantity', 'Mrp', 'Price',\n",
       "       'Site Name', 'Offers', 'Combo Offers', 'Stock Availibility',\n",
       "       'Product Asin', 'Image Urls'],\n",
       "      dtype='object')"
      ]
     },
     "execution_count": 3,
     "metadata": {},
     "output_type": "execute_result"
    }
   ],
   "source": [
    "df_devastator.columns"
   ]
  },
  {
   "cell_type": "code",
   "execution_count": 4,
   "metadata": {},
   "outputs": [
    {
     "data": {
      "text/plain": [
       "array(['Skin Care', 'Grocery & Gourmet Foods', 'Bath & Shower',\n",
       "       'Fragrance', 'Hair Care', 'Detergents & Dishwash'], dtype=object)"
      ]
     },
     "execution_count": 4,
     "metadata": {},
     "output_type": "execute_result"
    }
   ],
   "source": [
    "df_devastator['Category'].unique()"
   ]
  },
  {
   "cell_type": "markdown",
   "metadata": {},
   "source": [
    "# Anirudh Singh Chauhan"
   ]
  },
  {
   "cell_type": "code",
   "execution_count": 5,
   "metadata": {},
   "outputs": [],
   "source": [
    "df_anirudh = pd.read_csv(get_path_to_AmazonIndia_anirudh_singh_chauhan(laptops=True))"
   ]
  },
  {
   "cell_type": "code",
   "execution_count": 6,
   "metadata": {},
   "outputs": [
    {
     "data": {
      "text/html": [
       "<div>\n",
       "<style scoped>\n",
       "    .dataframe tbody tr th:only-of-type {\n",
       "        vertical-align: middle;\n",
       "    }\n",
       "\n",
       "    .dataframe tbody tr th {\n",
       "        vertical-align: top;\n",
       "    }\n",
       "\n",
       "    .dataframe thead th {\n",
       "        text-align: right;\n",
       "    }\n",
       "</style>\n",
       "<table border=\"1\" class=\"dataframe\">\n",
       "  <thead>\n",
       "    <tr style=\"text-align: right;\">\n",
       "      <th></th>\n",
       "      <th>product</th>\n",
       "      <th>price</th>\n",
       "      <th>rating</th>\n",
       "      <th>rating_count</th>\n",
       "      <th>url</th>\n",
       "    </tr>\n",
       "  </thead>\n",
       "  <tbody>\n",
       "    <tr>\n",
       "      <th>0</th>\n",
       "      <td>Dell Inspiron 3502 15.6\" (39.62 cms) HD Displa...</td>\n",
       "      <td>40,126</td>\n",
       "      <td>4.2</td>\n",
       "      <td>230</td>\n",
       "      <td>https://www.amazon.in//gp/slredirect/picassoRe...</td>\n",
       "    </tr>\n",
       "    <tr>\n",
       "      <th>1</th>\n",
       "      <td>HP 15 (2021) AMD Ryzen 3-3250 8 GB RAM, 1TB HD...</td>\n",
       "      <td>42,499</td>\n",
       "      <td>4.2</td>\n",
       "      <td>1,725</td>\n",
       "      <td>https://www.amazon.in//gp/slredirect/picassoRe...</td>\n",
       "    </tr>\n",
       "    <tr>\n",
       "      <th>2</th>\n",
       "      <td>Acer Aspire 3 AMD Athlon Silver 3050U Dual-cor...</td>\n",
       "      <td>32,500</td>\n",
       "      <td>3.5</td>\n",
       "      <td>7</td>\n",
       "      <td>https://www.amazon.in//Acer-Aspire-Athlon-Dual...</td>\n",
       "    </tr>\n",
       "    <tr>\n",
       "      <th>3</th>\n",
       "      <td>Dell Inspiron 3502 15.6\" (39.62 cms) HD Displa...</td>\n",
       "      <td>40,126</td>\n",
       "      <td>4.2</td>\n",
       "      <td>230</td>\n",
       "      <td>https://www.amazon.in//Dell-Inspiron-Integrate...</td>\n",
       "    </tr>\n",
       "    <tr>\n",
       "      <th>4</th>\n",
       "      <td>HP Chromebook 14-inch (35.56 cms) Thin &amp; Light...</td>\n",
       "      <td>27,990</td>\n",
       "      <td>3.8</td>\n",
       "      <td>785</td>\n",
       "      <td>https://www.amazon.in//HP-Chromebook-14a-na000...</td>\n",
       "    </tr>\n",
       "    <tr>\n",
       "      <th>...</th>\n",
       "      <td>...</td>\n",
       "      <td>...</td>\n",
       "      <td>...</td>\n",
       "      <td>...</td>\n",
       "      <td>...</td>\n",
       "    </tr>\n",
       "    <tr>\n",
       "      <th>795</th>\n",
       "      <td>ASUS VivoBook 14 (2020) Intel Core i3-1005G1 1...</td>\n",
       "      <td>33,990</td>\n",
       "      <td>3.6</td>\n",
       "      <td>527</td>\n",
       "      <td>https://www.amazon.in//ASUS-VivoBook-i3-1005G1...</td>\n",
       "    </tr>\n",
       "    <tr>\n",
       "      <th>796</th>\n",
       "      <td>MI Notebook 14 (IC) Intel Core i5-10210U 10th ...</td>\n",
       "      <td>49,483</td>\n",
       "      <td>4.2</td>\n",
       "      <td>1,618</td>\n",
       "      <td>https://www.amazon.in//gp/slredirect/picassoRe...</td>\n",
       "    </tr>\n",
       "    <tr>\n",
       "      <th>797</th>\n",
       "      <td>ASUS VivoBook 14 (2020) Intel Core i3-1005G1 1...</td>\n",
       "      <td>35,990</td>\n",
       "      <td>3.6</td>\n",
       "      <td>527</td>\n",
       "      <td>https://www.amazon.in//gp/slredirect/picassoRe...</td>\n",
       "    </tr>\n",
       "    <tr>\n",
       "      <th>798</th>\n",
       "      <td>Mi Notebook Horizon Edition 14 Intel Core i7-1...</td>\n",
       "      <td>59,990</td>\n",
       "      <td>4.2</td>\n",
       "      <td>845</td>\n",
       "      <td>https://www.amazon.in//gp/slredirect/picassoRe...</td>\n",
       "    </tr>\n",
       "    <tr>\n",
       "      <th>799</th>\n",
       "      <td>HP 15 Thin &amp; Light 11th Gen Intel Core i5-1135...</td>\n",
       "      <td>57,490</td>\n",
       "      <td>3.9</td>\n",
       "      <td>506</td>\n",
       "      <td>https://www.amazon.in//gp/slredirect/picassoRe...</td>\n",
       "    </tr>\n",
       "  </tbody>\n",
       "</table>\n",
       "<p>800 rows × 5 columns</p>\n",
       "</div>"
      ],
      "text/plain": [
       "                                               product   price  rating  \\\n",
       "0    Dell Inspiron 3502 15.6\" (39.62 cms) HD Displa...  40,126     4.2   \n",
       "1    HP 15 (2021) AMD Ryzen 3-3250 8 GB RAM, 1TB HD...  42,499     4.2   \n",
       "2    Acer Aspire 3 AMD Athlon Silver 3050U Dual-cor...  32,500     3.5   \n",
       "3    Dell Inspiron 3502 15.6\" (39.62 cms) HD Displa...  40,126     4.2   \n",
       "4    HP Chromebook 14-inch (35.56 cms) Thin & Light...  27,990     3.8   \n",
       "..                                                 ...     ...     ...   \n",
       "795  ASUS VivoBook 14 (2020) Intel Core i3-1005G1 1...  33,990     3.6   \n",
       "796  MI Notebook 14 (IC) Intel Core i5-10210U 10th ...  49,483     4.2   \n",
       "797  ASUS VivoBook 14 (2020) Intel Core i3-1005G1 1...  35,990     3.6   \n",
       "798  Mi Notebook Horizon Edition 14 Intel Core i7-1...  59,990     4.2   \n",
       "799  HP 15 Thin & Light 11th Gen Intel Core i5-1135...  57,490     3.9   \n",
       "\n",
       "    rating_count                                                url  \n",
       "0            230  https://www.amazon.in//gp/slredirect/picassoRe...  \n",
       "1          1,725  https://www.amazon.in//gp/slredirect/picassoRe...  \n",
       "2              7  https://www.amazon.in//Acer-Aspire-Athlon-Dual...  \n",
       "3            230  https://www.amazon.in//Dell-Inspiron-Integrate...  \n",
       "4            785  https://www.amazon.in//HP-Chromebook-14a-na000...  \n",
       "..           ...                                                ...  \n",
       "795          527  https://www.amazon.in//ASUS-VivoBook-i3-1005G1...  \n",
       "796        1,618  https://www.amazon.in//gp/slredirect/picassoRe...  \n",
       "797          527  https://www.amazon.in//gp/slredirect/picassoRe...  \n",
       "798          845  https://www.amazon.in//gp/slredirect/picassoRe...  \n",
       "799          506  https://www.amazon.in//gp/slredirect/picassoRe...  \n",
       "\n",
       "[800 rows x 5 columns]"
      ]
     },
     "execution_count": 6,
     "metadata": {},
     "output_type": "execute_result"
    }
   ],
   "source": [
    "df_anirudh"
   ]
  },
  {
   "cell_type": "markdown",
   "metadata": {},
   "source": [
    "*important for specific products , finally got laptops and mobiles*"
   ]
  },
  {
   "cell_type": "markdown",
   "metadata": {},
   "source": [
    "# Gaurav Rajesh Sahani "
   ]
  },
  {
   "cell_type": "code",
   "execution_count": 7,
   "metadata": {},
   "outputs": [],
   "source": [
    "df_gaurav = pd.read_csv(get_path_to_AmazonIndia_gauravRajeshSahani(train=True))"
   ]
  },
  {
   "cell_type": "code",
   "execution_count": 8,
   "metadata": {},
   "outputs": [],
   "source": [
    "x= pd.Series(df_gaurav['Category'].unique())\n",
    "x.reset_index(drop=True,inplace=True)\n",
    "# x.to_csv('gaurav_categories.csv',index=False)"
   ]
  },
  {
   "cell_type": "markdown",
   "metadata": {},
   "source": [
    "**categories are confusing and not satifactory**"
   ]
  },
  {
   "cell_type": "markdown",
   "metadata": {},
   "source": [
    "# PromptCloud"
   ]
  },
  {
   "cell_type": "code",
   "execution_count": 9,
   "metadata": {},
   "outputs": [],
   "source": [
    "df_promptcloud = pd.read_csv(get_path_to_AmazonIndia_promptCloud())"
   ]
  },
  {
   "cell_type": "code",
   "execution_count": 10,
   "metadata": {},
   "outputs": [
    {
     "data": {
      "text/html": [
       "<div>\n",
       "<style scoped>\n",
       "    .dataframe tbody tr th:only-of-type {\n",
       "        vertical-align: middle;\n",
       "    }\n",
       "\n",
       "    .dataframe tbody tr th {\n",
       "        vertical-align: top;\n",
       "    }\n",
       "\n",
       "    .dataframe thead th {\n",
       "        text-align: right;\n",
       "    }\n",
       "</style>\n",
       "<table border=\"1\" class=\"dataframe\">\n",
       "  <thead>\n",
       "    <tr style=\"text-align: right;\">\n",
       "      <th></th>\n",
       "      <th>Uniq Id</th>\n",
       "      <th>Crawl Timestamp</th>\n",
       "      <th>Site Name</th>\n",
       "      <th>Category</th>\n",
       "      <th>Product Title</th>\n",
       "      <th>Product Description</th>\n",
       "      <th>Brand</th>\n",
       "      <th>Pack Size Or Quantity</th>\n",
       "      <th>Mrp</th>\n",
       "      <th>Price</th>\n",
       "      <th>Offers</th>\n",
       "      <th>Combo Offers</th>\n",
       "      <th>Stock Availibility</th>\n",
       "      <th>Image Urls</th>\n",
       "    </tr>\n",
       "  </thead>\n",
       "  <tbody>\n",
       "    <tr>\n",
       "      <th>0</th>\n",
       "      <td>f0b68a06debc9253226d6a029b065f38</td>\n",
       "      <td>2019-07-08 23:18:39 +0000</td>\n",
       "      <td>Amazon In</td>\n",
       "      <td>Make up</td>\n",
       "      <td>Homely 100pcs/bag Japan Rough Triangle Metal ...</td>\n",
       "      <td>Item Type: Rhinestone &amp; Decoration, Weight: 5g...</td>\n",
       "      <td>Homely</td>\n",
       "      <td>NaN</td>\n",
       "      <td>1017.00</td>\n",
       "      <td>678.00</td>\n",
       "      <td>33.33%</td>\n",
       "      <td>NaN</td>\n",
       "      <td>YES</td>\n",
       "      <td>https://images-na.ssl-images-amazon.com/images...</td>\n",
       "    </tr>\n",
       "    <tr>\n",
       "      <th>1</th>\n",
       "      <td>3100ab4692077d37b288e1e2da1bb601</td>\n",
       "      <td>2019-07-09 02:39:29 +0000</td>\n",
       "      <td>Amazon In</td>\n",
       "      <td>Make up</td>\n",
       "      <td>Fashlady™ F019: 2 Folhas De Lavanda Flor Etiq...</td>\n",
       "      <td>Tipo de item: adesivo &amp; decalque, estilo: flow...</td>\n",
       "      <td>FashladyTM</td>\n",
       "      <td>NaN</td>\n",
       "      <td>1949.00</td>\n",
       "      <td>1299.00</td>\n",
       "      <td>33.35%</td>\n",
       "      <td>NaN</td>\n",
       "      <td>YES</td>\n",
       "      <td>https://images-na.ssl-images-amazon.com/images...</td>\n",
       "    </tr>\n",
       "    <tr>\n",
       "      <th>2</th>\n",
       "      <td>b8f4d3a59d5c366d3ccaa94760887d78</td>\n",
       "      <td>2019-07-09 06:31:44 +0000</td>\n",
       "      <td>Amazon In</td>\n",
       "      <td>Make up</td>\n",
       "      <td>Fashlady™ 1 Sheet Nailmad Diamond Heart Nail ...</td>\n",
       "      <td>Item type: sticker &amp; decal, quantity: 1 sheet,...</td>\n",
       "      <td>FashladyTM</td>\n",
       "      <td>NaN</td>\n",
       "      <td>1949.00</td>\n",
       "      <td>1299.00</td>\n",
       "      <td>33.35%</td>\n",
       "      <td>NaN</td>\n",
       "      <td>YES</td>\n",
       "      <td>https://images-na.ssl-images-amazon.com/images...</td>\n",
       "    </tr>\n",
       "    <tr>\n",
       "      <th>3</th>\n",
       "      <td>2e0dfeb33b2484a154693a1353d716f5</td>\n",
       "      <td>2019-07-17 13:36:57 +0000</td>\n",
       "      <td>Amazon In</td>\n",
       "      <td>Bath &amp; Shower</td>\n",
       "      <td>Fa Coconut Water Shower Gel - 250ml</td>\n",
       "      <td>Fa Coconut Water Shower Gel - 250ml\\n\\t\\t\\t\\t ...</td>\n",
       "      <td>Fa</td>\n",
       "      <td>499 g</td>\n",
       "      <td>595.00</td>\n",
       "      <td>495.00</td>\n",
       "      <td>16.81%</td>\n",
       "      <td>NaN</td>\n",
       "      <td>YES</td>\n",
       "      <td>https://images-na.ssl-images-amazon.com/images...</td>\n",
       "    </tr>\n",
       "    <tr>\n",
       "      <th>4</th>\n",
       "      <td>1f41d00d574e35e0636798d24051005c</td>\n",
       "      <td>2019-07-08 19:49:29 +0000</td>\n",
       "      <td>Amazon In</td>\n",
       "      <td>Make up</td>\n",
       "      <td>Veena OTwoO Brush Set Soft And Easy To Wear P...</td>\n",
       "      <td>Item type makeup tool kit brand name otwoo qua...</td>\n",
       "      <td>Veena</td>\n",
       "      <td>NaN</td>\n",
       "      <td>1506.40</td>\n",
       "      <td>1065.00</td>\n",
       "      <td>29.3%</td>\n",
       "      <td>NaN</td>\n",
       "      <td>YES</td>\n",
       "      <td>https://images-na.ssl-images-amazon.com/images...</td>\n",
       "    </tr>\n",
       "  </tbody>\n",
       "</table>\n",
       "</div>"
      ],
      "text/plain": [
       "                            Uniq Id            Crawl Timestamp  Site Name  \\\n",
       "0  f0b68a06debc9253226d6a029b065f38  2019-07-08 23:18:39 +0000  Amazon In   \n",
       "1  3100ab4692077d37b288e1e2da1bb601  2019-07-09 02:39:29 +0000  Amazon In   \n",
       "2  b8f4d3a59d5c366d3ccaa94760887d78  2019-07-09 06:31:44 +0000  Amazon In   \n",
       "3  2e0dfeb33b2484a154693a1353d716f5  2019-07-17 13:36:57 +0000  Amazon In   \n",
       "4  1f41d00d574e35e0636798d24051005c  2019-07-08 19:49:29 +0000  Amazon In   \n",
       "\n",
       "        Category                                      Product Title  \\\n",
       "0        Make up   Homely 100pcs/bag Japan Rough Triangle Metal ...   \n",
       "1        Make up   Fashlady™ F019: 2 Folhas De Lavanda Flor Etiq...   \n",
       "2        Make up   Fashlady™ 1 Sheet Nailmad Diamond Heart Nail ...   \n",
       "3  Bath & Shower               Fa Coconut Water Shower Gel - 250ml    \n",
       "4        Make up   Veena OTwoO Brush Set Soft And Easy To Wear P...   \n",
       "\n",
       "                                 Product Description       Brand  \\\n",
       "0  Item Type: Rhinestone & Decoration, Weight: 5g...      Homely   \n",
       "1  Tipo de item: adesivo & decalque, estilo: flow...  FashladyTM   \n",
       "2  Item type: sticker & decal, quantity: 1 sheet,...  FashladyTM   \n",
       "3  Fa Coconut Water Shower Gel - 250ml\\n\\t\\t\\t\\t ...          Fa   \n",
       "4  Item type makeup tool kit brand name otwoo qua...       Veena   \n",
       "\n",
       "  Pack Size Or Quantity      Mrp    Price  Offers Combo Offers  \\\n",
       "0                   NaN  1017.00   678.00  33.33%          NaN   \n",
       "1                   NaN  1949.00  1299.00  33.35%          NaN   \n",
       "2                   NaN  1949.00  1299.00  33.35%          NaN   \n",
       "3                 499 g   595.00   495.00  16.81%          NaN   \n",
       "4                   NaN  1506.40  1065.00   29.3%          NaN   \n",
       "\n",
       "  Stock Availibility                                         Image Urls  \n",
       "0                YES  https://images-na.ssl-images-amazon.com/images...  \n",
       "1                YES  https://images-na.ssl-images-amazon.com/images...  \n",
       "2                YES  https://images-na.ssl-images-amazon.com/images...  \n",
       "3                YES  https://images-na.ssl-images-amazon.com/images...  \n",
       "4                YES  https://images-na.ssl-images-amazon.com/images...  "
      ]
     },
     "execution_count": 10,
     "metadata": {},
     "output_type": "execute_result"
    }
   ],
   "source": [
    "df_promptcloud.head(5)"
   ]
  },
  {
   "cell_type": "markdown",
   "metadata": {},
   "source": [
    "# Asasnicka"
   ]
  },
  {
   "cell_type": "code",
   "execution_count": 11,
   "metadata": {},
   "outputs": [],
   "source": [
    "df_asasnicka = pd.read_csv(get_path_to_AmazonIndia_asasnicka(),nrows=10000)"
   ]
  },
  {
   "cell_type": "code",
   "execution_count": 12,
   "metadata": {},
   "outputs": [
    {
     "data": {
      "text/plain": [
       "array(['पुरुषों के हैट्स और कैप्स', 'पुरुषों की धोती', 'बालों की देखभाल'],\n",
       "      dtype=object)"
      ]
     },
     "execution_count": 12,
     "metadata": {},
     "output_type": "execute_result"
    }
   ],
   "source": [
    "\n",
    "df_asasnicka['categoryName'].unique()"
   ]
  },
  {
   "cell_type": "markdown",
   "metadata": {},
   "source": [
    "***i guess all of them are hindi, don't want to do translation hassle***"
   ]
  },
  {
   "cell_type": "markdown",
   "metadata": {},
   "source": [
    "# Web Scraping and Categories Analysis"
   ]
  },
  {
   "cell_type": "code",
   "execution_count": 13,
   "metadata": {},
   "outputs": [],
   "source": [
    "root = cu.load_tree_obj()"
   ]
  },
  {
   "cell_type": "code",
   "execution_count": 14,
   "metadata": {},
   "outputs": [
    {
     "name": "stdout",
     "output_type": "stream",
     "text": [
      "Appliances\n",
      "Arts, Crafts & Sewing\n",
      "Automotive\n",
      "Baby Products\n",
      "Beauty & Personal Care\n",
      "Books\n",
      "CDs & Vinyl\n",
      "Cell Phones & Accessories\n",
      "Clothing, Shoes & Jewelry\n",
      "Electronics\n",
      "Grocery & Gourmet Food\n",
      "Health & Household\n",
      "Home & Kitchen\n",
      "Industrial & Scientific\n",
      "Movies & TV\n",
      "Musical Instruments\n",
      "Office Products\n",
      "Patio, Lawn & Garden\n",
      "Pet Supplies\n",
      "Sports & Outdoors\n",
      "Tools & Home Improvement\n",
      "Toys & Games\n",
      "Video Games\n"
     ]
    }
   ],
   "source": [
    "root.print_sub_categories()"
   ]
  },
  {
   "cell_type": "code",
   "execution_count": 54,
   "metadata": {},
   "outputs": [
    {
     "data": {
      "text/plain": [
       "[('Appliances', 1),\n",
       " ('Arts, Crafts & Sewing', 2),\n",
       " ('Automotive', 3),\n",
       " ('Baby Products', 4),\n",
       " ('Beauty & Personal Care', 5),\n",
       " ('Books', 6),\n",
       " ('CDs & Vinyl', 7),\n",
       " ('Cell Phones & Accessories', 8),\n",
       " ('Clothing, Shoes & Jewelry', 9),\n",
       " ('Electronics', 10),\n",
       " ('Grocery & Gourmet Food', 11),\n",
       " ('Health & Household', 12),\n",
       " ('Home & Kitchen', 13),\n",
       " ('Industrial & Scientific', 14),\n",
       " ('Movies & TV', 15),\n",
       " ('Musical Instruments', 16),\n",
       " ('Office Products', 17),\n",
       " ('Patio, Lawn & Garden', 18),\n",
       " ('Pet Supplies', 19),\n",
       " ('Sports & Outdoors', 20),\n",
       " ('Tools & Home Improvement', 21),\n",
       " ('Toys & Games', 22),\n",
       " ('Video Games', 23)]"
      ]
     },
     "execution_count": 54,
     "metadata": {},
     "output_type": "execute_result"
    }
   ],
   "source": [
    "\n",
    "cu.findSubCategories(root,0)"
   ]
  },
  {
   "cell_type": "code",
   "execution_count": 55,
   "metadata": {},
   "outputs": [],
   "source": [
    "selected_column_ids = [4,5,6,9,10,13,20]\n",
    "selected_columns = [cu.map_id_to_name(x) for x in selected_column_ids]"
   ]
  },
  {
   "cell_type": "code",
   "execution_count": 57,
   "metadata": {},
   "outputs": [
    {
     "data": {
      "text/plain": [
       "['Baby Products',\n",
       " 'Beauty & Personal Care',\n",
       " 'Books',\n",
       " 'Clothing, Shoes & Jewelry',\n",
       " 'Electronics',\n",
       " 'Home & Kitchen',\n",
       " 'Sports & Outdoors']"
      ]
     },
     "execution_count": 57,
     "metadata": {},
     "output_type": "execute_result"
    }
   ],
   "source": [
    "selected_columns"
   ]
  },
  {
   "cell_type": "markdown",
   "metadata": {},
   "source": [
    "<span style='font-size:24px'>Selected main categories are \n",
    "'Baby Products',\n",
    " 'Beauty & Personal Care',\n",
    " 'Books',\n",
    " 'Clothing, Shoes & Jewelry',\n",
    " 'Electronics',\n",
    " 'Home & Kitchen',\n",
    " 'Sports & Outdoors'</span>"
   ]
  },
  {
   "cell_type": "code",
   "execution_count": null,
   "metadata": {},
   "outputs": [],
   "source": []
  }
 ],
 "metadata": {
  "kernelspec": {
   "display_name": "venv",
   "language": "python",
   "name": "python3"
  },
  "language_info": {
   "codemirror_mode": {
    "name": "ipython",
    "version": 3
   },
   "file_extension": ".py",
   "mimetype": "text/x-python",
   "name": "python",
   "nbconvert_exporter": "python",
   "pygments_lexer": "ipython3",
   "version": "3.11.5"
  }
 },
 "nbformat": 4,
 "nbformat_minor": 2
}
