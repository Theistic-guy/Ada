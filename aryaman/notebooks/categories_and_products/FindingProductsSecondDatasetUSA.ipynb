{
 "cells": [
  {
   "cell_type": "code",
   "execution_count": 1,
   "metadata": {},
   "outputs": [],
   "source": [
    "import numpy as np\n",
    "import pandas as pd\n",
    "import matplotlib.pyplot as plt\n",
    "import seaborn as sns\n",
    "import pickle\n",
    "import aryaman.scripts.utils.category_utils as cu\n",
    "from aryaman.scripts.category.category  import category\n",
    "from aryaman.scripts.global_vars import *\n"
   ]
  },
  {
   "cell_type": "code",
   "execution_count": 2,
   "metadata": {},
   "outputs": [],
   "source": [
    "df_products = pd.read_csv(get_paths_to_amazon_second_dataset(products_dataset=True))"
   ]
  },
  {
   "cell_type": "code",
   "execution_count": 3,
   "metadata": {},
   "outputs": [],
   "source": [
    "df_categories_kaggle_csv = pd.read_csv(get_paths_to_amazon_second_dataset(categories_id_name_dataset=True))"
   ]
  },
  {
   "cell_type": "code",
   "execution_count": 4,
   "metadata": {},
   "outputs": [
    {
     "data": {
      "text/plain": [
       "np.False_"
      ]
     },
     "execution_count": 4,
     "metadata": {},
     "output_type": "execute_result"
    }
   ],
   "source": [
    "df_products['category_id'].isin([np.nan,'nan','NaN']).any()"
   ]
  },
  {
   "cell_type": "code",
   "execution_count": 5,
   "metadata": {},
   "outputs": [],
   "source": [
    "merged_df = df_products.merge(df_categories_kaggle_csv,left_on='category_id',right_on='id',how='left')"
   ]
  },
  {
   "cell_type": "code",
   "execution_count": 6,
   "metadata": {},
   "outputs": [
    {
     "data": {
      "text/plain": [
       "(248,)"
      ]
     },
     "execution_count": 6,
     "metadata": {},
     "output_type": "execute_result"
    }
   ],
   "source": [
    "merged_df['category_name'].unique().shape"
   ]
  },
  {
   "cell_type": "code",
   "execution_count": 7,
   "metadata": {},
   "outputs": [],
   "source": [
    "category_names_ = cu.read_category_name_id_from_csv()"
   ]
  },
  {
   "cell_type": "code",
   "execution_count": 8,
   "metadata": {},
   "outputs": [],
   "source": [
    "final_df = merged_df[merged_df['category_name'].isin(category_names_['name'])]"
   ]
  },
  {
   "cell_type": "code",
   "execution_count": 9,
   "metadata": {},
   "outputs": [
    {
     "data": {
      "text/plain": [
       "(218,)"
      ]
     },
     "execution_count": 9,
     "metadata": {},
     "output_type": "execute_result"
    }
   ],
   "source": [
    "final_df['category_name'].unique().shape"
   ]
  },
  {
   "cell_type": "code",
   "execution_count": 10,
   "metadata": {},
   "outputs": [
    {
     "data": {
      "text/html": [
       "<div>\n",
       "<style scoped>\n",
       "    .dataframe tbody tr th:only-of-type {\n",
       "        vertical-align: middle;\n",
       "    }\n",
       "\n",
       "    .dataframe tbody tr th {\n",
       "        vertical-align: top;\n",
       "    }\n",
       "\n",
       "    .dataframe thead th {\n",
       "        text-align: right;\n",
       "    }\n",
       "</style>\n",
       "<table border=\"1\" class=\"dataframe\">\n",
       "  <thead>\n",
       "    <tr style=\"text-align: right;\">\n",
       "      <th></th>\n",
       "      <th>asin</th>\n",
       "      <th>title</th>\n",
       "      <th>imgUrl</th>\n",
       "      <th>productURL</th>\n",
       "      <th>stars</th>\n",
       "      <th>reviews</th>\n",
       "      <th>price</th>\n",
       "      <th>listPrice</th>\n",
       "      <th>category_id</th>\n",
       "      <th>isBestSeller</th>\n",
       "      <th>boughtInLastMonth</th>\n",
       "      <th>id</th>\n",
       "      <th>category_name</th>\n",
       "    </tr>\n",
       "  </thead>\n",
       "  <tbody>\n",
       "    <tr>\n",
       "      <th>0</th>\n",
       "      <td>B014TMV5YE</td>\n",
       "      <td>Sion Softside Expandable Roller Luggage, Black...</td>\n",
       "      <td>https://m.media-amazon.com/images/I/815dLQKYIY...</td>\n",
       "      <td>https://www.amazon.com/dp/B014TMV5YE</td>\n",
       "      <td>4.5</td>\n",
       "      <td>0</td>\n",
       "      <td>139.99</td>\n",
       "      <td>0.00</td>\n",
       "      <td>104</td>\n",
       "      <td>False</td>\n",
       "      <td>2000</td>\n",
       "      <td>104</td>\n",
       "      <td>Suitcases</td>\n",
       "    </tr>\n",
       "    <tr>\n",
       "      <th>1</th>\n",
       "      <td>B07GDLCQXV</td>\n",
       "      <td>Luggage Sets Expandable PC+ABS Durable Suitcas...</td>\n",
       "      <td>https://m.media-amazon.com/images/I/81bQlm7vf6...</td>\n",
       "      <td>https://www.amazon.com/dp/B07GDLCQXV</td>\n",
       "      <td>4.5</td>\n",
       "      <td>0</td>\n",
       "      <td>169.99</td>\n",
       "      <td>209.99</td>\n",
       "      <td>104</td>\n",
       "      <td>False</td>\n",
       "      <td>1000</td>\n",
       "      <td>104</td>\n",
       "      <td>Suitcases</td>\n",
       "    </tr>\n",
       "    <tr>\n",
       "      <th>2</th>\n",
       "      <td>B07XSCCZYG</td>\n",
       "      <td>Platinum Elite Softside Expandable Checked Lug...</td>\n",
       "      <td>https://m.media-amazon.com/images/I/71EA35zvJB...</td>\n",
       "      <td>https://www.amazon.com/dp/B07XSCCZYG</td>\n",
       "      <td>4.6</td>\n",
       "      <td>0</td>\n",
       "      <td>365.49</td>\n",
       "      <td>429.99</td>\n",
       "      <td>104</td>\n",
       "      <td>False</td>\n",
       "      <td>300</td>\n",
       "      <td>104</td>\n",
       "      <td>Suitcases</td>\n",
       "    </tr>\n",
       "    <tr>\n",
       "      <th>3</th>\n",
       "      <td>B08MVFKGJM</td>\n",
       "      <td>Freeform Hardside Expandable with Double Spinn...</td>\n",
       "      <td>https://m.media-amazon.com/images/I/91k6NYLQyI...</td>\n",
       "      <td>https://www.amazon.com/dp/B08MVFKGJM</td>\n",
       "      <td>4.6</td>\n",
       "      <td>0</td>\n",
       "      <td>291.59</td>\n",
       "      <td>354.37</td>\n",
       "      <td>104</td>\n",
       "      <td>False</td>\n",
       "      <td>400</td>\n",
       "      <td>104</td>\n",
       "      <td>Suitcases</td>\n",
       "    </tr>\n",
       "    <tr>\n",
       "      <th>4</th>\n",
       "      <td>B01DJLKZBA</td>\n",
       "      <td>Winfield 2 Hardside Expandable Luggage with Sp...</td>\n",
       "      <td>https://m.media-amazon.com/images/I/61NJoaZcP9...</td>\n",
       "      <td>https://www.amazon.com/dp/B01DJLKZBA</td>\n",
       "      <td>4.5</td>\n",
       "      <td>0</td>\n",
       "      <td>174.99</td>\n",
       "      <td>309.99</td>\n",
       "      <td>104</td>\n",
       "      <td>False</td>\n",
       "      <td>400</td>\n",
       "      <td>104</td>\n",
       "      <td>Suitcases</td>\n",
       "    </tr>\n",
       "    <tr>\n",
       "      <th>5</th>\n",
       "      <td>B07XSCD2R4</td>\n",
       "      <td>Maxlite 5 Softside Expandable Luggage with 4 S...</td>\n",
       "      <td>https://m.media-amazon.com/images/I/61LnBNsSBS...</td>\n",
       "      <td>https://www.amazon.com/dp/B07XSCD2R4</td>\n",
       "      <td>4.5</td>\n",
       "      <td>0</td>\n",
       "      <td>144.49</td>\n",
       "      <td>0.00</td>\n",
       "      <td>104</td>\n",
       "      <td>False</td>\n",
       "      <td>500</td>\n",
       "      <td>104</td>\n",
       "      <td>Suitcases</td>\n",
       "    </tr>\n",
       "    <tr>\n",
       "      <th>6</th>\n",
       "      <td>B07MXF4G8K</td>\n",
       "      <td>Hard Shell Carry on Luggage Airline Approved, ...</td>\n",
       "      <td>https://m.media-amazon.com/images/I/71CghLYrnA...</td>\n",
       "      <td>https://www.amazon.com/dp/B07MXF4G8K</td>\n",
       "      <td>4.5</td>\n",
       "      <td>0</td>\n",
       "      <td>169.99</td>\n",
       "      <td>0.00</td>\n",
       "      <td>104</td>\n",
       "      <td>False</td>\n",
       "      <td>400</td>\n",
       "      <td>104</td>\n",
       "      <td>Suitcases</td>\n",
       "    </tr>\n",
       "    <tr>\n",
       "      <th>7</th>\n",
       "      <td>B07H515VCZ</td>\n",
       "      <td>Maxporter II 30\" Hardside Spinner Trunk Luggag...</td>\n",
       "      <td>https://m.media-amazon.com/images/I/81f3h+YHOX...</td>\n",
       "      <td>https://www.amazon.com/dp/B07H515VCZ</td>\n",
       "      <td>4.5</td>\n",
       "      <td>0</td>\n",
       "      <td>299.99</td>\n",
       "      <td>0.00</td>\n",
       "      <td>104</td>\n",
       "      <td>False</td>\n",
       "      <td>100</td>\n",
       "      <td>104</td>\n",
       "      <td>Suitcases</td>\n",
       "    </tr>\n",
       "    <tr>\n",
       "      <th>8</th>\n",
       "      <td>B08BXBCNMQ</td>\n",
       "      <td>Omni 2 Hardside Expandable Luggage with Spinne...</td>\n",
       "      <td>https://m.media-amazon.com/images/I/91eOWP4myS...</td>\n",
       "      <td>https://www.amazon.com/dp/B08BXBCNMQ</td>\n",
       "      <td>4.5</td>\n",
       "      <td>0</td>\n",
       "      <td>112.63</td>\n",
       "      <td>137.04</td>\n",
       "      <td>104</td>\n",
       "      <td>False</td>\n",
       "      <td>500</td>\n",
       "      <td>104</td>\n",
       "      <td>Suitcases</td>\n",
       "    </tr>\n",
       "    <tr>\n",
       "      <th>9</th>\n",
       "      <td>B0B9K44XTS</td>\n",
       "      <td>Luggage Sets Expandable Lightweight Suitcases ...</td>\n",
       "      <td>https://m.media-amazon.com/images/I/81dsv5GrCL...</td>\n",
       "      <td>https://www.amazon.com/dp/B0B9K44XTS</td>\n",
       "      <td>4.4</td>\n",
       "      <td>0</td>\n",
       "      <td>209.99</td>\n",
       "      <td>0.00</td>\n",
       "      <td>104</td>\n",
       "      <td>False</td>\n",
       "      <td>200</td>\n",
       "      <td>104</td>\n",
       "      <td>Suitcases</td>\n",
       "    </tr>\n",
       "  </tbody>\n",
       "</table>\n",
       "</div>"
      ],
      "text/plain": [
       "         asin                                              title  \\\n",
       "0  B014TMV5YE  Sion Softside Expandable Roller Luggage, Black...   \n",
       "1  B07GDLCQXV  Luggage Sets Expandable PC+ABS Durable Suitcas...   \n",
       "2  B07XSCCZYG  Platinum Elite Softside Expandable Checked Lug...   \n",
       "3  B08MVFKGJM  Freeform Hardside Expandable with Double Spinn...   \n",
       "4  B01DJLKZBA  Winfield 2 Hardside Expandable Luggage with Sp...   \n",
       "5  B07XSCD2R4  Maxlite 5 Softside Expandable Luggage with 4 S...   \n",
       "6  B07MXF4G8K  Hard Shell Carry on Luggage Airline Approved, ...   \n",
       "7  B07H515VCZ  Maxporter II 30\" Hardside Spinner Trunk Luggag...   \n",
       "8  B08BXBCNMQ  Omni 2 Hardside Expandable Luggage with Spinne...   \n",
       "9  B0B9K44XTS  Luggage Sets Expandable Lightweight Suitcases ...   \n",
       "\n",
       "                                              imgUrl  \\\n",
       "0  https://m.media-amazon.com/images/I/815dLQKYIY...   \n",
       "1  https://m.media-amazon.com/images/I/81bQlm7vf6...   \n",
       "2  https://m.media-amazon.com/images/I/71EA35zvJB...   \n",
       "3  https://m.media-amazon.com/images/I/91k6NYLQyI...   \n",
       "4  https://m.media-amazon.com/images/I/61NJoaZcP9...   \n",
       "5  https://m.media-amazon.com/images/I/61LnBNsSBS...   \n",
       "6  https://m.media-amazon.com/images/I/71CghLYrnA...   \n",
       "7  https://m.media-amazon.com/images/I/81f3h+YHOX...   \n",
       "8  https://m.media-amazon.com/images/I/91eOWP4myS...   \n",
       "9  https://m.media-amazon.com/images/I/81dsv5GrCL...   \n",
       "\n",
       "                             productURL  stars  reviews   price  listPrice  \\\n",
       "0  https://www.amazon.com/dp/B014TMV5YE    4.5        0  139.99       0.00   \n",
       "1  https://www.amazon.com/dp/B07GDLCQXV    4.5        0  169.99     209.99   \n",
       "2  https://www.amazon.com/dp/B07XSCCZYG    4.6        0  365.49     429.99   \n",
       "3  https://www.amazon.com/dp/B08MVFKGJM    4.6        0  291.59     354.37   \n",
       "4  https://www.amazon.com/dp/B01DJLKZBA    4.5        0  174.99     309.99   \n",
       "5  https://www.amazon.com/dp/B07XSCD2R4    4.5        0  144.49       0.00   \n",
       "6  https://www.amazon.com/dp/B07MXF4G8K    4.5        0  169.99       0.00   \n",
       "7  https://www.amazon.com/dp/B07H515VCZ    4.5        0  299.99       0.00   \n",
       "8  https://www.amazon.com/dp/B08BXBCNMQ    4.5        0  112.63     137.04   \n",
       "9  https://www.amazon.com/dp/B0B9K44XTS    4.4        0  209.99       0.00   \n",
       "\n",
       "   category_id  isBestSeller  boughtInLastMonth   id category_name  \n",
       "0          104         False               2000  104     Suitcases  \n",
       "1          104         False               1000  104     Suitcases  \n",
       "2          104         False                300  104     Suitcases  \n",
       "3          104         False                400  104     Suitcases  \n",
       "4          104         False                400  104     Suitcases  \n",
       "5          104         False                500  104     Suitcases  \n",
       "6          104         False                400  104     Suitcases  \n",
       "7          104         False                100  104     Suitcases  \n",
       "8          104         False                500  104     Suitcases  \n",
       "9          104         False                200  104     Suitcases  "
      ]
     },
     "execution_count": 10,
     "metadata": {},
     "output_type": "execute_result"
    }
   ],
   "source": [
    "final_df.head(10)"
   ]
  },
  {
   "cell_type": "code",
   "execution_count": 17,
   "metadata": {},
   "outputs": [],
   "source": [
    "pd.Series(final_df['category_name'].unique()).to_csv('hello.csv')"
   ]
  }
 ],
 "metadata": {
  "kernelspec": {
   "display_name": "venv",
   "language": "python",
   "name": "python3"
  },
  "language_info": {
   "codemirror_mode": {
    "name": "ipython",
    "version": 3
   },
   "file_extension": ".py",
   "mimetype": "text/x-python",
   "name": "python",
   "nbconvert_exporter": "python",
   "pygments_lexer": "ipython3",
   "version": "3.11.5"
  }
 },
 "nbformat": 4,
 "nbformat_minor": 2
}
