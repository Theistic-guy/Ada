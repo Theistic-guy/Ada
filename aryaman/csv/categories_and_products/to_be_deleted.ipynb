{
 "cells": [
  {
   "cell_type": "code",
   "execution_count": 1,
   "id": "8307f838",
   "metadata": {},
   "outputs": [],
   "source": [
    "import pandas as pd"
   ]
  },
  {
   "cell_type": "code",
   "execution_count": 2,
   "id": "19bb31b2",
   "metadata": {},
   "outputs": [],
   "source": [
    "df = pd.read_csv(r\"C:\\Users\\aryam\\Documents\\ML\\Ada_E_Comm\\Ada\\aryaman\\csv\\categories_and_products\\products.csv\",encoding='utf-8')"
   ]
  },
  {
   "cell_type": "code",
   "execution_count": 3,
   "id": "80c29bab",
   "metadata": {},
   "outputs": [
    {
     "data": {
      "text/plain": [
       "array(['Baby Products', 'Beauty & Personal Care', 'Books',\n",
       "       'Clothing , Shoes & Jewelry', 'Electronics', 'Home & Kitchen',\n",
       "       'Sports & Outdoors'], dtype=object)"
      ]
     },
     "execution_count": 3,
     "metadata": {},
     "output_type": "execute_result"
    }
   ],
   "source": [
    "df['Main Category'].unique()"
   ]
  },
  {
   "cell_type": "code",
   "execution_count": 10,
   "id": "f4e2447d",
   "metadata": {},
   "outputs": [
    {
     "data": {
      "text/plain": [
       "array(['Fitness Equipment', 'Running Shoes', 'Yoga Mats',\n",
       "       'Sportswear for Men', 'Sportswear for Women',\n",
       "       'Bicycles & Cycling Accessories', 'Swimming Gear',\n",
       "       'Cricket Bats & Balls', 'Badminton Racquets & Shuttlecocks',\n",
       "       'Footballs & Accessories', 'Gym Gloves & Accessories',\n",
       "       'Water Bottles & Shakers'], dtype=object)"
      ]
     },
     "execution_count": 10,
     "metadata": {},
     "output_type": "execute_result"
    }
   ],
   "source": [
    "df[df['Main Category']==\"Sports & Outdoors\"]['Tag'].unique()"
   ]
  },
  {
   "cell_type": "code",
   "execution_count": null,
   "id": "4c97c764",
   "metadata": {},
   "outputs": [],
   "source": [
    "'Fitness Equipment'\n",
    "'Running Shoes'\n",
    "'Yoga Mats'\n",
    "'Sportswear for Men'\n",
    "'Sportswear for Women'\n",
    "'Bicycles & Cycling Accessories'\n",
    "'Swimming Gear'\n",
    "'Cricket Bats & Balls'\n",
    "'Badminton Racquets & Shuttlecocks'\n",
    "'Footballs & Accessories'\n",
    "'Gym Gloves & Accessories'\n",
    "'Water Bottles & Shakers'"
   ]
  }
 ],
 "metadata": {
  "kernelspec": {
   "display_name": "venv",
   "language": "python",
   "name": "python3"
  },
  "language_info": {
   "codemirror_mode": {
    "name": "ipython",
    "version": 3
   },
   "file_extension": ".py",
   "mimetype": "text/x-python",
   "name": "python",
   "nbconvert_exporter": "python",
   "pygments_lexer": "ipython3",
   "version": "3.11.5"
  }
 },
 "nbformat": 4,
 "nbformat_minor": 5
}
